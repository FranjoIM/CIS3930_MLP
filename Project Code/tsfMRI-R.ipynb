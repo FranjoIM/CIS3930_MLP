{
 "cells": [
  {
   "cell_type": "markdown",
   "id": "d174be9b-8cad-4b79-ad45-a454fb4e0989",
   "metadata": {},
   "source": [
    "# tsfMRI Kernel Preprocessing"
   ]
  },
  {
   "cell_type": "code",
   "execution_count": null,
   "id": "445bd9c3-577b-4c7f-9f39-b83d81c0f1c3",
   "metadata": {},
   "outputs": [],
   "source": [
    "# Set working directory\n",
    "setwd(\"./WorkDir\")\n",
    "\n",
    "# Create holding directory for preprocessed datasets\n",
    "if (!dir.exists(\"./CSI/Preprocessed\")) {dir.create(\"./CSI/Preprocessed\")}\n",
    "\n",
    "# Load necessary libraries\n",
    "suppressPackageStartupMessages(library(tidyverse))"
   ]
  },
  {
   "cell_type": "markdown",
   "id": "4d48f2bd-96bb-487b-b626-b20b80d727fa",
   "metadata": {},
   "source": [
    "### MRI QC Raw: _mriqcrp_"
   ]
  },
  {
   "cell_type": "code",
   "execution_count": null,
   "id": "7b0857d1-8928-42b3-82f2-c6dae01c6bd0",
   "metadata": {},
   "outputs": [],
   "source": [
    "# Import partial mriqcrp data\n",
    "mriqcrp10301 <- read_delim(\"./ABCD_Data/mriqcrp10301.txt\", \n",
    "                           delim = \"\\t\", \n",
    "                           escape_double = FALSE, \n",
    "                           col_types = \"c\", \n",
    "                           trim_ws = TRUE, \n",
    "                           na = c(\"\", \"NA\"))[-1,]\n",
    "\n",
    "mriqcrp20301 <- read_delim(\"./ABCD_Data/mriqcrp20301.txt\", \n",
    "                           delim = \"\\t\", \n",
    "                           escape_double = FALSE, \n",
    "                           col_types = \"c\", \n",
    "                           trim_ws = TRUE, \n",
    "                           na = c(\"\", \"NA\"))[-1,]\n",
    "\n",
    "mriqcrp302 <- read_delim(\"./ABCD_Data/mriqcrp302.txt\", \n",
    "                         delim = \"\\t\", \n",
    "                         escape_double = FALSE, \n",
    "                         col_types = \"c\", \n",
    "                         trim_ws = TRUE, \n",
    "                         na = c(\"\", \"NA\"))[-1,]"
   ]
  },
  {
   "cell_type": "code",
   "execution_count": null,
   "id": "0ce41b75-02dc-4bd1-b859-25012edb43b8",
   "metadata": {},
   "outputs": [],
   "source": [
    "# Load partial mriqcrp data and join\n",
    "\n",
    "mriqcrp10301 <- mriqcrp10301 %>%\n",
    "    filter(eventname %in% c(\"baseline_year_1_arm_1\", \"1_year_follow_up_y_arm_1\", \"2_year_follow_up_y_arm_1\")) %>%\n",
    "    select(c(subjectkey, starts_with(\"iqc\")))\n",
    "\n",
    "mriqcrp20301 <- mriqcrp20301 %>%\n",
    "    filter(eventname %in% c(\"baseline_year_1_arm_1\", \"1_year_follow_up_y_arm_1\", \"2_year_follow_up_y_arm_1\")) %>%\n",
    "    select(c(subjectkey, starts_with(\"iqc\")))\n",
    "\n",
    "mriqcrp302 <- mriqcrp302 %>%\n",
    "    filter(eventname %in% c(\"baseline_year_1_arm_1\", \"1_year_follow_up_y_arm_1\", \"2_year_follow_up_y_arm_1\")) %>%\n",
    "    select(c(subjectkey, starts_with(\"iqc\")))\n",
    "\n",
    "mriqcrp <- mriqcrp10301 %>%\n",
    "    full_join(mriqcrp20301, by=c(\"subjectkey\"=\"subjectkey\")) %>%\n",
    "    full_join(mriqcrp302, by=c(\"subjectkey\"=\"subjectkey\"))"
   ]
  },
  {
   "cell_type": "code",
   "execution_count": null,
   "id": "950892d0-c6d8-4e91-866b-b50131abc744",
   "metadata": {},
   "outputs": [],
   "source": [
    "# Create a tsfMRI_mriqcrp subset\n",
    "tsfMRI_mriqcrp <- mriqcrp %>%\n",
    "    select(c(subjectkey, starts_with(\"iqc_mid_\"), starts_with(\"iqc_sst_\"), starts_with(\"iqc_nback_\"))) %>%\n",
    "    select(-c(ends_with(\"sub_02\"), ends_with(\"seriestime\"), ends_with(\"studydate\"), ends_with(\"seuid\"), ends_with(\"suid\"), ends_with(\"_date\"), ends_with(\"_time\"))) %>%\n",
    "    select(-matches(\"iqc_.{0,5}_\\\\d_.{0,}\")) %>%\n",
    "    mutate_at(., vars(contains(\"iqc_\")), as.numeric) %>%\n",
    "    group_by(subjectkey) %>%\n",
    "    summarise_at(., vars(contains(\"iqc_\")), mean, na.rm=T)\n",
    "\n",
    "dim(tsfMRI_mriqcrp)\n",
    "head(tsfMRI_mriqcrp)"
   ]
  },
  {
   "cell_type": "code",
   "execution_count": null,
   "id": "4790573c-f847-4576-a276-d381c3e2c4eb",
   "metadata": {},
   "outputs": [],
   "source": [
    "# Save tsfMRI_mriqcrp, remove intermediate files\n",
    "saveRDS(tsfMRI_mriqcrp, file=\"./CSI/Preprocessed/tsfMRI_mriqcrp.rds\")\n",
    "rm(mriqcrp, mriqcrp10301, mriqcrp20301, mriqcrp302)"
   ]
  },
  {
   "cell_type": "markdown",
   "id": "6d905ad2-f2b5-43ed-8659-859017ee95a7",
   "metadata": {},
   "source": [
    "### Automated Post-Processing QC Metrics: _postqc_"
   ]
  },
  {
   "cell_type": "code",
   "execution_count": null,
   "id": "01fcf6ea-5d37-41c1-974e-6589cca44d4d",
   "metadata": {},
   "outputs": [],
   "source": [
    "# Import partial postqc data\n",
    "postqc01 <- read_delim(\"./ABCD_Data/abcd_auto_postqc01.txt\", \n",
    "                           delim = \"\\t\", \n",
    "                           escape_double = FALSE, \n",
    "                           col_types = \"c\", \n",
    "                           trim_ws = TRUE, \n",
    "                           na = c(\"\", \"NA\"))[-1,]"
   ]
  },
  {
   "cell_type": "code",
   "execution_count": null,
   "id": "74b57b1d-e91c-40b1-9b3f-40939d2dd6ec",
   "metadata": {},
   "outputs": [],
   "source": [
    "# Create a tsfMRI_postqc subset\n",
    "tsfMRI_postqc <- postqc01 %>%\n",
    "    filter(eventname %in% c(\"baseline_year_1_arm_1\", \"1_year_follow_up_y_arm_1\", \"2_year_follow_up_y_arm_1\")) %>%\n",
    "    select(c(subjectkey, starts_with(\"apqc_fmri_\"))) %>%\n",
    "    mutate_at(., vars(starts_with(\"apqc_fmri_\")), as.numeric) %>%\n",
    "    group_by(subjectkey) %>%\n",
    "    summarise_at(., vars(starts_with(\"apqc_fmri_\")), mean, na.rm=T)\n",
    "\n",
    "dim(tsfMRI_postqc)\n",
    "head(tsfMRI_postqc)"
   ]
  },
  {
   "cell_type": "code",
   "execution_count": null,
   "id": "eb16ddf8-be8c-47be-9955-5fdba6ee28b6",
   "metadata": {},
   "outputs": [],
   "source": [
    "# Save tsfMRI_postqc, remove intermediate files\n",
    "saveRDS(tsfMRI_postqc, file=\"./CSI/Preprocessed/tsfMRI_postqc.rds\")\n",
    "rm(postqc01)"
   ]
  },
  {
   "cell_type": "markdown",
   "id": "bf284e33-48c4-4368-8ad8-c6d914e38a12",
   "metadata": {},
   "source": [
    "### Manual fMRI Post-Processing QC: _fmriqc_"
   ]
  },
  {
   "cell_type": "code",
   "execution_count": null,
   "id": "8c401fcc-0e98-487c-a525-717a8b5148cc",
   "metadata": {},
   "outputs": [],
   "source": [
    "# Import partial fmriqc data\n",
    "abcd_fmriqc01 <- read_delim(\"./ABCD_Data/abcd_fmriqc01.txt\", \n",
    "                           delim = \"\\t\", \n",
    "                           escape_double = FALSE, \n",
    "                           col_types = \"c\", \n",
    "                           trim_ws = TRUE, \n",
    "                           na = c(\"\", \"NA\"))[-1,]"
   ]
  },
  {
   "cell_type": "code",
   "execution_count": null,
   "id": "b4d67b1d-396b-4f08-ad3d-4f1d8418b8d1",
   "metadata": {},
   "outputs": [],
   "source": [
    "# Create a fmriqc subset\n",
    "fmriqc <- abcd_fmriqc01 %>%\n",
    "    filter(eventname %in% c(\"baseline_year_1_arm_1\", \"1_year_follow_up_y_arm_1\", \"2_year_follow_up_y_arm_1\")) %>%\n",
    "    select(c(subjectkey, starts_with(\"fmri_postqc_\"))) %>%\n",
    "    mutate_at(., vars(starts_with(\"fmri_postqc_\")), as.numeric) %>%\n",
    "    group_by(subjectkey) %>%\n",
    "    summarise_at(., vars(starts_with(\"fmri_postqc_\")), mean, na.rm=T)\n",
    "\n",
    "dim(fmriqc)\n",
    "head(fmriqc)"
   ]
  },
  {
   "cell_type": "code",
   "execution_count": null,
   "id": "1e6ab209-c6ab-4626-8f87-a95c9eaa49a2",
   "metadata": {},
   "outputs": [],
   "source": [
    "# Save fmriqc, remove intermediate files\n",
    "saveRDS(fmriqc, file=\"./CSI/Preprocessed/tsfMRI_fmriqc.rds\")\n",
    "rm(abcd_fmriqc01)"
   ]
  },
  {
   "cell_type": "markdown",
   "id": "eea42822-070d-45e9-b575-2631b6b1524a",
   "metadata": {},
   "source": [
    "### ABCD Task fMRI MID Average Beta Weights Destrieux Parcellations: _midabwdp_"
   ]
  },
  {
   "cell_type": "code",
   "execution_count": null,
   "id": "2aa1b1bd-f1f2-4f73-9567-d7bd85795a24",
   "metadata": {
    "tags": []
   },
   "outputs": [],
   "source": [
    "# Import partial midabwdp data\n",
    "abcd_midabwdp01 <- read_delim(\"./ABCD_Data/abcd_midabwdp01.txt\", \n",
    "                           delim = \"\\t\", \n",
    "                           escape_double = FALSE, \n",
    "                           col_types = \"c\", \n",
    "                           trim_ws = TRUE, \n",
    "                           na = c(\"\", \"NA\"))[-1,]\n",
    "\n",
    "abcd_midabwdp202 <- read_delim(\"./ABCD_Data/abcd_midabwdp202.txt\", \n",
    "                           delim = \"\\t\", \n",
    "                           escape_double = FALSE, \n",
    "                           col_types = \"c\", \n",
    "                           trim_ws = TRUE, \n",
    "                           na = c(\"\", \"NA\"))[-1,]\n",
    "\n",
    "midabwdp <- full_join(abcd_midabwdp01, abcd_midabwdp202, by = c(\"subjectkey\" = \"subjectkey\"))"
   ]
  },
  {
   "cell_type": "code",
   "execution_count": null,
   "id": "015f3e77-3bba-4ff0-b105-71eb852ee07d",
   "metadata": {},
   "outputs": [],
   "source": [
    "# Create a tsfMRI_midabwdp subset\n",
    "tsfMRI_midabwdp <- midabwdp %>%\n",
    "    filter(eventname.x %in% c(\"baseline_year_1_arm_1\", \"1_year_follow_up_y_arm_1\", \"2_year_follow_up_y_arm_1\")) %>%\n",
    "    select(c(subjectkey, starts_with(\"midab\"))) %>%\n",
    "    mutate_at(., vars(starts_with(\"midab\")), as.numeric) %>%\n",
    "    group_by(subjectkey) %>%\n",
    "    summarise_at(., vars(starts_with(\"midab\")), mean, na.rm=T)\n",
    "\n",
    "dim(tsfMRI_midabwdp)\n",
    "head(tsfMRI_midabwdp)"
   ]
  },
  {
   "cell_type": "code",
   "execution_count": null,
   "id": "9afe197b-d959-4ef2-abf5-fb25f75c3161",
   "metadata": {
    "tags": []
   },
   "outputs": [],
   "source": [
    "# Save tsfMRI_midabwdp, remove intermediate files\n",
    "saveRDS(tsfMRI_midabwdp, file=\"./CSI/Preprocessed/tsfMRI_midabwdp.rds\")\n",
    "rm(abcd_midabwdp01, abcd_midabwdp202, midabwdp)"
   ]
  },
  {
   "cell_type": "markdown",
   "id": "2f0ee71f-fff6-41eb-9be0-038171e129fa",
   "metadata": {},
   "source": [
    "### ABCD Task fMRI MID Average Beta Weights: _midaparc_"
   ]
  },
  {
   "cell_type": "code",
   "execution_count": null,
   "id": "07df2bbe-f79a-45cc-9c99-bdea0cc63149",
   "metadata": {
    "tags": []
   },
   "outputs": [],
   "source": [
    "# Import partial midaparc data\n",
    "midaparc03 <- read_delim(\"./ABCD_Data/midaparc03.txt\", \n",
    "                           delim = \"\\t\", \n",
    "                           escape_double = FALSE, \n",
    "                           col_types = \"c\", \n",
    "                           trim_ws = TRUE, \n",
    "                           na = c(\"\", \"NA\"))[-1,]\n",
    "\n",
    "midaparcp203 <- read_delim(\"./ABCD_Data/midaparcp203.txt\", \n",
    "                           delim = \"\\t\", \n",
    "                           escape_double = FALSE, \n",
    "                           col_types = \"c\", \n",
    "                           trim_ws = TRUE, \n",
    "                           na = c(\"\", \"NA\"))[-1,]\n",
    "\n",
    "midaparcp <- full_join(midaparc03, midaparcp203, by = c(\"subjectkey\" = \"subjectkey\"))"
   ]
  },
  {
   "cell_type": "code",
   "execution_count": null,
   "id": "e9868bbc-03c1-4de4-a8be-a4295b4420f2",
   "metadata": {},
   "outputs": [],
   "source": [
    "# Create a tsfMRI_midaparcp subset\n",
    "tsfMRI_midaparcp <- midaparcp %>%\n",
    "    filter(eventname.x %in% c(\"baseline_year_1_arm_1\", \"1_year_follow_up_y_arm_1\", \"2_year_follow_up_y_arm_1\")) %>%\n",
    "    select(c(subjectkey, starts_with(\"tfmri_\"))) %>%\n",
    "    select(-ends_with(\"_visitid\")) %>%\n",
    "    mutate_at(., vars(starts_with(\"tfmri_\")), as.numeric) %>%\n",
    "    group_by(subjectkey) %>%\n",
    "    summarise_at(., vars(starts_with(\"tfmri_\")), mean, na.rm=T)\n",
    "\n",
    "dim(tsfMRI_midaparcp)\n",
    "head(tsfMRI_midaparcp)"
   ]
  },
  {
   "cell_type": "code",
   "execution_count": null,
   "id": "a145aa58-86e5-47b6-88c6-307c58b9d363",
   "metadata": {},
   "outputs": [],
   "source": [
    "# Save tsfMRI_midaparcp, remove intermediate files\n",
    "saveRDS(tsfMRI_midaparcp, file=\"./CSI/Preprocessed/tsfMRI_midaparcp.rds\")\n",
    "rm(midaparcp, midaparc03, midaparcp203)"
   ]
  },
  {
   "cell_type": "markdown",
   "id": "358925d6-8cb6-48e7-af0f-4ad86c78cbbd",
   "metadata": {},
   "source": [
    "### ABCD Task fMRI MID Average SEM Destrieux Parcellations: _midasemdp_"
   ]
  },
  {
   "cell_type": "code",
   "execution_count": null,
   "id": "e9e67b05-e6ff-471f-a404-b6ebf02caff5",
   "metadata": {
    "tags": []
   },
   "outputs": [],
   "source": [
    "# Import partial midasemdp data\n",
    "abcd_midasemdp101 <- read_delim(\"./ABCD_Data/abcd_midasemdp101.txt\", \n",
    "                           delim = \"\\t\", \n",
    "                           escape_double = FALSE, \n",
    "                           col_types = \"c\", \n",
    "                           trim_ws = TRUE, \n",
    "                           na = c(\"\", \"NA\"))[-1,]\n",
    "\n",
    "abcd_midasemdp202 <- read_delim(\"./ABCD_Data/abcd_midasemdp202.txt\", \n",
    "                           delim = \"\\t\", \n",
    "                           escape_double = FALSE, \n",
    "                           col_types = \"c\", \n",
    "                           trim_ws = TRUE, \n",
    "                           na = c(\"\", \"NA\"))[-1,]\n",
    "\n",
    "midasemdp <- full_join(abcd_midasemdp101, abcd_midasemdp202, by = c(\"subjectkey\" = \"subjectkey\"))"
   ]
  },
  {
   "cell_type": "code",
   "execution_count": null,
   "id": "5d7605ea-5728-439e-9a8d-e27d88b86ab8",
   "metadata": {},
   "outputs": [],
   "source": [
    "# Create a tsfMRI_midasemdp subset\n",
    "tsfMRI_midasemdp <- midasemdp %>%\n",
    "    filter(eventname.x %in% c(\"baseline_year_1_arm_1\", \"1_year_follow_up_y_arm_1\", \"2_year_follow_up_y_arm_1\")) %>%\n",
    "    select(c(subjectkey, starts_with(\"midasemdp\"))) %>%\n",
    "    mutate_at(., vars(starts_with(\"midasemdp\")), as.numeric) %>%\n",
    "    group_by(subjectkey) %>%\n",
    "    summarise_at(., vars(starts_with(\"midasemdp\")), mean, na.rm=T)\n",
    "\n",
    "dim(tsfMRI_midasemdp)\n",
    "head(tsfMRI_midasemdp)"
   ]
  },
  {
   "cell_type": "code",
   "execution_count": null,
   "id": "196dfcb5-368e-4339-a1e7-e4a735d47493",
   "metadata": {},
   "outputs": [],
   "source": [
    "# Save tsfMRI_midasemdp, remove intermediate files\n",
    "saveRDS(tsfMRI_midasemdp, file=\"./CSI/Preprocessed/tsfMRI_midasemdp.rds\")\n",
    "rm(abcd_midasemdp101, abcd_midasemdp202, midasemdp)"
   ]
  },
  {
   "cell_type": "markdown",
   "id": "3544dddb-c398-4d1e-beb3-2fa446f1aa67",
   "metadata": {},
   "source": [
    "### ABCD Task fMRI MID Average Standard Error of the Mean: _midasemp_"
   ]
  },
  {
   "cell_type": "code",
   "execution_count": null,
   "id": "cdacbdc7-e3a3-4dd6-9221-66a3fcba2da2",
   "metadata": {
    "tags": []
   },
   "outputs": [],
   "source": [
    "# Import partial midasemp data\n",
    "abcd_midasemp102 <- read_delim(\"./ABCD_Data/abcd_midasemp102.txt\", \n",
    "                           delim = \"\\t\", \n",
    "                           escape_double = FALSE, \n",
    "                           col_types = \"c\", \n",
    "                           trim_ws = TRUE, \n",
    "                           na = c(\"\", \"NA\"))[-1,]\n",
    "\n",
    "abcd_midasemp202 <- read_delim(\"./ABCD_Data/abcd_midasemp202.txt\", \n",
    "                           delim = \"\\t\", \n",
    "                           escape_double = FALSE, \n",
    "                           col_types = \"c\", \n",
    "                           trim_ws = TRUE, \n",
    "                           na = c(\"\", \"NA\"))[-1,]\n",
    "\n",
    "midasemp <- full_join(abcd_midasemp102, abcd_midasemp202, by = c(\"subjectkey\" = \"subjectkey\"))"
   ]
  },
  {
   "cell_type": "code",
   "execution_count": null,
   "id": "5c289b46-b6a3-40f0-a07d-db5a1fe0823c",
   "metadata": {},
   "outputs": [],
   "source": [
    "# Create a tsfMRI_midasemp subset\n",
    "tsfMRI_midasemp <- midasemp %>%\n",
    "    filter(eventname.x %in% c(\"baseline_year_1_arm_1\", \"1_year_follow_up_y_arm_1\", \"2_year_follow_up_y_arm_1\")) %>%\n",
    "    select(c(subjectkey, starts_with(\"tfmri_\"))) %>%\n",
    "    select(-ends_with(\"_visitid\")) %>%\n",
    "    mutate_at(., vars(starts_with(\"tfmri_\")), as.numeric) %>%\n",
    "    group_by(subjectkey) %>%\n",
    "    summarise_at(., vars(starts_with(\"tfmri_\")), mean, na.rm=T)\n",
    "\n",
    "dim(tsfMRI_midasemp)\n",
    "head(tsfMRI_midasemp)"
   ]
  },
  {
   "cell_type": "code",
   "execution_count": null,
   "id": "ef73738b-86a0-47b5-b9d7-cc45b1bb8daa",
   "metadata": {},
   "outputs": [],
   "source": [
    "# Save tsfMRI_midasemp, remove intermediate files\n",
    "saveRDS(tsfMRI_midasemp, file=\"./CSI/Preprocessed/tsfMRI_midasemp.rds\")\n",
    "rm(abcd_midasemp102, abcd_midasemp202, midasemp)"
   ]
  },
  {
   "cell_type": "markdown",
   "id": "553a8a93-a0f0-4712-9e02-5a7877ed04cc",
   "metadata": {},
   "source": [
    "### ABCD Task fMRI MID Run 1 Beta Weights Destrieux Parcellations: _midr1bwdp_"
   ]
  },
  {
   "cell_type": "code",
   "execution_count": null,
   "id": "711e4da2-3f95-41a6-8178-84fa36fa97b2",
   "metadata": {
    "tags": []
   },
   "outputs": [],
   "source": [
    "# Import partial midr1bwdp data\n",
    "abcd_midr1bwdp101 <- read_delim(\"./ABCD_Data/abcd_midr1bwdp101.txt\", \n",
    "                           delim = \"\\t\", \n",
    "                           escape_double = FALSE, \n",
    "                           col_types = \"c\", \n",
    "                           trim_ws = TRUE, \n",
    "                           na = c(\"\", \"NA\"))[-1,]\n",
    "\n",
    "abcd_midr1bwdp202 <- read_delim(\"./ABCD_Data/abcd_midr1bwdp202.txt\", \n",
    "                           delim = \"\\t\", \n",
    "                           escape_double = FALSE, \n",
    "                           col_types = \"c\", \n",
    "                           trim_ws = TRUE, \n",
    "                           na = c(\"\", \"NA\"))[-1,]\n",
    "\n",
    "midr1bwdp <- full_join(abcd_midr1bwdp101, abcd_midr1bwdp202, by = c(\"subjectkey\" = \"subjectkey\"))"
   ]
  },
  {
   "cell_type": "code",
   "execution_count": null,
   "id": "4ed50a08-4baf-4550-8ad1-5507f60d0a3c",
   "metadata": {},
   "outputs": [],
   "source": [
    "# Create a tsfMRI_midr1bwdp subset\n",
    "tsfMRI_midr1bwdp <- midr1bwdp %>%\n",
    "    filter(eventname.x %in% c(\"baseline_year_1_arm_1\", \"1_year_follow_up_y_arm_1\", \"2_year_follow_up_y_arm_1\")) %>%\n",
    "    select(c(subjectkey, starts_with(\"tfmrimr1_\"))) %>%\n",
    "    mutate_at(., vars(starts_with(\"tfmrimr1_\")), as.numeric) %>%\n",
    "    group_by(subjectkey) %>%\n",
    "    summarise_at(., vars(starts_with(\"tfmrimr1_\")), mean, na.rm=T)\n",
    "\n",
    "dim(tsfMRI_midr1bwdp)\n",
    "head(tsfMRI_midr1bwdp)"
   ]
  },
  {
   "cell_type": "code",
   "execution_count": null,
   "id": "c72cf196-3f39-4691-9da2-a7839e6649c9",
   "metadata": {},
   "outputs": [],
   "source": [
    "# Save tsfMRI_midr1bwdp, remove intermediate files\n",
    "saveRDS(tsfMRI_midr1bwdp, file=\"./CSI/Preprocessed/tsfMRI_midr1bwdp.rds\")\n",
    "rm(abcd_midr1bwdp101, abcd_midr1bwdp202, midr1bwdp)"
   ]
  },
  {
   "cell_type": "markdown",
   "id": "e92aea84-6e33-4e0d-9bb9-74110e4c7923",
   "metadata": {},
   "source": [
    "### ABCD Task fMRI MID Run 1 Beta Weights: _midr1bwp_"
   ]
  },
  {
   "cell_type": "code",
   "execution_count": null,
   "id": "c2d4e4c0-4a1d-4781-8816-36a62eee339f",
   "metadata": {
    "tags": []
   },
   "outputs": [],
   "source": [
    "# Import partial midr1bwp data\n",
    "abcd_midr1bwp102 <- read_delim(\"./ABCD_Data/abcd_midr1bwp102.txt\", \n",
    "                           delim = \"\\t\", \n",
    "                           escape_double = FALSE, \n",
    "                           col_types = \"c\", \n",
    "                           trim_ws = TRUE, \n",
    "                           na = c(\"\", \"NA\"))[-1,]\n",
    "\n",
    "abcd_midr1bwp202 <- read_delim(\"./ABCD_Data/abcd_midr1bwp202.txt\", \n",
    "                           delim = \"\\t\", \n",
    "                           escape_double = FALSE, \n",
    "                           col_types = \"c\", \n",
    "                           trim_ws = TRUE, \n",
    "                           na = c(\"\", \"NA\"))[-1,]\n",
    "\n",
    "midr1bwp <- full_join(abcd_midr1bwp102, abcd_midr1bwp202, by = c(\"subjectkey\" = \"subjectkey\"))"
   ]
  },
  {
   "cell_type": "code",
   "execution_count": null,
   "id": "4517ece7-7bf9-45c7-9245-3c33a55d3bec",
   "metadata": {},
   "outputs": [],
   "source": [
    "# Create a tsfMRI_midr1bwp subset\n",
    "tsfMRI_midr1bwp <- midr1bwp %>%\n",
    "    filter(eventname.x %in% c(\"baseline_year_1_arm_1\", \"1_year_follow_up_y_arm_1\", \"2_year_follow_up_y_arm_1\")) %>%\n",
    "    select(c(subjectkey, starts_with(\"tfmri_\"))) %>%\n",
    "    select(-ends_with(\"_visitid\")) %>%\n",
    "    mutate_at(., vars(starts_with(\"tfmri_\")), as.numeric) %>%\n",
    "    group_by(subjectkey) %>%\n",
    "    summarise_at(., vars(starts_with(\"tfmri_\")), mean, na.rm=T)\n",
    "\n",
    "dim(tsfMRI_midr1bwp)\n",
    "head(tsfMRI_midr1bwp)"
   ]
  },
  {
   "cell_type": "code",
   "execution_count": null,
   "id": "2004802b-464d-468f-a3c3-9c2950aa6292",
   "metadata": {},
   "outputs": [],
   "source": [
    "# Save tsfMRI_midr1bwp, remove intermediate files\n",
    "saveRDS(tsfMRI_midr1bwp, file=\"./CSI/Preprocessed/tsfMRI_midr1bwp.rds\")\n",
    "rm(abcd_midr1bwp102, abcd_midr1bwp202, midr1bwp)"
   ]
  },
  {
   "cell_type": "markdown",
   "id": "b151be43-c907-4645-9983-bc6c0383bca8",
   "metadata": {},
   "source": [
    "### ABCD Task fMRI MID Run 1 SEM Destrieux Parcellations: _tmidr1semdp_"
   ]
  },
  {
   "cell_type": "code",
   "execution_count": null,
   "id": "f0e8feaa-3728-4d78-96bf-a26664d8ba0f",
   "metadata": {
    "tags": []
   },
   "outputs": [],
   "source": [
    "# Import partial tmidr1semdp data\n",
    "abcd_tmidr1semdp101 <- read_delim(\"./ABCD_Data/abcd_tmidr1semdp101.txt\", \n",
    "                           delim = \"\\t\", \n",
    "                           escape_double = FALSE, \n",
    "                           col_types = \"c\", \n",
    "                           trim_ws = TRUE, \n",
    "                           na = c(\"\", \"NA\"))[-1,]\n",
    "\n",
    "abcd_tmidr1semdp202 <- read_delim(\"./ABCD_Data/abcd_tmidr1semdp202.txt\", \n",
    "                           delim = \"\\t\", \n",
    "                           escape_double = FALSE, \n",
    "                           col_types = \"c\", \n",
    "                           trim_ws = TRUE, \n",
    "                           na = c(\"\", \"NA\"))[-1,]\n",
    "\n",
    "tmidr1semdp <- full_join(abcd_tmidr1semdp101, abcd_tmidr1semdp202, by = c(\"subjectkey\" = \"subjectkey\"))"
   ]
  },
  {
   "cell_type": "code",
   "execution_count": null,
   "id": "916a7cbf-d026-4614-bb6b-ab189bc88d13",
   "metadata": {},
   "outputs": [],
   "source": [
    "# Create a tsfMRI_tmidr1semdp subset\n",
    "tsfMRI_tmidr1semdp <- tmidr1semdp %>%\n",
    "    filter(eventname.x %in% c(\"baseline_year_1_arm_1\", \"1_year_follow_up_y_arm_1\", \"2_year_follow_up_y_arm_1\")) %>%\n",
    "    select(c(subjectkey, starts_with(\"tmidr1semdp_\"))) %>%\n",
    "    mutate_at(., vars(starts_with(\"tmidr1semdp_\")), as.numeric) %>%\n",
    "    group_by(subjectkey) %>%\n",
    "    summarise_at(., vars(starts_with(\"tmidr1semdp_\")), mean, na.rm=T)\n",
    "\n",
    "dim(tsfMRI_tmidr1semdp)\n",
    "head(tsfMRI_tmidr1semdp)"
   ]
  },
  {
   "cell_type": "code",
   "execution_count": null,
   "id": "d90db078-9065-4e5e-9d99-4bed1589a94b",
   "metadata": {},
   "outputs": [],
   "source": [
    "# Save tsfMRI_tmidr1semdp, remove intermediate files\n",
    "saveRDS(tsfMRI_tmidr1semdp, file=\"./CSI/Preprocessed/tsfMRI_tmidr1semdp.rds\")\n",
    "rm(abcd_tmidr1semdp101, abcd_tmidr1semdp202, tmidr1semdp)"
   ]
  },
  {
   "cell_type": "markdown",
   "id": "e400a55d-ba27-4929-9f1b-87f208f92df9",
   "metadata": {},
   "source": [
    "### ABCD Task fMRI MID Run 1 Standard Error of the Mean: _midsemp_"
   ]
  },
  {
   "cell_type": "code",
   "execution_count": null,
   "id": "6fd5d134-6d08-4ab2-a4e9-a3ddd277dc4f",
   "metadata": {
    "tags": []
   },
   "outputs": [],
   "source": [
    "# Import partial midsemp data\n",
    "abcd_midsemp102 <- read_delim(\"./ABCD_Data/abcd_midsemp102.txt\", \n",
    "                           delim = \"\\t\", \n",
    "                           escape_double = FALSE, \n",
    "                           col_types = \"c\", \n",
    "                           trim_ws = TRUE, \n",
    "                           na = c(\"\", \"NA\"))[-1,]\n",
    "\n",
    "abcd_midsemp202 <- read_delim(\"./ABCD_Data/abcd_midsemp202.txt\", \n",
    "                           delim = \"\\t\", \n",
    "                           escape_double = FALSE, \n",
    "                           col_types = \"c\", \n",
    "                           trim_ws = TRUE, \n",
    "                           na = c(\"\", \"NA\"))[-1,]\n",
    "\n",
    "midsemp <- full_join(abcd_midsemp102, abcd_midsemp202, by = c(\"subjectkey\" = \"subjectkey\"))"
   ]
  },
  {
   "cell_type": "code",
   "execution_count": null,
   "id": "b0588fce-8b79-4bd4-b40c-2f4f1264bbca",
   "metadata": {},
   "outputs": [],
   "source": [
    "# Create a tsfMRI_midsemp subset\n",
    "tsfMRI_midsemp <- midsemp %>%\n",
    "    filter(eventname.x %in% c(\"baseline_year_1_arm_1\", \"1_year_follow_up_y_arm_1\", \"2_year_follow_up_y_arm_1\")) %>%\n",
    "    select(c(subjectkey, starts_with(\"tfmri_\"))) %>%\n",
    "    select(-ends_with(\"_visitid\")) %>%\n",
    "    mutate_at(., vars(starts_with(\"tfmri_\")), as.numeric) %>%\n",
    "    group_by(subjectkey) %>%\n",
    "    summarise_at(., vars(starts_with(\"tfmri_\")), mean, na.rm=T)\n",
    "\n",
    "dim(tsfMRI_midsemp)\n",
    "head(tsfMRI_midsemp)"
   ]
  },
  {
   "cell_type": "code",
   "execution_count": null,
   "id": "5f60c57a-1424-4ae4-b6e4-13b7665ee815",
   "metadata": {},
   "outputs": [],
   "source": [
    "# Save tsfMRI_midsemp, remove intermediate files\n",
    "saveRDS(tsfMRI_midsemp, file=\"./CSI/Preprocessed/tsfMRI_midsemp.rds\")\n",
    "rm(abcd_midsemp102, abcd_midsemp202, midsemp)"
   ]
  },
  {
   "cell_type": "markdown",
   "id": "9b486fda-6e2c-4738-97fa-01565ff2dbc8",
   "metadata": {},
   "source": [
    "### ABCD Task fMRI MID Run 2 Beta Weights Destrieux Parcellations: _tr2bwdp_"
   ]
  },
  {
   "cell_type": "code",
   "execution_count": null,
   "id": "f9beaa1e-cde0-40ba-baa5-de7f697ce64a",
   "metadata": {
    "tags": []
   },
   "outputs": [],
   "source": [
    "# Import partial tr2bwdp data\n",
    "abcd_tr2bwdp01 <- read_delim(\"./ABCD_Data/abcd_tr2bwdp01.txt\", \n",
    "                           delim = \"\\t\", \n",
    "                           escape_double = FALSE, \n",
    "                           col_types = \"c\", \n",
    "                           trim_ws = TRUE, \n",
    "                           na = c(\"\", \"NA\"))[-1,]\n",
    "\n",
    "abcd_tr2bwdp202 <- read_delim(\"./ABCD_Data/abcd_tr2bwdp202.txt\", \n",
    "                           delim = \"\\t\", \n",
    "                           escape_double = FALSE, \n",
    "                           col_types = \"c\", \n",
    "                           trim_ws = TRUE, \n",
    "                           na = c(\"\", \"NA\"))[-1,]\n",
    "\n",
    "tr2bwdp <- full_join(abcd_tr2bwdp01, abcd_tr2bwdp202, by = c(\"subjectkey\" = \"subjectkey\"))"
   ]
  },
  {
   "cell_type": "code",
   "execution_count": null,
   "id": "d75d6f54-94cc-423a-bb74-26405459271d",
   "metadata": {},
   "outputs": [],
   "source": [
    "# Create a tsfMRI_tr2bwdp subset\n",
    "tsfMRI_tr2bwdp <- tr2bwdp %>%\n",
    "    filter(eventname.x %in% c(\"baseline_year_1_arm_1\", \"1_year_follow_up_y_arm_1\", \"2_year_follow_up_y_arm_1\")) %>%\n",
    "    select(c(subjectkey, starts_with(\"tr2bwdp_\"))) %>%\n",
    "    mutate_at(., vars(starts_with(\"tr2bwdp_\")), as.numeric) %>%\n",
    "    group_by(subjectkey) %>%\n",
    "    summarise_at(., vars(starts_with(\"tr2bwdp_\")), mean, na.rm=T)\n",
    "\n",
    "dim(tsfMRI_tr2bwdp)\n",
    "head(tsfMRI_tr2bwdp)"
   ]
  },
  {
   "cell_type": "code",
   "execution_count": null,
   "id": "aa41a1e0-0345-49f9-95f2-768e845d1081",
   "metadata": {},
   "outputs": [],
   "source": [
    "# Save tsfMRI_tr2bwdp, remove intermediate files\n",
    "saveRDS(tsfMRI_tr2bwdp, file=\"./CSI/Preprocessed/tsfMRI_tr2bwdp.rds\")\n",
    "rm(abcd_tr2bwdp01, abcd_tr2bwdp202, tr2bwdp)"
   ]
  },
  {
   "cell_type": "markdown",
   "id": "14bc2785-140f-4a06-a181-645e0e9e73bf",
   "metadata": {},
   "source": [
    "### ABCD Task fMRI MID Run 2 Beta Weights: _midr2bwp_"
   ]
  },
  {
   "cell_type": "code",
   "execution_count": null,
   "id": "d463d00b-5fb3-443e-a62b-65f5cb57674a",
   "metadata": {
    "tags": []
   },
   "outputs": [],
   "source": [
    "# Import partial midr2bwp data\n",
    "midr2bwp102 <- read_delim(\"./ABCD_Data/midr2bwp102.txt\", \n",
    "                           delim = \"\\t\", \n",
    "                           escape_double = FALSE, \n",
    "                           col_types = \"c\", \n",
    "                           trim_ws = TRUE, \n",
    "                           na = c(\"\", \"NA\"))[-1,]\n",
    "\n",
    "midr2bwp202 <- read_delim(\"./ABCD_Data/midr2bwp202.txt\", \n",
    "                           delim = \"\\t\", \n",
    "                           escape_double = FALSE, \n",
    "                           col_types = \"c\", \n",
    "                           trim_ws = TRUE, \n",
    "                           na = c(\"\", \"NA\"))[-1,]\n",
    "\n",
    "midr2bwp <- full_join(midr2bwp102, midr2bwp202, by = c(\"subjectkey\" = \"subjectkey\"))"
   ]
  },
  {
   "cell_type": "code",
   "execution_count": null,
   "id": "372d3594-ea22-4f8a-95d5-36e22e1ff281",
   "metadata": {},
   "outputs": [],
   "source": [
    "# Create a tsfMRI_midr2bwp subset\n",
    "tsfMRI_midr2bwp <- midr2bwp %>%\n",
    "    filter(eventname.x %in% c(\"baseline_year_1_arm_1\", \"1_year_follow_up_y_arm_1\", \"2_year_follow_up_y_arm_1\")) %>%\n",
    "    select(c(subjectkey, starts_with(\"tfmri_\"))) %>%\n",
    "    select(-ends_with(\"_visitid\")) %>%\n",
    "    mutate_at(., vars(starts_with(\"tfmri_\")), as.numeric) %>%\n",
    "    group_by(subjectkey) %>%\n",
    "    summarise_at(., vars(starts_with(\"tfmri_\")), mean, na.rm=T)\n",
    "\n",
    "dim(tsfMRI_midr2bwp)\n",
    "head(tsfMRI_midr2bwp)"
   ]
  },
  {
   "cell_type": "code",
   "execution_count": null,
   "id": "9d0a5fb0-5075-44ee-bd1f-550ada63cc03",
   "metadata": {},
   "outputs": [],
   "source": [
    "# Save tsfMRI_midr2bwp, remove intermediate files\n",
    "saveRDS(tsfMRI_midr2bwp, file=\"./CSI/Preprocessed/tsfMRI_midr2bwp.rds\")\n",
    "rm(midr2bwp102, midr2bwp202, midr2bwp)"
   ]
  },
  {
   "cell_type": "markdown",
   "id": "627a47bc-a1ae-48ea-a3c7-f528d0d5921d",
   "metadata": {},
   "source": [
    "### ABCD Task fMRI MID Run 2 SEM Destrieux Parcellations: _tr2semdp_"
   ]
  },
  {
   "cell_type": "code",
   "execution_count": null,
   "id": "8eab5bf6-bb74-4995-8440-14cdde22b4f4",
   "metadata": {
    "tags": []
   },
   "outputs": [],
   "source": [
    "# Import partial tr2semdp data\n",
    "abcd_tr2semdp101 <- read_delim(\"./ABCD_Data/abcd_tr2semdp101.txt\", \n",
    "                           delim = \"\\t\", \n",
    "                           escape_double = FALSE, \n",
    "                           col_types = \"c\", \n",
    "                           trim_ws = TRUE, \n",
    "                           na = c(\"\", \"NA\"))[-1,]\n",
    "\n",
    "abcd_tr2semdp202 <- read_delim(\"./ABCD_Data/abcd_tr2semdp202.txt\", \n",
    "                           delim = \"\\t\", \n",
    "                           escape_double = FALSE, \n",
    "                           col_types = \"c\", \n",
    "                           trim_ws = TRUE, \n",
    "                           na = c(\"\", \"NA\"))[-1,]\n",
    "\n",
    "tr2semdp <- full_join(abcd_tr2semdp101, abcd_tr2semdp202, by = c(\"subjectkey\" = \"subjectkey\"))"
   ]
  },
  {
   "cell_type": "code",
   "execution_count": null,
   "id": "ca9c458e-c1dd-4719-8c45-930c2b691a21",
   "metadata": {},
   "outputs": [],
   "source": [
    "# Create a tsfMRI_tr2semdp subset\n",
    "tsfMRI_tr2semdp <- tr2semdp %>%\n",
    "    filter(eventname.x %in% c(\"baseline_year_1_arm_1\", \"1_year_follow_up_y_arm_1\", \"2_year_follow_up_y_arm_1\")) %>%\n",
    "    select(c(subjectkey, starts_with(\"tr2semdp_\"))) %>%\n",
    "    mutate_at(., vars(starts_with(\"tr2semdp_\")), as.numeric) %>%\n",
    "    group_by(subjectkey) %>%\n",
    "    summarise_at(., vars(starts_with(\"tr2semdp_\")), mean, na.rm=T)\n",
    "\n",
    "dim(tsfMRI_tr2semdp)\n",
    "head(tsfMRI_tr2semdp)"
   ]
  },
  {
   "cell_type": "code",
   "execution_count": null,
   "id": "269ab40c-b5c5-4fa2-9c66-6d31f364df21",
   "metadata": {
    "tags": []
   },
   "outputs": [],
   "source": [
    "# Save tsfMRI_tr2semdp, remove intermediate files\n",
    "saveRDS(tsfMRI_tr2semdp, file=\"./CSI/Preprocessed/tsfMRI_tr2semdp.rds\")\n",
    "rm(abcd_tr2semdp101, abcd_tr2semdp202, tr2semdp)"
   ]
  },
  {
   "cell_type": "markdown",
   "id": "12517ffe-a763-41a9-b878-2c7f77b0255f",
   "metadata": {},
   "source": [
    "### ABCD Task fMRI MID Run 2 Standard Error of the Mean: _midr2semp_"
   ]
  },
  {
   "cell_type": "code",
   "execution_count": null,
   "id": "e2af3ff1-83a8-481a-9998-b200abb59b0d",
   "metadata": {
    "tags": []
   },
   "outputs": [],
   "source": [
    "# Import partial midr2semp data\n",
    "abcd_midr2semp102 <- read_delim(\"./ABCD_Data/abcd_midr2semp102.txt\", \n",
    "                           delim = \"\\t\", \n",
    "                           escape_double = FALSE, \n",
    "                           col_types = \"c\", \n",
    "                           trim_ws = TRUE, \n",
    "                           na = c(\"\", \"NA\"))[-1,]\n",
    "\n",
    "abcd_midr2semp202 <- read_delim(\"./ABCD_Data/abcd_midr2semp202.txt\", \n",
    "                           delim = \"\\t\", \n",
    "                           escape_double = FALSE, \n",
    "                           col_types = \"c\", \n",
    "                           trim_ws = TRUE, \n",
    "                           na = c(\"\", \"NA\"))[-1,]\n",
    "\n",
    "midr2semp <- full_join(abcd_midr2semp102, abcd_midr2semp202, by = c(\"subjectkey\" = \"subjectkey\"))"
   ]
  },
  {
   "cell_type": "code",
   "execution_count": null,
   "id": "a3c9deb0-90c0-4057-a1f3-a429221ef5db",
   "metadata": {},
   "outputs": [],
   "source": [
    "# Create a tsfMRI_midr2semp subset\n",
    "tsfMRI_midr2semp <- midr2semp %>%\n",
    "    filter(eventname.x %in% c(\"baseline_year_1_arm_1\", \"1_year_follow_up_y_arm_1\", \"2_year_follow_up_y_arm_1\")) %>%\n",
    "    select(c(subjectkey, starts_with(\"tfmri\"))) %>%\n",
    "    select(-ends_with(\"_visitid\")) %>%\n",
    "    mutate_at(., vars(starts_with(\"tfmri\")), as.numeric) %>%\n",
    "    group_by(subjectkey) %>%\n",
    "    summarise_at(., vars(starts_with(\"tfmri\")), mean, na.rm=T)\n",
    "\n",
    "dim(tsfMRI_midr2semp)\n",
    "head(tsfMRI_midr2semp)"
   ]
  },
  {
   "cell_type": "code",
   "execution_count": null,
   "id": "c3a55120-cb6f-4e71-847e-9b7fc2363d51",
   "metadata": {},
   "outputs": [],
   "source": [
    "# Save tsfMRI_midr2semp, remove intermediate files\n",
    "saveRDS(tsfMRI_midr2semp, file=\"./CSI/Preprocessed/tsfMRI_midr2semp.rds\")\n",
    "rm(abcd_midr2semp102, abcd_midr2semp202, midr2semp)"
   ]
  },
  {
   "cell_type": "markdown",
   "id": "58177844-6edd-48ff-b6da-b31b0b60e4b1",
   "metadata": {},
   "source": [
    "### ABCD Task fMRI SST Average Beta Weights: _mrisst02_"
   ]
  },
  {
   "cell_type": "code",
   "execution_count": null,
   "id": "19d43bb0-3b7d-452d-84ed-0de96dcf9d19",
   "metadata": {
    "tags": []
   },
   "outputs": [],
   "source": [
    "# Import partial mrisst02 data\n",
    "mrisst02 <- read_delim(\"./ABCD_Data/mrisst02.txt\", \n",
    "                           delim = \"\\t\", \n",
    "                           escape_double = FALSE, \n",
    "                           col_types = \"c\", \n",
    "                           trim_ws = TRUE, \n",
    "                           na = c(\"\", \"NA\"))[-1,]"
   ]
  },
  {
   "cell_type": "code",
   "execution_count": null,
   "id": "c3e6722e-4b84-4014-9074-7056504275f0",
   "metadata": {},
   "outputs": [],
   "source": [
    "# Create a mrisst02 subset\n",
    "tsfMRI_mrisst02 <- mrisst02 %>%\n",
    "    filter(eventname %in% c(\"baseline_year_1_arm_1\", \"1_year_follow_up_y_arm_1\", \"2_year_follow_up_y_arm_1\")) %>%\n",
    "    select(c(subjectkey, starts_with(\"tfmri\"))) %>%\n",
    "    select(-ends_with(\"_visitid\")) %>%\n",
    "    mutate_at(., vars(starts_with(\"tfmri\")), as.numeric) %>%\n",
    "    group_by(subjectkey) %>%\n",
    "    summarise_at(., vars(starts_with(\"tfmri\")), mean, na.rm=T)\n",
    "\n",
    "dim(tsfMRI_mrisst02)\n",
    "head(tsfMRI_mrisst02)"
   ]
  },
  {
   "cell_type": "code",
   "execution_count": null,
   "id": "56da8333-1ecf-422f-a47d-5fcbaa6450be",
   "metadata": {},
   "outputs": [],
   "source": [
    "# Save tsfMRI_mrisst02, remove intermediate files\n",
    "saveRDS(tsfMRI_mrisst02, file=\"./CSI/Preprocessed/tsfMRI_mrisst02.rds\")\n",
    "rm(mrisst02)"
   ]
  },
  {
   "cell_type": "markdown",
   "id": "3dd144c8-45fe-46a3-8442-47ae4a2924c8",
   "metadata": {},
   "source": [
    "### ABCD Task fMRI SST Average Beta Weights Destrieux Parcellations: _tfsstabwdp_"
   ]
  },
  {
   "cell_type": "code",
   "execution_count": null,
   "id": "c0e3affe-b822-48d6-a581-2f7c20b16074",
   "metadata": {
    "tags": []
   },
   "outputs": [],
   "source": [
    "# Import partial tfsstabwdp data\n",
    "abcd_tfsstabwdp101 <- read_delim(\"./ABCD_Data/abcd_tfsstabwdp101.txt\", \n",
    "                           delim = \"\\t\", \n",
    "                           escape_double = FALSE, \n",
    "                           col_types = \"c\", \n",
    "                           trim_ws = TRUE, \n",
    "                           na = c(\"\", \"NA\"))[-1,]\n",
    "\n",
    "abcd_tfsstabwdp201 <- read_delim(\"./ABCD_Data/abcd_tfsstabwdp201.txt\", \n",
    "                           delim = \"\\t\", \n",
    "                           escape_double = FALSE, \n",
    "                           col_types = \"c\", \n",
    "                           trim_ws = TRUE, \n",
    "                           na = c(\"\", \"NA\"))[-1,]\n",
    "\n",
    "tfsstabwdp <- full_join(abcd_tfsstabwdp101, abcd_tfsstabwdp201, by = c(\"subjectkey\" = \"subjectkey\"))"
   ]
  },
  {
   "cell_type": "code",
   "execution_count": null,
   "id": "400b41ba-0965-4822-a95e-04a77d0c8a94",
   "metadata": {},
   "outputs": [],
   "source": [
    "# Create a tsfMRI_tfsstabwdp subset\n",
    "tsfMRI_tfsstabwdp <- tfsstabwdp %>%\n",
    "    filter(eventname.x %in% c(\"baseline_year_1_arm_1\", \"1_year_follow_up_y_arm_1\", \"2_year_follow_up_y_arm_1\")) %>%\n",
    "    select(c(subjectkey, starts_with(\"tfsstabwdp_\"))) %>%\n",
    "    mutate_at(., vars(starts_with(\"tfsstabwdp_\")), as.numeric) %>%\n",
    "    group_by(subjectkey) %>%\n",
    "    summarise_at(., vars(starts_with(\"tfsstabwdp_\")), mean, na.rm=T)\n",
    "\n",
    "dim(tsfMRI_tfsstabwdp)\n",
    "head(tsfMRI_tfsstabwdp)"
   ]
  },
  {
   "cell_type": "code",
   "execution_count": null,
   "id": "4048b145-3a78-40dd-b196-0c939a9002cf",
   "metadata": {
    "tags": []
   },
   "outputs": [],
   "source": [
    "# Save tsfMRI_tfsstabwdp, remove intermediate files\n",
    "saveRDS(tsfMRI_tfsstabwdp, file=\"./CSI/Preprocessed/tsfMRI_tfsstabwdp.rds\")\n",
    "rm(abcd_tfsstabwdp101, abcd_tfsstabwdp201, tfsstabwdp)"
   ]
  },
  {
   "cell_type": "markdown",
   "id": "f0ab9a5c-3253-4aca-b658-6466d44ef0e5",
   "metadata": {},
   "source": [
    "### ABCD Task fMRI SST Average SEM Destrieux Parcellations: _tfsstasemdp_"
   ]
  },
  {
   "cell_type": "code",
   "execution_count": null,
   "id": "1b3d1651-ba89-484e-a126-d9417acfad1b",
   "metadata": {
    "tags": []
   },
   "outputs": [],
   "source": [
    "# Import partial tfsstabwdp data\n",
    "abcd_tfsstasemdp101 <- read_delim(\"./ABCD_Data/abcd_tfsstasemdp101.txt\", \n",
    "                           delim = \"\\t\", \n",
    "                           escape_double = FALSE, \n",
    "                           col_types = \"c\", \n",
    "                           trim_ws = TRUE, \n",
    "                           na = c(\"\", \"NA\"))[-1,]\n",
    "\n",
    "abcd_tfsstasemdp201 <- read_delim(\"./ABCD_Data/abcd_tfsstasemdp201.txt\", \n",
    "                           delim = \"\\t\", \n",
    "                           escape_double = FALSE, \n",
    "                           col_types = \"c\", \n",
    "                           trim_ws = TRUE, \n",
    "                           na = c(\"\", \"NA\"))[-1,]\n",
    "\n",
    "tfsstasemdp <- full_join(abcd_tfsstasemdp101, abcd_tfsstasemdp201, by = c(\"subjectkey\" = \"subjectkey\"))"
   ]
  },
  {
   "cell_type": "code",
   "execution_count": null,
   "id": "c98dd92d-4b5b-4784-acc2-e74469f17f3d",
   "metadata": {},
   "outputs": [],
   "source": [
    "# Create a tsfMRI_tfsstasemdp subset\n",
    "tsfMRI_tfsstasemdp <- tfsstasemdp %>%\n",
    "    filter(eventname.x %in% c(\"baseline_year_1_arm_1\", \"1_year_follow_up_y_arm_1\", \"2_year_follow_up_y_arm_1\")) %>%\n",
    "    select(c(subjectkey, starts_with(\"tfsstasemdp_\"))) %>%\n",
    "    mutate_at(., vars(starts_with(\"tfsstasemdp_\")), as.numeric) %>%\n",
    "    group_by(subjectkey) %>%\n",
    "    summarise_at(., vars(starts_with(\"tfsstasemdp_\")), mean, na.rm=T)\n",
    "\n",
    "dim(tsfMRI_tfsstasemdp)\n",
    "head(tsfMRI_tfsstasemdp)"
   ]
  },
  {
   "cell_type": "code",
   "execution_count": null,
   "id": "c0f3332d-d1ce-4ebb-8b14-21865fadf3bf",
   "metadata": {
    "tags": []
   },
   "outputs": [],
   "source": [
    "# Save tsfMRI_tfsstasemdp, remove intermediate files\n",
    "saveRDS(tsfMRI_tfsstasemdp, file=\"./CSI/Preprocessed/tsfMRI_tfsstasemdp.rds\")\n",
    "rm(abcd_tfsstasemdp101, abcd_tfsstasemdp201, tfsstasemdp)"
   ]
  },
  {
   "cell_type": "markdown",
   "id": "c29698b0-c66b-43b9-a27c-6058ef6d793d",
   "metadata": {},
   "source": [
    "### ABCD Task fMRI SST Average Standard Error of the Mean: _mrisstsem01_"
   ]
  },
  {
   "cell_type": "code",
   "execution_count": null,
   "id": "2a250e86-b3ff-40be-9077-78f48ef92e97",
   "metadata": {
    "tags": []
   },
   "outputs": [],
   "source": [
    "# Import partial mrisstsem01 data\n",
    "mrisstsem01 <- read_delim(\"./ABCD_Data/mrisstsem01.txt\", \n",
    "                           delim = \"\\t\", \n",
    "                           escape_double = FALSE, \n",
    "                           col_types = \"c\", \n",
    "                           trim_ws = TRUE, \n",
    "                           na = c(\"\", \"NA\"))[-1,]"
   ]
  },
  {
   "cell_type": "code",
   "execution_count": null,
   "id": "6935bb37-446a-4e39-b8a1-77c36cd2ec9e",
   "metadata": {
    "tags": []
   },
   "outputs": [],
   "source": [
    "# Create a tsfMRI_mrisstsem01 subset\n",
    "tsfMRI_mrisstsem01 <- mrisstsem01 %>%\n",
    "    filter(eventname %in% c(\"baseline_year_1_arm_1\", \"1_year_follow_up_y_arm_1\", \"2_year_follow_up_y_arm_1\")) %>%\n",
    "    select(c(subjectkey, starts_with(\"tfmri\"))) %>%\n",
    "    select(-ends_with(\"_visitid\")) %>%\n",
    "    mutate_at(., vars(starts_with(\"tfmri\")), as.numeric) %>%\n",
    "    group_by(subjectkey) %>%\n",
    "    summarise_at(., vars(starts_with(\"tfmri\")), mean, na.rm=T)\n",
    "\n",
    "dim(tsfMRI_mrisstsem01)\n",
    "head(tsfMRI_mrisstsem01)"
   ]
  },
  {
   "cell_type": "code",
   "execution_count": null,
   "id": "e5c5792f-93a7-4788-a27a-1948d86b234e",
   "metadata": {
    "tags": []
   },
   "outputs": [],
   "source": [
    "# Save tsfMRI_mrisstsem01, remove intermediate files\n",
    "saveRDS(tsfMRI_mrisstsem01, file=\"./CSI/Preprocessed/tsfMRI_mrisstsem01.rds\")\n",
    "rm(mrisstsem01)"
   ]
  },
  {
   "cell_type": "markdown",
   "id": "66162a6b-ed02-48c0-b4b9-f8457c674c74",
   "metadata": {},
   "source": [
    "### ABCD Task fMRI SST Run 1 Beta Weights: _mrisstr1bw01_"
   ]
  },
  {
   "cell_type": "code",
   "execution_count": null,
   "id": "7cad1e4e-64ff-408c-b98a-754320f84754",
   "metadata": {
    "tags": []
   },
   "outputs": [],
   "source": [
    "# Import partial mrisstr1bw01 data\n",
    "mrisstr1bw01 <- read_delim(\"./ABCD_Data/mrisstr1bw01.txt\", \n",
    "                           delim = \"\\t\", \n",
    "                           escape_double = FALSE, \n",
    "                           col_types = \"c\", \n",
    "                           trim_ws = TRUE, \n",
    "                           na = c(\"\", \"NA\"))[-1,]"
   ]
  },
  {
   "cell_type": "code",
   "execution_count": null,
   "id": "782bff2b-fe76-47c6-b185-c1fd942e97c2",
   "metadata": {
    "tags": []
   },
   "outputs": [],
   "source": [
    "# Create a tsfMRI_mrisstr1bw01 subset\n",
    "tsfMRI_mrisstr1bw01 <- mrisstr1bw01 %>%\n",
    "    filter(eventname %in% c(\"baseline_year_1_arm_1\", \"1_year_follow_up_y_arm_1\", \"2_year_follow_up_y_arm_1\")) %>%\n",
    "    select(c(subjectkey, starts_with(\"tfmri\"))) %>%\n",
    "    select(-ends_with(\"_visitid\")) %>%\n",
    "    mutate_at(., vars(starts_with(\"tfmri\")), as.numeric) %>%\n",
    "    group_by(subjectkey) %>%\n",
    "    summarise_at(., vars(starts_with(\"tfmri\")), mean, na.rm=T)\n",
    "\n",
    "dim(tsfMRI_mrisstr1bw01)\n",
    "head(tsfMRI_mrisstr1bw01)"
   ]
  },
  {
   "cell_type": "code",
   "execution_count": null,
   "id": "b7aef4d7-1481-4399-8681-d4bf35be0efe",
   "metadata": {
    "tags": []
   },
   "outputs": [],
   "source": [
    "# Save tsfMRI_mrisstr1bw01, remove intermediate files\n",
    "saveRDS(tsfMRI_mrisstr1bw01, file=\"./CSI/Preprocessed/tsfMRI_mrisstr1bw01.rds\")\n",
    "rm(mrisstr1bw01)"
   ]
  },
  {
   "cell_type": "markdown",
   "id": "b909241e-fc01-43bf-bca7-83357aa2b264",
   "metadata": {},
   "source": [
    "### ABCD Task fMRI SST Run 1 Beta Weights Destrieux Parcellations: _tfsstr1bwdp_"
   ]
  },
  {
   "cell_type": "code",
   "execution_count": null,
   "id": "687846d4-f421-492f-ad7f-6dd771426a4c",
   "metadata": {
    "tags": []
   },
   "outputs": [],
   "source": [
    "# Import partial tfsstr1bwdp data\n",
    "abcd_tfsstr1bwdp101 <- read_delim(\"./ABCD_Data/abcd_tfsstr1bwdp101.txt\", \n",
    "                           delim = \"\\t\", \n",
    "                           escape_double = FALSE, \n",
    "                           col_types = \"c\", \n",
    "                           trim_ws = TRUE, \n",
    "                           na = c(\"\", \"NA\"))[-1,]\n",
    "\n",
    "abcd_tfsstr1bwdp201 <- read_delim(\"./ABCD_Data/abcd_tfsstr1bwdp201.txt\", \n",
    "                           delim = \"\\t\", \n",
    "                           escape_double = FALSE, \n",
    "                           col_types = \"c\", \n",
    "                           trim_ws = TRUE, \n",
    "                           na = c(\"\", \"NA\"))[-1,]\n",
    "\n",
    "tfsstr1bwdp <- full_join(abcd_tfsstr1bwdp101, abcd_tfsstr1bwdp201, by = c(\"subjectkey\" = \"subjectkey\"))"
   ]
  },
  {
   "cell_type": "code",
   "execution_count": null,
   "id": "809ceca1-fb98-435d-85b7-046fcee02172",
   "metadata": {},
   "outputs": [],
   "source": [
    "# Create a tsfMRI_tfsstr1bwdp subset\n",
    "tsfMRI_tfsstr1bwdp <- tfsstr1bwdp %>%\n",
    "    filter(eventname.x %in% c(\"baseline_year_1_arm_1\", \"1_year_follow_up_y_arm_1\", \"2_year_follow_up_y_arm_1\")) %>%\n",
    "    select(c(subjectkey, starts_with(\"tfsstr1bwdp_\"))) %>%\n",
    "    mutate_at(., vars(starts_with(\"tfsstr1bwdp_\")), as.numeric) %>%\n",
    "    group_by(subjectkey) %>%\n",
    "    summarise_at(., vars(starts_with(\"tfsstr1bwdp_\")), mean, na.rm=T)\n",
    "\n",
    "dim(tsfMRI_tfsstr1bwdp)\n",
    "head(tsfMRI_tfsstr1bwdp)"
   ]
  },
  {
   "cell_type": "code",
   "execution_count": null,
   "id": "3febf5f8-7550-4541-898d-3d1adce0d60d",
   "metadata": {
    "tags": []
   },
   "outputs": [],
   "source": [
    "# Save tsfMRI_tfsstr1bwdp, remove intermediate files\n",
    "saveRDS(tsfMRI_tfsstr1bwdp, file=\"./CSI/Preprocessed/tsfMRI_tfsstr1bwdp.rds\")\n",
    "rm(abcd_tfsstr1bwdp101, abcd_tfsstr1bwdp201, tfsstr1bwdp)"
   ]
  },
  {
   "cell_type": "markdown",
   "id": "908208c9-277b-4e0f-b7bf-35ff0714440e",
   "metadata": {},
   "source": [
    "### ABCD Task fMRI SST Run 1 SEM Destrieux Parcellations: _tfsstr1semdp_"
   ]
  },
  {
   "cell_type": "code",
   "execution_count": null,
   "id": "1d8a5c20-cb38-4ecb-9a25-0b9ae20ad1cc",
   "metadata": {
    "tags": []
   },
   "outputs": [],
   "source": [
    "# Import partial tfsstr1semdp data\n",
    "abcd_tfsstr1semdp101 <- read_delim(\"./ABCD_Data/abcd_tfsstr1semdp101.txt\", \n",
    "                           delim = \"\\t\", \n",
    "                           escape_double = FALSE, \n",
    "                           col_types = \"c\", \n",
    "                           trim_ws = TRUE, \n",
    "                           na = c(\"\", \"NA\"))[-1,]\n",
    "\n",
    "abcd_tfsstr1semdp201 <- read_delim(\"./ABCD_Data/abcd_tfsstr1semdp201.txt\", \n",
    "                           delim = \"\\t\", \n",
    "                           escape_double = FALSE, \n",
    "                           col_types = \"c\", \n",
    "                           trim_ws = TRUE, \n",
    "                           na = c(\"\", \"NA\"))[-1,]\n",
    "\n",
    "tfsstr1semdp <- full_join(abcd_tfsstr1semdp101, abcd_tfsstr1semdp201, by = c(\"subjectkey\" = \"subjectkey\"))"
   ]
  },
  {
   "cell_type": "code",
   "execution_count": null,
   "id": "dbdade40-732c-4a9b-b190-77d8170bcdbe",
   "metadata": {},
   "outputs": [],
   "source": [
    "# Create a tsfMRI_tfsstr1semdp subset\n",
    "tsfMRI_tfsstr1semdp <- tfsstr1semdp %>%\n",
    "    filter(eventname.x %in% c(\"baseline_year_1_arm_1\", \"1_year_follow_up_y_arm_1\", \"2_year_follow_up_y_arm_1\")) %>%\n",
    "    select(c(subjectkey, starts_with(\"tfsstr1semdp_\"))) %>%\n",
    "    mutate_at(., vars(starts_with(\"tfsstr1semdp_\")), as.numeric) %>%\n",
    "    group_by(subjectkey) %>%\n",
    "    summarise_at(., vars(starts_with(\"tfsstr1semdp_\")), mean, na.rm=T)\n",
    "\n",
    "dim(tsfMRI_tfsstr1semdp)\n",
    "head(tsfMRI_tfsstr1semdp)"
   ]
  },
  {
   "cell_type": "code",
   "execution_count": null,
   "id": "d92e918f-d819-4b09-a4d6-3dbeb4df0a35",
   "metadata": {
    "tags": []
   },
   "outputs": [],
   "source": [
    "# Save tsfMRI_tfsstr1semdp, remove intermediate files\n",
    "saveRDS(tsfMRI_tfsstr1semdp, file=\"./CSI/Preprocessed/tsfMRI_tfsstr1semdp.rds\")\n",
    "rm(abcd_tfsstr1semdp101, abcd_tfsstr1semdp201, tfsstr1semdp)"
   ]
  },
  {
   "cell_type": "markdown",
   "id": "e6443d92-fc92-4d30-a02e-8f32f9972b79",
   "metadata": {},
   "source": [
    "### ABCD Task fMRI SST Run 1 Standard Error of the Mean: _mrisstr1sem01_"
   ]
  },
  {
   "cell_type": "code",
   "execution_count": null,
   "id": "d4ad63af-3f94-4400-a16e-1ea6e33b63d5",
   "metadata": {
    "tags": []
   },
   "outputs": [],
   "source": [
    "# Import partial mrisstr1bw01 data\n",
    "mrisstr1sem01 <- read_delim(\"./ABCD_Data/mrisstr1sem01.txt\", \n",
    "                           delim = \"\\t\", \n",
    "                           escape_double = FALSE, \n",
    "                           col_types = \"c\", \n",
    "                           trim_ws = TRUE, \n",
    "                           na = c(\"\", \"NA\"))[-1,]"
   ]
  },
  {
   "cell_type": "code",
   "execution_count": null,
   "id": "281a4d4b-a482-4bc3-8d76-504538ccd4fe",
   "metadata": {
    "tags": []
   },
   "outputs": [],
   "source": [
    "# Create a tsfMRI_mrisstr1sem01 subset\n",
    "tsfMRI_mrisstr1sem01 <- mrisstr1sem01 %>%\n",
    "    filter(eventname %in% c(\"baseline_year_1_arm_1\", \"1_year_follow_up_y_arm_1\", \"2_year_follow_up_y_arm_1\")) %>%\n",
    "    select(c(subjectkey, starts_with(\"tfmri\"))) %>%\n",
    "    select(-ends_with(\"_visitid\")) %>%\n",
    "    mutate_at(., vars(starts_with(\"tfmri\")), as.numeric) %>%\n",
    "    group_by(subjectkey) %>%\n",
    "    summarise_at(., vars(starts_with(\"tfmri\")), mean, na.rm=T)\n",
    "\n",
    "dim(tsfMRI_mrisstr1sem01)\n",
    "head(tsfMRI_mrisstr1sem01)"
   ]
  },
  {
   "cell_type": "code",
   "execution_count": null,
   "id": "19e1d1ac-585f-443a-9528-549e8d0d9389",
   "metadata": {
    "tags": []
   },
   "outputs": [],
   "source": [
    "# Save tsfMRI_mrisstr1sem01, remove intermediate files\n",
    "saveRDS(tsfMRI_mrisstr1sem01, file=\"./CSI/Preprocessed/tsfMRI_mrisstr1sem01.rds\")\n",
    "rm(mrisstr1sem01)"
   ]
  },
  {
   "cell_type": "markdown",
   "id": "3ca2da67-af46-43ed-aba2-4dd8f5e97b5f",
   "metadata": {},
   "source": [
    "### ABCD Task fMRI SST Run 2 Beta Weights: _mrisstr2bw01_"
   ]
  },
  {
   "cell_type": "code",
   "execution_count": null,
   "id": "49f96770-3e2f-4983-8af9-4851f91daef4",
   "metadata": {
    "tags": []
   },
   "outputs": [],
   "source": [
    "# Import partial mrisstr2bw01 data\n",
    "mrisstr2bw01 <- read_delim(\"./ABCD_Data/mrisstr2bw01.txt\", \n",
    "                           delim = \"\\t\", \n",
    "                           escape_double = FALSE, \n",
    "                           col_types = \"c\", \n",
    "                           trim_ws = TRUE, \n",
    "                           na = c(\"\", \"NA\"))[-1,]"
   ]
  },
  {
   "cell_type": "code",
   "execution_count": null,
   "id": "564ab298-d610-48f0-aad1-1f86f91195c9",
   "metadata": {
    "tags": []
   },
   "outputs": [],
   "source": [
    "# Create a tsfMRI_mrisstr2bw01 subset\n",
    "tsfMRI_mrisstr2bw01 <- mrisstr2bw01 %>%\n",
    "    filter(eventname %in% c(\"baseline_year_1_arm_1\", \"1_year_follow_up_y_arm_1\", \"2_year_follow_up_y_arm_1\")) %>%\n",
    "    select(c(subjectkey, starts_with(\"tfmri\"))) %>%\n",
    "    select(-ends_with(\"_visitid\")) %>%\n",
    "    mutate_at(., vars(starts_with(\"tfmri\")), as.numeric) %>%\n",
    "    group_by(subjectkey) %>%\n",
    "    summarise_at(., vars(starts_with(\"tfmri\")), mean, na.rm=T)\n",
    "\n",
    "dim(tsfMRI_mrisstr2bw01)\n",
    "head(tsfMRI_mrisstr2bw01)"
   ]
  },
  {
   "cell_type": "code",
   "execution_count": null,
   "id": "cdab2a25-b2cc-4722-aed1-aa49b9d75a32",
   "metadata": {
    "tags": []
   },
   "outputs": [],
   "source": [
    "# Save tsfMRI_mrisstr2bw01, remove intermediate files\n",
    "saveRDS(tsfMRI_mrisstr2bw01, file=\"./CSI/Preprocessed/tsfMRI_mrisstr2bw01.rds\")\n",
    "rm(mrisstr2bw01)"
   ]
  },
  {
   "cell_type": "markdown",
   "id": "68cd3be9-dd10-4752-a427-d05bfea7a663",
   "metadata": {},
   "source": [
    "### ABCD Task fMRI SST Run 2 Beta Weights Destrieux Parcellations: _tfsstr2bwdp_"
   ]
  },
  {
   "cell_type": "code",
   "execution_count": null,
   "id": "10a90b76-ece4-4bdf-ac73-fe2af9d151b6",
   "metadata": {
    "tags": []
   },
   "outputs": [],
   "source": [
    "# Import partial tfsstr1semdp data\n",
    "abcd_tfsstr2bwdp101 <- read_delim(\"./ABCD_Data/abcd_tfsstr2bwdp101.txt\", \n",
    "                           delim = \"\\t\", \n",
    "                           escape_double = FALSE, \n",
    "                           col_types = \"c\", \n",
    "                           trim_ws = TRUE, \n",
    "                           na = c(\"\", \"NA\"))[-1,]\n",
    "\n",
    "abcd_tfsstr2bwdp201 <- read_delim(\"./ABCD_Data/abcd_tfsstr2bwdp201.txt\", \n",
    "                           delim = \"\\t\", \n",
    "                           escape_double = FALSE, \n",
    "                           col_types = \"c\", \n",
    "                           trim_ws = TRUE, \n",
    "                           na = c(\"\", \"NA\"))[-1,]\n",
    "\n",
    "tfsstr2bwdp <- full_join(abcd_tfsstr2bwdp101, abcd_tfsstr2bwdp201, by = c(\"subjectkey\" = \"subjectkey\"))"
   ]
  },
  {
   "cell_type": "code",
   "execution_count": null,
   "id": "be301de6-6b46-47e1-b8b4-85c8e2501f76",
   "metadata": {},
   "outputs": [],
   "source": [
    "# Create a tsfMRI_tfsstr2bwdp subset\n",
    "tsfMRI_tfsstr2bwdp <- tfsstr2bwdp %>%\n",
    "    filter(eventname.x %in% c(\"baseline_year_1_arm_1\", \"1_year_follow_up_y_arm_1\", \"2_year_follow_up_y_arm_1\")) %>%\n",
    "    select(c(subjectkey, starts_with(\"tfsstr2bwdp_\"))) %>%\n",
    "    mutate_at(., vars(starts_with(\"tfsstr2bwdp_\")), as.numeric) %>%\n",
    "    group_by(subjectkey) %>%\n",
    "    summarise_at(., vars(starts_with(\"tfsstr2bwdp_\")), mean, na.rm=T)\n",
    "\n",
    "dim(tsfMRI_tfsstr2bwdp)\n",
    "head(tsfMRI_tfsstr2bwdp)"
   ]
  },
  {
   "cell_type": "code",
   "execution_count": null,
   "id": "407ab498-3112-42e0-b4be-a3a98d04f7ad",
   "metadata": {
    "tags": []
   },
   "outputs": [],
   "source": [
    "# Save tsfMRI_tfsstr2bwdp, remove intermediate files\n",
    "saveRDS(tsfMRI_tfsstr2bwdp, file=\"./CSI/Preprocessed/tsfMRI_tfsstr2bwdp.rds\")\n",
    "rm(abcd_tfsstr2bwdp101, abcd_tfsstr2bwdp201, tfsstr2bwdp)"
   ]
  },
  {
   "cell_type": "markdown",
   "id": "255b52bf-4c5e-4926-b92a-bae0e78a420f",
   "metadata": {},
   "source": [
    "### ABCD Task fMRI SST Run 2 SEM Destrieux Parcellations: _tfsstr2semdp_"
   ]
  },
  {
   "cell_type": "code",
   "execution_count": null,
   "id": "cf774284-02df-47cf-b68f-7c4de166836b",
   "metadata": {
    "tags": []
   },
   "outputs": [],
   "source": [
    "# Import partial tfsstr2semdp data\n",
    "abcd_tfsstr2semdp101 <- read_delim(\"./ABCD_Data/abcd_tfsstr2semdp101.txt\", \n",
    "                           delim = \"\\t\", \n",
    "                           escape_double = FALSE, \n",
    "                           col_types = \"c\", \n",
    "                           trim_ws = TRUE, \n",
    "                           na = c(\"\", \"NA\"))[-1,]\n",
    "\n",
    "abcd_tfsstr2semdp201 <- read_delim(\"./ABCD_Data/abcd_tfsstr2semdp201.txt\", \n",
    "                           delim = \"\\t\", \n",
    "                           escape_double = FALSE, \n",
    "                           col_types = \"c\", \n",
    "                           trim_ws = TRUE, \n",
    "                           na = c(\"\", \"NA\"))[-1,]\n",
    "\n",
    "tfsstr2semdp <- full_join(abcd_tfsstr2semdp101, abcd_tfsstr2semdp201, by = c(\"subjectkey\" = \"subjectkey\"))"
   ]
  },
  {
   "cell_type": "code",
   "execution_count": null,
   "id": "d6447195-c99a-4955-8ea4-df48cdd77d5c",
   "metadata": {},
   "outputs": [],
   "source": [
    "# Create a tsfMRI_tfsstr2semdp subset\n",
    "tsfMRI_tfsstr2semdp <- tfsstr2semdp %>%\n",
    "    filter(eventname.x %in% c(\"baseline_year_1_arm_1\", \"1_year_follow_up_y_arm_1\", \"2_year_follow_up_y_arm_1\")) %>%\n",
    "    select(c(subjectkey, starts_with(\"tfsstr2semdp_\"))) %>%\n",
    "    mutate_at(., vars(starts_with(\"tfsstr2semdp_\")), as.numeric) %>%\n",
    "    group_by(subjectkey) %>%\n",
    "    summarise_at(., vars(starts_with(\"tfsstr2semdp_\")), mean, na.rm=T)\n",
    "\n",
    "dim(tsfMRI_tfsstr2semdp)\n",
    "head(tsfMRI_tfsstr2semdp)"
   ]
  },
  {
   "cell_type": "code",
   "execution_count": null,
   "id": "3ee1ee83-9294-4e2f-81cf-40714014ed68",
   "metadata": {
    "tags": []
   },
   "outputs": [],
   "source": [
    "# Save tsfMRI_tfsstr2semdp, remove intermediate files\n",
    "saveRDS(tsfMRI_tfsstr2semdp, file=\"./CSI/Preprocessed/tsfMRI_tfsstr2semdp.rds\")\n",
    "rm(abcd_tfsstr2semdp101, abcd_tfsstr2semdp201, tfsstr2semdp)"
   ]
  },
  {
   "cell_type": "markdown",
   "id": "174429a9-d43f-4bc4-a7ae-15a28a209e28",
   "metadata": {},
   "source": [
    "### ABCD Task fMRI SST Run 2 Standard Error of the Mean: _mrisstr2bwsem01_"
   ]
  },
  {
   "cell_type": "code",
   "execution_count": null,
   "id": "8131d4d9-2e85-4290-a0e8-e8e667f05041",
   "metadata": {
    "tags": []
   },
   "outputs": [],
   "source": [
    "# Import partial mrisstr2bwsem01 data\n",
    "mrisstr2bwsem01 <- read_delim(\"./ABCD_Data/mrisstr2bwsem01.txt\", \n",
    "                           delim = \"\\t\", \n",
    "                           escape_double = FALSE, \n",
    "                           col_types = \"c\", \n",
    "                           trim_ws = TRUE, \n",
    "                           na = c(\"\", \"NA\"))[-1,]"
   ]
  },
  {
   "cell_type": "code",
   "execution_count": null,
   "id": "2e03eed7-9cea-43a6-b8fb-69e953c485c4",
   "metadata": {
    "tags": []
   },
   "outputs": [],
   "source": [
    "# Create a tsfMRI_mrisstr2bwsem01 subset\n",
    "tsfMRI_mrisstr2bwsem01 <- mrisstr2bwsem01 %>%\n",
    "    filter(eventname %in% c(\"baseline_year_1_arm_1\", \"1_year_follow_up_y_arm_1\", \"2_year_follow_up_y_arm_1\")) %>%\n",
    "    select(c(subjectkey, starts_with(\"tfmri\"))) %>%\n",
    "    select(-ends_with(\"_visitid\")) %>%\n",
    "    mutate_at(., vars(starts_with(\"tfmri\")), as.numeric) %>%\n",
    "    group_by(subjectkey) %>%\n",
    "    summarise_at(., vars(starts_with(\"tfmri\")), mean, na.rm=T)\n",
    "\n",
    "dim(tsfMRI_mrisstr2bwsem01)\n",
    "head(tsfMRI_mrisstr2bwsem01)"
   ]
  },
  {
   "cell_type": "code",
   "execution_count": null,
   "id": "563fa6b8-27ff-49ee-891f-1988275abc21",
   "metadata": {
    "tags": []
   },
   "outputs": [],
   "source": [
    "# Save tsfMRI_mrisstr2bwsem01, remove intermediate files\n",
    "saveRDS(tsfMRI_mrisstr2bwsem01, file=\"./CSI/Preprocessed/tsfMRI_mrisstr2bwsem01.rds\")\n",
    "rm(mrisstr2bwsem01)"
   ]
  },
  {
   "cell_type": "markdown",
   "id": "455cfa45-a665-4417-a010-1f7a7f869b90",
   "metadata": {},
   "source": [
    "### ABCD Task fMRI nBack Average Beta Weights: _nback_bwroi02_"
   ]
  },
  {
   "cell_type": "code",
   "execution_count": null,
   "id": "0b4ec96a-f7fd-43c1-a465-f7fda898f5a0",
   "metadata": {
    "tags": []
   },
   "outputs": [],
   "source": [
    "# Import partial nback_bwroi02 data\n",
    "nback_bwroi02 <- read_delim(\"./ABCD_Data/nback_bwroi02.txt\", \n",
    "                           delim = \"\\t\", \n",
    "                           escape_double = FALSE, \n",
    "                           col_types = \"c\", \n",
    "                           trim_ws = TRUE, \n",
    "                           na = c(\"\", \"NA\"))[-1,]"
   ]
  },
  {
   "cell_type": "code",
   "execution_count": null,
   "id": "1e55714a-e019-48a3-bc54-3742b27b9905",
   "metadata": {
    "tags": []
   },
   "outputs": [],
   "source": [
    "# Create a tsfMRI_nback_bwroi02 subset\n",
    "tsfMRI_nback_bwroi02 <- nback_bwroi02 %>%\n",
    "    filter(eventname %in% c(\"baseline_year_1_arm_1\", \"1_year_follow_up_y_arm_1\", \"2_year_follow_up_y_arm_1\")) %>%\n",
    "    select(c(subjectkey, starts_with(\"tfmri\"))) %>%\n",
    "    select(-ends_with(\"_visitid\")) %>%\n",
    "    mutate_at(., vars(starts_with(\"tfmri\")), as.numeric) %>%\n",
    "    group_by(subjectkey) %>%\n",
    "    summarise_at(., vars(starts_with(\"tfmri\")), mean, na.rm=T)\n",
    "\n",
    "dim(tsfMRI_nback_bwroi02)\n",
    "head(tsfMRI_nback_bwroi02)"
   ]
  },
  {
   "cell_type": "code",
   "execution_count": null,
   "id": "6824f3a3-e414-44d2-878c-c49dd49d2ee9",
   "metadata": {
    "tags": []
   },
   "outputs": [],
   "source": [
    "# Save tsfMRI_nback_bwroi02, remove intermediate files\n",
    "saveRDS(tsfMRI_nback_bwroi02, file=\"./CSI/Preprocessed/tsfMRI_nback_bwroi02.rds\")\n",
    "rm(nback_bwroi02)"
   ]
  },
  {
   "cell_type": "markdown",
   "id": "076e53b5-4576-4166-94e4-0dcbebbd336c",
   "metadata": {},
   "source": [
    "### ABCD Task fMRI nBack Average Beta Weights Destrieux Parcellations: _tfabwdp_"
   ]
  },
  {
   "cell_type": "code",
   "execution_count": null,
   "id": "8afa4011-2ad0-4f5c-a0b2-84eef5950197",
   "metadata": {
    "tags": []
   },
   "outputs": [],
   "source": [
    "# Import partial tfabwdp data\n",
    "abcd_tfabwdp101 <- read_delim(\"./ABCD_Data/abcd_tfabwdp101.txt\", \n",
    "                           delim = \"\\t\", \n",
    "                           escape_double = FALSE, \n",
    "                           col_types = \"c\", \n",
    "                           trim_ws = TRUE, \n",
    "                           na = c(\"\", \"NA\"))[-1,]\n",
    "\n",
    "abcd_tfabwdp201 <- read_delim(\"./ABCD_Data/abcd_tfabwdp201.txt\", \n",
    "                           delim = \"\\t\", \n",
    "                           escape_double = FALSE, \n",
    "                           col_types = \"c\", \n",
    "                           trim_ws = TRUE, \n",
    "                           na = c(\"\", \"NA\"))[-1,]\n",
    "\n",
    "tfabwdp <- full_join(abcd_tfabwdp101, abcd_tfabwdp201, by = c(\"subjectkey\" = \"subjectkey\"))"
   ]
  },
  {
   "cell_type": "code",
   "execution_count": null,
   "id": "b87ec8e2-fd46-4809-99ce-5b1b1ab49a8b",
   "metadata": {},
   "outputs": [],
   "source": [
    "# Create a tsfMRI_tfabwdp subset\n",
    "tsfMRI_tfabwdp <- tfabwdp %>%\n",
    "    filter(eventname.x %in% c(\"baseline_year_1_arm_1\", \"1_year_follow_up_y_arm_1\", \"2_year_follow_up_y_arm_1\")) %>%\n",
    "    select(c(subjectkey, starts_with(\"tfabwdp_\"))) %>%\n",
    "    mutate_at(., vars(starts_with(\"tfabwdp_\")), as.numeric) %>%\n",
    "    group_by(subjectkey) %>%\n",
    "    summarise_at(., vars(starts_with(\"tfabwdp_\")), mean, na.rm=T)\n",
    "\n",
    "dim(tsfMRI_tfabwdp)\n",
    "head(tsfMRI_tfabwdp)"
   ]
  },
  {
   "cell_type": "code",
   "execution_count": null,
   "id": "59eb412d-8ece-4192-8b23-f1a1565c58fb",
   "metadata": {
    "tags": []
   },
   "outputs": [],
   "source": [
    "# Save tsfMRI_tfabwdp, remove intermediate files\n",
    "saveRDS(tsfMRI_tfabwdp, file=\"./CSI/Preprocessed/tsfMRI_tfabwdp.rds\")\n",
    "rm(abcd_tfabwdp101, abcd_tfabwdp201, tfabwdp)"
   ]
  },
  {
   "cell_type": "markdown",
   "id": "8cbca2c7-d374-4f3a-a2f1-e713c8660b7c",
   "metadata": {},
   "source": [
    "### ABCD Task fMRI nBack Average SEM Destrieux Parcellations: _tnbasemdp_"
   ]
  },
  {
   "cell_type": "code",
   "execution_count": null,
   "id": "a7a2ade9-815d-4102-b5c6-15d23c326623",
   "metadata": {
    "tags": []
   },
   "outputs": [],
   "source": [
    "# Import partial tnbasemdp data\n",
    "abcd_tnbasemdp101 <- read_delim(\"./ABCD_Data/abcd_tnbasemdp101.txt\", \n",
    "                           delim = \"\\t\", \n",
    "                           escape_double = FALSE, \n",
    "                           col_types = \"c\", \n",
    "                           trim_ws = TRUE, \n",
    "                           na = c(\"\", \"NA\"))[-1,]\n",
    "\n",
    "abcd_tnbasemdp201 <- read_delim(\"./ABCD_Data/abcd_tnbasemdp201.txt\", \n",
    "                           delim = \"\\t\", \n",
    "                           escape_double = FALSE, \n",
    "                           col_types = \"c\", \n",
    "                           trim_ws = TRUE, \n",
    "                           na = c(\"\", \"NA\"))[-1,]\n",
    "\n",
    "tnbasemdp <- full_join(abcd_tnbasemdp101, abcd_tnbasemdp201, by = c(\"subjectkey\" = \"subjectkey\"))"
   ]
  },
  {
   "cell_type": "code",
   "execution_count": null,
   "id": "b81b1635-a98c-489d-8933-4ea48db30f34",
   "metadata": {},
   "outputs": [],
   "source": [
    "# Create a tsfMRI_tnbasemdp subset\n",
    "tsfMRI_tnbasemdp <- tnbasemdp %>%\n",
    "    filter(eventname.x %in% c(\"baseline_year_1_arm_1\", \"1_year_follow_up_y_arm_1\", \"2_year_follow_up_y_arm_1\")) %>%\n",
    "    select(c(subjectkey, starts_with(\"tnbasemdp_\"))) %>%\n",
    "    mutate_at(., vars(starts_with(\"tnbasemdp_\")), as.numeric) %>%\n",
    "    group_by(subjectkey) %>%\n",
    "    summarise_at(., vars(starts_with(\"tnbasemdp_\")), mean, na.rm=T)\n",
    "\n",
    "dim(tsfMRI_tnbasemdp)\n",
    "head(tsfMRI_tnbasemdp)"
   ]
  },
  {
   "cell_type": "code",
   "execution_count": null,
   "id": "ddd0c1f2-32c0-4b48-ad36-e352658b5a99",
   "metadata": {
    "tags": []
   },
   "outputs": [],
   "source": [
    "# Save tsfMRI_tnbasemdp, remove intermediate files\n",
    "saveRDS(tsfMRI_tnbasemdp, file=\"./CSI/Preprocessed/tsfMRI_tnbasemdp.rds\")\n",
    "rm(abcd_tnbasemdp101, abcd_tnbasemdp201, tnbasemdp)"
   ]
  },
  {
   "cell_type": "markdown",
   "id": "f6a90ee0-70ca-42c9-8ed4-076007b4003a",
   "metadata": {},
   "source": [
    "### ABCD Task fMRI nBack Average Standard Error of the Mean: _nbackallsem01_"
   ]
  },
  {
   "cell_type": "code",
   "execution_count": null,
   "id": "69376ef1-a164-469b-94ed-37f1982b8073",
   "metadata": {
    "tags": []
   },
   "outputs": [],
   "source": [
    "# Import partial nbackallsem01 data\n",
    "nbackallsem01 <- read_delim(\"./ABCD_Data/nbackallsem01.txt\", \n",
    "                           delim = \"\\t\", \n",
    "                           escape_double = FALSE, \n",
    "                           col_types = \"c\", \n",
    "                           trim_ws = TRUE, \n",
    "                           na = c(\"\", \"NA\"))[-1,]"
   ]
  },
  {
   "cell_type": "code",
   "execution_count": null,
   "id": "d359dd8c-50ec-4b04-bf7c-12b62b35aefe",
   "metadata": {
    "tags": []
   },
   "outputs": [],
   "source": [
    "# Create a tsfMRI_nbackallsem01 subset\n",
    "tsfMRI_nbackallsem01 <- nbackallsem01 %>%\n",
    "    filter(eventname %in% c(\"baseline_year_1_arm_1\", \"1_year_follow_up_y_arm_1\", \"2_year_follow_up_y_arm_1\")) %>%\n",
    "    select(c(subjectkey, starts_with(\"tfmri\"))) %>%\n",
    "    select(-ends_with(\"_visitid\")) %>%\n",
    "    mutate_at(., vars(starts_with(\"tfmri\")), as.numeric) %>%\n",
    "    group_by(subjectkey) %>%\n",
    "    summarise_at(., vars(starts_with(\"tfmri\")), mean, na.rm=T)\n",
    "\n",
    "dim(tsfMRI_nbackallsem01)\n",
    "head(tsfMRI_nbackallsem01)"
   ]
  },
  {
   "cell_type": "code",
   "execution_count": null,
   "id": "f3e16079-849a-4544-bdaa-26cf6967e4af",
   "metadata": {
    "tags": []
   },
   "outputs": [],
   "source": [
    "# Save tsfMRI_nbackallsem01, remove intermediate files\n",
    "saveRDS(tsfMRI_nbackallsem01, file=\"./CSI/Preprocessed/tsfMRI_nbackallsem01.rds\")\n",
    "rm(nbackallsem01)"
   ]
  },
  {
   "cell_type": "markdown",
   "id": "31ac5a39-ac8a-4df4-8a3f-0621c3e6e0b9",
   "metadata": {},
   "source": [
    "### ABCD Task fMRI nBack Run 1 Beta Weights: _nbackr101_"
   ]
  },
  {
   "cell_type": "code",
   "execution_count": null,
   "id": "14b7c002-8146-432c-b0d1-15785023de79",
   "metadata": {
    "tags": []
   },
   "outputs": [],
   "source": [
    "# Import partial nbackr101 data\n",
    "nbackr101 <- read_delim(\"./ABCD_Data/nbackr101.txt\", \n",
    "                           delim = \"\\t\", \n",
    "                           escape_double = FALSE, \n",
    "                           col_types = \"c\", \n",
    "                           trim_ws = TRUE, \n",
    "                           na = c(\"\", \"NA\"))[-1,]"
   ]
  },
  {
   "cell_type": "code",
   "execution_count": null,
   "id": "1a806718-cf50-4f2f-9a48-ad4d4cd470cc",
   "metadata": {
    "tags": []
   },
   "outputs": [],
   "source": [
    "# Create a tsfMRI_nbackr101 subset\n",
    "tsfMRI_nbackr101 <- nbackr101 %>%\n",
    "    filter(eventname %in% c(\"baseline_year_1_arm_1\", \"1_year_follow_up_y_arm_1\", \"2_year_follow_up_y_arm_1\")) %>%\n",
    "    select(c(subjectkey, starts_with(\"tfmri\"))) %>%\n",
    "    select(-ends_with(\"_visitid\")) %>%\n",
    "    mutate_at(., vars(starts_with(\"tfmri\")), as.numeric) %>%\n",
    "    group_by(subjectkey) %>%\n",
    "    summarise_at(., vars(starts_with(\"tfmri\")), mean, na.rm=T)\n",
    "\n",
    "dim(tsfMRI_nbackr101)\n",
    "head(tsfMRI_nbackr101)"
   ]
  },
  {
   "cell_type": "code",
   "execution_count": null,
   "id": "df8ecf71-c86e-4f1b-a904-bee140c9d2fb",
   "metadata": {
    "tags": []
   },
   "outputs": [],
   "source": [
    "# Save tsfMRI_nbackr101, remove intermediate files\n",
    "saveRDS(tsfMRI_nbackr101, file=\"./CSI/Preprocessed/tsfMRI_nbackr101.rds\")\n",
    "rm(nbackr101)"
   ]
  },
  {
   "cell_type": "markdown",
   "id": "91397521-22f3-4054-ba05-7d285b758605",
   "metadata": {},
   "source": [
    "### ABCD Task fMRI nBack Run 1 Beta Weights Destrieux Parcellations: _tfncr1bwdp_"
   ]
  },
  {
   "cell_type": "code",
   "execution_count": null,
   "id": "403937fd-22ec-4831-9974-b28f335f820c",
   "metadata": {
    "tags": []
   },
   "outputs": [],
   "source": [
    "# Import partial tfncr1bwdp data\n",
    "abcd_tfncr1bwdp101 <- read_delim(\"./ABCD_Data/abcd_tfncr1bwdp101.txt\", \n",
    "                           delim = \"\\t\", \n",
    "                           escape_double = FALSE, \n",
    "                           col_types = \"c\", \n",
    "                           trim_ws = TRUE, \n",
    "                           na = c(\"\", \"NA\"))[-1,]\n",
    "\n",
    "abcd_tfncr1bwdp201 <- read_delim(\"./ABCD_Data/abcd_tfncr1bwdp201.txt\", \n",
    "                           delim = \"\\t\", \n",
    "                           escape_double = FALSE, \n",
    "                           col_types = \"c\", \n",
    "                           trim_ws = TRUE, \n",
    "                           na = c(\"\", \"NA\"))[-1,]\n",
    "\n",
    "tfncr1bwdp <- full_join(abcd_tfncr1bwdp101, abcd_tfncr1bwdp201, by = c(\"subjectkey\" = \"subjectkey\"))"
   ]
  },
  {
   "cell_type": "code",
   "execution_count": null,
   "id": "1137c315-4e4b-4543-92d9-9a0c834aa88d",
   "metadata": {
    "tags": []
   },
   "outputs": [],
   "source": [
    "# Create a tsfMRI_tfncr1bwdp subset\n",
    "tsfMRI_tfncr1bwdp <- tfncr1bwdp %>%\n",
    "    filter(eventname.x %in% c(\"baseline_year_1_arm_1\", \"1_year_follow_up_y_arm_1\", \"2_year_follow_up_y_arm_1\")) %>%\n",
    "    select(c(subjectkey, starts_with(\"tfncr1bwdp_\"))) %>%\n",
    "    mutate_at(., vars(starts_with(\"tfncr1bwdp_\")), as.numeric) %>%\n",
    "    group_by(subjectkey) %>%\n",
    "    summarise_at(., vars(starts_with(\"tfncr1bwdp_\")), mean, na.rm=T)\n",
    "\n",
    "dim(tsfMRI_tfncr1bwdp)\n",
    "head(tsfMRI_tfncr1bwdp)"
   ]
  },
  {
   "cell_type": "code",
   "execution_count": null,
   "id": "9b402151-3d50-4bae-b877-901df9795d20",
   "metadata": {
    "tags": []
   },
   "outputs": [],
   "source": [
    "# Save tsfMRI_tfncr1bwdp, remove intermediate files\n",
    "saveRDS(tsfMRI_tfncr1bwdp, file=\"./CSI/Preprocessed/tsfMRI_tfncr1bwdp.rds\")\n",
    "rm(abcd_tfncr1bwdp101, abcd_tfncr1bwdp201, tfncr1bwdp)"
   ]
  },
  {
   "cell_type": "markdown",
   "id": "7c6879d1-addd-46f5-b872-345aa78153d1",
   "metadata": {},
   "source": [
    "### ABCD Task fMRI nBack Run 1 SEM Destrieux Parcellations: _tfnbr1semdp_"
   ]
  },
  {
   "cell_type": "code",
   "execution_count": null,
   "id": "00ffc0d8-5356-4680-ad8c-7415c9c1cb93",
   "metadata": {
    "tags": []
   },
   "outputs": [],
   "source": [
    "# Import partial tfnbr1semdp data\n",
    "abcd_tfnbr1semdp101 <- read_delim(\"./ABCD_Data/abcd_tfnbr1semdp101.txt\", \n",
    "                           delim = \"\\t\", \n",
    "                           escape_double = FALSE, \n",
    "                           col_types = \"c\", \n",
    "                           trim_ws = TRUE, \n",
    "                           na = c(\"\", \"NA\"))[-1,]\n",
    "\n",
    "abcd_tfnbr1semdp201 <- read_delim(\"./ABCD_Data/abcd_tfnbr1semdp201.txt\", \n",
    "                           delim = \"\\t\", \n",
    "                           escape_double = FALSE, \n",
    "                           col_types = \"c\", \n",
    "                           trim_ws = TRUE, \n",
    "                           na = c(\"\", \"NA\"))[-1,]\n",
    "\n",
    "tfnbr1semdp <- full_join(abcd_tfnbr1semdp101, abcd_tfnbr1semdp201, by = c(\"subjectkey\" = \"subjectkey\"))"
   ]
  },
  {
   "cell_type": "code",
   "execution_count": null,
   "id": "2a8b9c52-754f-4835-b6f2-12263427e49c",
   "metadata": {
    "tags": []
   },
   "outputs": [],
   "source": [
    "# Create a tsfMRI_tfnbr1semdp subset\n",
    "tsfMRI_tfnbr1semdp <- tfnbr1semdp %>%\n",
    "    filter(eventname.x %in% c(\"baseline_year_1_arm_1\", \"1_year_follow_up_y_arm_1\", \"2_year_follow_up_y_arm_1\")) %>%\n",
    "    select(c(subjectkey, starts_with(\"tfnbr1semdp_\"))) %>%\n",
    "    mutate_at(., vars(starts_with(\"tfnbr1semdp_\")), as.numeric) %>%\n",
    "    group_by(subjectkey) %>%\n",
    "    summarise_at(., vars(starts_with(\"tfnbr1semdp_\")), mean, na.rm=T)\n",
    "\n",
    "dim(tsfMRI_tfnbr1semdp)\n",
    "head(tsfMRI_tfnbr1semdp)"
   ]
  },
  {
   "cell_type": "code",
   "execution_count": null,
   "id": "34ad3e34-3b76-4981-81b6-005084796b6f",
   "metadata": {
    "tags": []
   },
   "outputs": [],
   "source": [
    "# Save tsfMRI_tfnbr1semdp, remove intermediate files\n",
    "saveRDS(tsfMRI_tfnbr1semdp, file=\"./CSI/Preprocessed/tsfMRI_tfnbr1semdp.rds\")\n",
    "rm(abcd_tfnbr1semdp101, abcd_tfnbr1semdp201, tfnbr1semdp)"
   ]
  },
  {
   "cell_type": "markdown",
   "id": "c4ede1c1-10b8-40d9-8ffc-c3058f0ed42b",
   "metadata": {},
   "source": [
    "### ABCD Task fMRI nBack Run 2 Beta Weights Destrieux Parcellations: _tfnbr2bwdp_"
   ]
  },
  {
   "cell_type": "code",
   "execution_count": null,
   "id": "578242ac-778b-41fe-8aaa-b6f394365521",
   "metadata": {
    "tags": []
   },
   "outputs": [],
   "source": [
    "# Import partial tfnbr2bwdp data\n",
    "abcd_tfnbr2bwdp101 <- read_delim(\"./ABCD_Data/abcd_tfnbr2bwdp101.txt\", \n",
    "                           delim = \"\\t\", \n",
    "                           escape_double = FALSE, \n",
    "                           col_types = \"c\", \n",
    "                           trim_ws = TRUE, \n",
    "                           na = c(\"\", \"NA\"))[-1,]\n",
    "\n",
    "abcd_tfnbr2bwdp201 <- read_delim(\"./ABCD_Data/abcd_tfnbr2bwdp201.txt\", \n",
    "                           delim = \"\\t\", \n",
    "                           escape_double = FALSE, \n",
    "                           col_types = \"c\", \n",
    "                           trim_ws = TRUE, \n",
    "                           na = c(\"\", \"NA\"))[-1,]\n",
    "\n",
    "tfnbr2bwdp <- full_join(abcd_tfnbr2bwdp101, abcd_tfnbr2bwdp201, by = c(\"subjectkey\" = \"subjectkey\"))"
   ]
  },
  {
   "cell_type": "code",
   "execution_count": null,
   "id": "80f89320-4714-449f-afbc-537e3d9e190d",
   "metadata": {
    "tags": []
   },
   "outputs": [],
   "source": [
    "# Create a tsfMRI_tfnbr2bwdp subset\n",
    "tsfMRI_tfnbr2bwdp <- tfnbr2bwdp %>%\n",
    "    filter(eventname.x %in% c(\"baseline_year_1_arm_1\", \"1_year_follow_up_y_arm_1\", \"2_year_follow_up_y_arm_1\")) %>%\n",
    "    select(c(subjectkey, starts_with(\"tfnbr2bwdp_\"))) %>%\n",
    "    mutate_at(., vars(starts_with(\"tfnbr2bwdp_\")), as.numeric) %>%\n",
    "    group_by(subjectkey) %>%\n",
    "    summarise_at(., vars(starts_with(\"tfnbr2bwdp_\")), mean, na.rm=T)\n",
    "\n",
    "dim(tsfMRI_tfnbr2bwdp)\n",
    "head(tsfMRI_tfnbr2bwdp)"
   ]
  },
  {
   "cell_type": "code",
   "execution_count": null,
   "id": "1176e1da-39af-4989-bebc-cc0c167e3fdd",
   "metadata": {
    "tags": []
   },
   "outputs": [],
   "source": [
    "# Save tsfMRI_tfnbr2bwdp, remove intermediate files\n",
    "saveRDS(tsfMRI_tfnbr2bwdp, file=\"./CSI/Preprocessed/tsfMRI_tfnbr2bwdp.rds\")\n",
    "rm(abcd_tfnbr2bwdp101, abcd_tfnbr2bwdp201, tfnbr2bwdp)"
   ]
  },
  {
   "cell_type": "markdown",
   "id": "bf741f10-b24f-4b6a-8b7e-706ebc69be63",
   "metadata": {},
   "source": [
    "### ABCD Task fMRI nBack Run 2 SEM Destrieux Parcellations: _tfnbr2dp_"
   ]
  },
  {
   "cell_type": "code",
   "execution_count": null,
   "id": "e381b60c-ad90-4b32-abaa-4c9980ee5de3",
   "metadata": {
    "tags": []
   },
   "outputs": [],
   "source": [
    "# Import partial tfnbr2dp data\n",
    "abcd_tfnbr2dp101 <- read_delim(\"./ABCD_Data/abcd_tfnbr2dp101.txt\", \n",
    "                           delim = \"\\t\", \n",
    "                           escape_double = FALSE, \n",
    "                           col_types = \"c\", \n",
    "                           trim_ws = TRUE, \n",
    "                           na = c(\"\", \"NA\"))[-1,]\n",
    "\n",
    "abcd_tfnbr2dp201 <- read_delim(\"./ABCD_Data/abcd_tfnbr2dp201.txt\", \n",
    "                           delim = \"\\t\", \n",
    "                           escape_double = FALSE, \n",
    "                           col_types = \"c\", \n",
    "                           trim_ws = TRUE, \n",
    "                           na = c(\"\", \"NA\"))[-1,]\n",
    "\n",
    "tfnbr2dp <- full_join(abcd_tfnbr2dp101, abcd_tfnbr2dp201, by = c(\"subjectkey\" = \"subjectkey\"))"
   ]
  },
  {
   "cell_type": "code",
   "execution_count": null,
   "id": "099dc496-1f4b-4971-8721-472f0d015660",
   "metadata": {
    "tags": []
   },
   "outputs": [],
   "source": [
    "# Create a tsfMRI_tfnbr2dp subset\n",
    "tsfMRI_tfnbr2dp <- tfnbr2dp %>%\n",
    "    filter(eventname.x %in% c(\"baseline_year_1_arm_1\", \"1_year_follow_up_y_arm_1\", \"2_year_follow_up_y_arm_1\")) %>%\n",
    "    select(c(subjectkey, starts_with(\"tfnbr2dp_\"))) %>%\n",
    "    mutate_at(., vars(starts_with(\"tfnbr2dp_\")), as.numeric) %>%\n",
    "    group_by(subjectkey) %>%\n",
    "    summarise_at(., vars(starts_with(\"tfnbr2dp_\")), mean, na.rm=T)\n",
    "\n",
    "dim(tsfMRI_tfnbr2dp)\n",
    "head(tsfMRI_tfnbr2dp)"
   ]
  },
  {
   "cell_type": "code",
   "execution_count": null,
   "id": "3d495f00-534a-44fb-90fe-e849448674c5",
   "metadata": {
    "tags": []
   },
   "outputs": [],
   "source": [
    "# Save tsfMRI_tfnbr2dp, remove intermediate files\n",
    "saveRDS(tsfMRI_tfnbr2dp, file=\"./CSI/Preprocessed/tsfMRI_tfnbr2dp.rds\")\n",
    "rm(abcd_tfnbr2dp101, abcd_tfnbr2dp201, tfnbr2dp)"
   ]
  },
  {
   "cell_type": "markdown",
   "id": "9d1ce4d6-55ec-4216-82b0-51c6804d3006",
   "metadata": {},
   "source": [
    "### ABCD Task fMRI nBack Run 1 Standard Error of the Mean: _nbackr1sem01_"
   ]
  },
  {
   "cell_type": "code",
   "execution_count": null,
   "id": "4e88d6e4-d8f7-4ecc-89aa-9bd2712030a3",
   "metadata": {
    "tags": []
   },
   "outputs": [],
   "source": [
    "# Import partial nbackr1sem01 data\n",
    "nbackr1sem01 <- read_delim(\"./ABCD_Data/nbackr1sem01.txt\", \n",
    "                           delim = \"\\t\", \n",
    "                           escape_double = FALSE, \n",
    "                           col_types = \"c\", \n",
    "                           trim_ws = TRUE, \n",
    "                           na = c(\"\", \"NA\"))[-1,]"
   ]
  },
  {
   "cell_type": "code",
   "execution_count": null,
   "id": "530a62bd-6639-4f2c-b721-475aa4a806c3",
   "metadata": {
    "tags": []
   },
   "outputs": [],
   "source": [
    "# Create a tsfMRI_nbackr1sem01 subset\n",
    "tsfMRI_nbackr1sem01 <- nbackr1sem01 %>%\n",
    "    filter(eventname %in% c(\"baseline_year_1_arm_1\", \"1_year_follow_up_y_arm_1\", \"2_year_follow_up_y_arm_1\")) %>%\n",
    "    select(c(subjectkey, starts_with(\"tfmri\"))) %>%\n",
    "    select(-ends_with(\"_visitid\")) %>%\n",
    "    mutate_at(., vars(starts_with(\"tfmri\")), as.numeric) %>%\n",
    "    group_by(subjectkey) %>%\n",
    "    summarise_at(., vars(starts_with(\"tfmri\")), mean, na.rm=T)\n",
    "\n",
    "dim(tsfMRI_nbackr1sem01)\n",
    "head(tsfMRI_nbackr1sem01)"
   ]
  },
  {
   "cell_type": "code",
   "execution_count": null,
   "id": "341ccb67-b952-45a9-b0d2-a6996aed740e",
   "metadata": {
    "tags": []
   },
   "outputs": [],
   "source": [
    "# Save tsfMRI_nbackr1sem01, remove intermediate files\n",
    "saveRDS(tsfMRI_nbackr1sem01, file=\"./CSI/Preprocessed/tsfMRI_nbackr1sem01.rds\")\n",
    "rm(nbackr1sem01)"
   ]
  },
  {
   "cell_type": "markdown",
   "id": "02d69dc6-f4bf-41df-8bad-55dd86dbbb76",
   "metadata": {},
   "source": [
    "### ABCD Task fMRI nBack Run 2 Beta Weights: _nbackr201_"
   ]
  },
  {
   "cell_type": "code",
   "execution_count": null,
   "id": "d120cb09-47ed-4380-9ee2-adaa51674fc9",
   "metadata": {
    "tags": []
   },
   "outputs": [],
   "source": [
    "# Import partial nbackr201 data\n",
    "nbackr201 <- read_delim(\"./ABCD_Data/nbackr201.txt\", \n",
    "                           delim = \"\\t\", \n",
    "                           escape_double = FALSE, \n",
    "                           col_types = \"c\", \n",
    "                           trim_ws = TRUE, \n",
    "                           na = c(\"\", \"NA\"))[-1,]"
   ]
  },
  {
   "cell_type": "code",
   "execution_count": null,
   "id": "dcbfd5bc-30b8-4946-be7d-47ac5e655650",
   "metadata": {
    "tags": []
   },
   "outputs": [],
   "source": [
    "# Create a tsfMRI_nbackr201 subset\n",
    "tsfMRI_nbackr201 <- nbackr201 %>%\n",
    "    filter(eventname %in% c(\"baseline_year_1_arm_1\", \"1_year_follow_up_y_arm_1\", \"2_year_follow_up_y_arm_1\")) %>%\n",
    "    select(c(subjectkey, starts_with(\"tfmri\"))) %>%\n",
    "    select(-ends_with(\"_visitid\")) %>%\n",
    "    mutate_at(., vars(starts_with(\"tfmri\")), as.numeric) %>%\n",
    "    group_by(subjectkey) %>%\n",
    "    summarise_at(., vars(starts_with(\"tfmri\")), mean, na.rm=T)\n",
    "\n",
    "dim(tsfMRI_nbackr201)\n",
    "head(tsfMRI_nbackr201)"
   ]
  },
  {
   "cell_type": "code",
   "execution_count": null,
   "id": "051e95af-719a-40a5-8a72-6339e86ad0a7",
   "metadata": {
    "tags": []
   },
   "outputs": [],
   "source": [
    "# Save tsfMRI_nbackr201, remove intermediate files\n",
    "saveRDS(tsfMRI_nbackr201, file=\"./CSI/Preprocessed/tsfMRI_nbackr201.rds\")\n",
    "rm(nbackr201)"
   ]
  },
  {
   "cell_type": "markdown",
   "id": "478ba4d6-8aee-480b-9288-6790ce692bee",
   "metadata": {},
   "source": [
    "### ABCD Task fMRI nBack Run 2 Standard Error of the Mean: _nbackr2sem01_"
   ]
  },
  {
   "cell_type": "code",
   "execution_count": null,
   "id": "d13d7289-95bd-4faf-bddd-b9b7c2af343a",
   "metadata": {
    "tags": []
   },
   "outputs": [],
   "source": [
    "# Import partial nbackr2sem01 data\n",
    "nbackr2sem01 <- read_delim(\"./ABCD_Data/nbackr2sem01.txt\", \n",
    "                           delim = \"\\t\", \n",
    "                           escape_double = FALSE, \n",
    "                           col_types = \"c\", \n",
    "                           trim_ws = TRUE, \n",
    "                           na = c(\"\", \"NA\"))[-1,]"
   ]
  },
  {
   "cell_type": "code",
   "execution_count": null,
   "id": "c8f64e0e-d720-4e99-9fc1-d54796e3a1ec",
   "metadata": {
    "tags": []
   },
   "outputs": [],
   "source": [
    "# Create a tsfMRI_nbackr2sem01 subset\n",
    "tsfMRI_nbackr2sem01 <- nbackr2sem01 %>%\n",
    "    filter(eventname %in% c(\"baseline_year_1_arm_1\", \"1_year_follow_up_y_arm_1\", \"2_year_follow_up_y_arm_1\")) %>%\n",
    "    select(c(subjectkey, starts_with(\"tfmri\"))) %>%\n",
    "    select(-ends_with(\"_visitid\")) %>%\n",
    "    mutate_at(., vars(starts_with(\"tfmri\")), as.numeric) %>%\n",
    "    group_by(subjectkey) %>%\n",
    "    summarise_at(., vars(starts_with(\"tfmri\")), mean, na.rm=T)\n",
    "\n",
    "dim(tsfMRI_nbackr2sem01)\n",
    "head(tsfMRI_nbackr2sem01)"
   ]
  },
  {
   "cell_type": "code",
   "execution_count": null,
   "id": "5cbe1b26-4319-4d5d-923c-c6cf11f1d6a6",
   "metadata": {
    "tags": []
   },
   "outputs": [],
   "source": [
    "# Save tsfMRI_nbackr2sem01, remove intermediate files\n",
    "saveRDS(tsfMRI_nbackr2sem01, file=\"./CSI/Preprocessed/tsfMRI_nbackr2sem01.rds\")\n",
    "rm(nbackr2sem01)"
   ]
  },
  {
   "cell_type": "markdown",
   "id": "7ba0b815-c5c5-43ae-b2a1-24bbe8247481",
   "metadata": {},
   "source": [
    "### Remove High Missingness"
   ]
  },
  {
   "cell_type": "code",
   "execution_count": null,
   "id": "8861ced7-7290-462f-a89f-71f77cab7123",
   "metadata": {},
   "outputs": [],
   "source": [
    "# Count Infinities, NAs, and NaNs per variable\n",
    "NAs_tsfMRI_mriqcrp <- apply(tsfMRI_mriqcrp, 2, function(x) {sum(is.na(x)|is.nan(x))/length(x)})\n",
    "INFs_tsfMRI_mriqcrp <- apply(tsfMRI_mriqcrp, 2, function(x) {is.infinite(x)/length(x)})\n",
    "\n",
    "NAs_tsfMRI_postqc <- apply(tsfMRI_postqc, 2, function(x) {sum(is.na(x)|is.nan(x))/length(x)})\n",
    "INFs_tsfMRI_postqc <- apply(tsfMRI_postqc, 2, function(x) {is.infinite(x)/length(x)})\n",
    "\n",
    "NAs_tsfMRI_midabwdp <- apply(tsfMRI_midabwdp, 2, function(x) {sum(is.na(x)|is.nan(x))/length(x)})\n",
    "INFs_tsfMRI_midabwdp <- apply(tsfMRI_midabwdp, 2, function(x) {is.infinite(x)/length(x)})\n",
    "\n",
    "NAs_fmriqc <- apply(fmriqc, 2, function(x) {sum(is.na(x)|is.nan(x))/length(x)})\n",
    "INFs_fmriqc <- apply(fmriqc, 2, function(x) {is.infinite(x)/length(x)})\n",
    "\n",
    "NAs_tsfMRI_midaparcp <- apply(tsfMRI_midaparcp, 2, function(x) {sum(is.na(x)|is.nan(x))/length(x)})\n",
    "INFs_tsfMRI_midaparcp <- apply(tsfMRI_midaparcp, 2, function(x) {is.infinite(x)/length(x)})\n",
    "\n",
    "NAs_tsfMRI_midasemdp <- apply(tsfMRI_midasemdp, 2, function(x) {sum(is.na(x)|is.nan(x))/length(x)})\n",
    "INFs_tsfMRI_midasemdp <- apply(tsfMRI_midasemdp, 2, function(x) {is.infinite(x)/length(x)})\n",
    "\n",
    "NAs_tsfMRI_midasemp <- apply(tsfMRI_midasemp, 2, function(x) {sum(is.na(x)|is.nan(x))/length(x)})\n",
    "INFs_tsfMRI_midasemp <- apply(tsfMRI_midasemp, 2, function(x) {is.infinite(x)/length(x)})\n",
    "\n",
    "NAs_tsfMRI_midr1bwdp <- apply(tsfMRI_midr1bwdp, 2, function(x) {sum(is.na(x)|is.nan(x))/length(x)})\n",
    "INFs_tsfMRI_midr1bwdp <- apply(tsfMRI_midr1bwdp, 2, function(x) {is.infinite(x)/length(x)})\n",
    "\n",
    "NAs_tsfMRI_midr1bwp <- apply(tsfMRI_midr1bwp, 2, function(x) {sum(is.na(x)|is.nan(x))/length(x)})\n",
    "INFs_tsfMRI_midr1bwp <- apply(tsfMRI_midr1bwp, 2, function(x) {is.infinite(x)/length(x)})\n",
    "\n",
    "NAs_tsfMRI_tmidr1semdp <- apply(tsfMRI_tmidr1semdp, 2, function(x) {sum(is.na(x)|is.nan(x))/length(x)})\n",
    "INFs_tsfMRI_tmidr1semdp <- apply(tsfMRI_tmidr1semdp, 2, function(x) {is.infinite(x)/length(x)})\n",
    "\n",
    "NAs_tsfMRI_midsemp <- apply(tsfMRI_midsemp, 2, function(x) {sum(is.na(x)|is.nan(x))/length(x)})\n",
    "INFs_tsfMRI_midsemp <- apply(tsfMRI_midsemp, 2, function(x) {is.infinite(x)/length(x)})\n",
    "\n",
    "NAs_tsfMRI_tr2bwdp <- apply(tsfMRI_tr2bwdp, 2, function(x) {sum(is.na(x)|is.nan(x))/length(x)})\n",
    "INFs_tsfMRI_tr2bwdp <- apply(tsfMRI_tr2bwdp, 2, function(x) {is.infinite(x)/length(x)})\n",
    "\n",
    "NAs_tsfMRI_midr2bwp <- apply(tsfMRI_midr2bwp, 2, function(x) {sum(is.na(x)|is.nan(x))/length(x)})\n",
    "INFs_tsfMRI_midr2bwp <- apply(tsfMRI_midr2bwp, 2, function(x) {is.infinite(x)/length(x)})\n",
    "\n",
    "NAs_tsfMRI_tr2semdp <- apply(tsfMRI_tr2semdp, 2, function(x) {sum(is.na(x)|is.nan(x))/length(x)})\n",
    "INFs_tsfMRI_tr2semdp <- apply(tsfMRI_tr2semdp, 2, function(x) {is.infinite(x)/length(x)})\n",
    "\n",
    "NAs_tsfMRI_midr2semp <- apply(tsfMRI_midr2semp, 2, function(x) {sum(is.na(x)|is.nan(x))/length(x)})\n",
    "INFs_tsfMRI_midr2semp <- apply(tsfMRI_midr2semp, 2, function(x) {is.infinite(x)/length(x)})\n",
    "\n",
    "NAs_tsfMRI_mrisst02 <- apply(tsfMRI_mrisst02, 2, function(x) {sum(is.na(x)|is.nan(x))/length(x)})\n",
    "INFs_tsfMRI_mrisst02 <- apply(tsfMRI_mrisst02, 2, function(x) {is.infinite(x)/length(x)})\n",
    "\n",
    "NAs_tsfMRI_tfsstabwdp <- apply(tsfMRI_tfsstabwdp, 2, function(x) {sum(is.na(x)|is.nan(x))/length(x)})\n",
    "INFs_tsfMRI_tfsstabwdp <- apply(tsfMRI_tfsstabwdp, 2, function(x) {is.infinite(x)/length(x)})\n",
    "\n",
    "NAs_tsfMRI_tfsstasemdp <- apply(tsfMRI_tfsstasemdp, 2, function(x) {sum(is.na(x)|is.nan(x))/length(x)})\n",
    "INFs_tsfMRI_tfsstasemdp <- apply(tsfMRI_tfsstasemdp, 2, function(x) {is.infinite(x)/length(x)})\n",
    "\n",
    "NAs_tsfMRI_mrisstsem01 <- apply(tsfMRI_mrisstsem01, 2, function(x) {sum(is.na(x)|is.nan(x))/length(x)})\n",
    "INFs_tsfMRI_mrisstsem01 <- apply(tsfMRI_mrisstsem01, 2, function(x) {is.infinite(x)/length(x)})\n",
    "\n",
    "NAs_tsfMRI_mrisstr1bw01 <- apply(tsfMRI_mrisstr1bw01, 2, function(x) {sum(is.na(x)|is.nan(x))/length(x)})\n",
    "INFs_tsfMRI_mrisstr1bw01 <- apply(tsfMRI_mrisstr1bw01, 2, function(x) {is.infinite(x)/length(x)})\n",
    "\n",
    "NAs_tsfMRI_tfsstr1bwdp <- apply(tsfMRI_tfsstr1bwdp, 2, function(x) {sum(is.na(x)|is.nan(x))/length(x)})\n",
    "INFs_tsfMRI_tfsstr1bwdp <- apply(tsfMRI_tfsstr1bwdp, 2, function(x) {is.infinite(x)/length(x)})\n",
    "\n",
    "NAs_tsfMRI_tfsstr1semdp <- apply(tsfMRI_tfsstr1semdp, 2, function(x) {sum(is.na(x)|is.nan(x))/length(x)})\n",
    "INFs_tsfMRI_tfsstr1semdp <- apply(tsfMRI_tfsstr1semdp, 2, function(x) {is.infinite(x)/length(x)})\n",
    "\n",
    "NAs_tsfMRI_mrisstr1sem01 <- apply(tsfMRI_mrisstr1sem01, 2, function(x) {sum(is.na(x)|is.nan(x))/length(x)})\n",
    "INFs_tsfMRI_mrisstr1sem01 <- apply(tsfMRI_mrisstr1sem01, 2, function(x) {is.infinite(x)/length(x)})\n",
    "\n",
    "NAs_tsfMRI_mrisstr2bw01 <- apply(tsfMRI_mrisstr2bw01, 2, function(x) {sum(is.na(x)|is.nan(x))/length(x)})\n",
    "INFs_tsfMRI_mrisstr2bw01 <- apply(tsfMRI_mrisstr2bw01, 2, function(x) {is.infinite(x)/length(x)})\n",
    "\n",
    "NAs_tsfMRI_tfsstr2bwdp <- apply(tsfMRI_tfsstr2bwdp, 2, function(x) {sum(is.na(x)|is.nan(x))/length(x)})\n",
    "INFs_tsfMRI_tfsstr2bwdp <- apply(tsfMRI_tfsstr2bwdp, 2, function(x) {is.infinite(x)/length(x)})\n",
    "\n",
    "NAs_tsfMRI_tfsstr2semdp <- apply(tsfMRI_tfsstr2semdp, 2, function(x) {sum(is.na(x)|is.nan(x))/length(x)})\n",
    "INFs_tsfMRI_tfsstr2semdp <- apply(tsfMRI_tfsstr2semdp, 2, function(x) {is.infinite(x)/length(x)})\n",
    "\n",
    "NAs_tsfMRI_mrisstr2bwsem01 <- apply(tsfMRI_mrisstr2bwsem01, 2, function(x) {sum(is.na(x)|is.nan(x))/length(x)})\n",
    "INFs_tsfMRI_mrisstr2bwsem01 <- apply(tsfMRI_mrisstr2bwsem01, 2, function(x) {is.infinite(x)/length(x)})\n",
    "\n",
    "NAs_tsfMRI_nback_bwroi02 <- apply(tsfMRI_nback_bwroi02, 2, function(x) {sum(is.na(x)|is.nan(x))/length(x)})\n",
    "INFs_tsfMRI_nback_bwroi02 <- apply(tsfMRI_nback_bwroi02, 2, function(x) {is.infinite(x)/length(x)})\n",
    "\n",
    "NAs_tsfMRI_tfabwdp <- apply(tsfMRI_tfabwdp, 2, function(x) {sum(is.na(x)|is.nan(x))/length(x)})\n",
    "INFs_tsfMRI_tfabwdp <- apply(tsfMRI_tfabwdp, 2, function(x) {is.infinite(x)/length(x)})\n",
    "\n",
    "NAs_tsfMRI_tnbasemdp <- apply(tsfMRI_tnbasemdp, 2, function(x) {sum(is.na(x)|is.nan(x))/length(x)})\n",
    "INFs_tsfMRI_tnbasemdp <- apply(tsfMRI_tnbasemdp, 2, function(x) {is.infinite(x)/length(x)})\n",
    "\n",
    "NAs_tsfMRI_nbackallsem01 <- apply(tsfMRI_nbackallsem01, 2, function(x) {sum(is.na(x)|is.nan(x))/length(x)})\n",
    "INFs_tsfMRI_nbackallsem01 <- apply(tsfMRI_nbackallsem01, 2, function(x) {is.infinite(x)/length(x)})\n",
    "\n",
    "NAs_tsfMRI_nbackr101 <- apply(tsfMRI_nbackr101, 2, function(x) {sum(is.na(x)|is.nan(x))/length(x)})\n",
    "INFs_tsfMRI_nbackr101 <- apply(tsfMRI_nbackr101, 2, function(x) {is.infinite(x)/length(x)})\n",
    "\n",
    "NAs_tsfMRI_tfncr1bwdp <- apply(tsfMRI_tfncr1bwdp, 2, function(x) {sum(is.na(x)|is.nan(x))/length(x)})\n",
    "INFs_tsfMRI_tfncr1bwdp <- apply(tsfMRI_tfncr1bwdp, 2, function(x) {is.infinite(x)/length(x)})\n",
    "\n",
    "NAs_tsfMRI_tfnbr1semdp <- apply(tsfMRI_tfnbr1semdp, 2, function(x) {sum(is.na(x)|is.nan(x))/length(x)})\n",
    "INFs_tsfMRI_tfnbr1semdp <- apply(tsfMRI_tfnbr1semdp, 2, function(x) {is.infinite(x)/length(x)})\n",
    "\n",
    "NAs_tsfMRI_tfnbr2bwdp <- apply(tsfMRI_tfnbr2bwdp, 2, function(x) {sum(is.na(x)|is.nan(x))/length(x)})\n",
    "INFs_tsfMRI_tfnbr2bwdp <- apply(tsfMRI_tfnbr2bwdp, 2, function(x) {is.infinite(x)/length(x)})\n",
    "\n",
    "NAs_tsfMRI_tfnbr2dp <- apply(tsfMRI_tfnbr2dp, 2, function(x) {sum(is.na(x)|is.nan(x))/length(x)})\n",
    "INFs_tsfMRI_tfnbr2dp <- apply(tsfMRI_tfnbr2dp, 2, function(x) {is.infinite(x)/length(x)})\n",
    "\n",
    "NAs_tsfMRI_nbackr1sem01 <- apply(tsfMRI_nbackr1sem01, 2, function(x) {sum(is.na(x)|is.nan(x))/length(x)})\n",
    "INFs_tsfMRI_nbackr1sem01 <- apply(tsfMRI_nbackr1sem01, 2, function(x) {is.infinite(x)/length(x)})\n",
    "\n",
    "NAs_tsfMRI_nbackr201 <- apply(tsfMRI_nbackr201, 2, function(x) {sum(is.na(x)|is.nan(x))/length(x)})\n",
    "INFs_tsfMRI_nbackr201 <- apply(tsfMRI_nbackr201, 2, function(x) {is.infinite(x)/length(x)})\n",
    "\n",
    "NAs_tsfMRI_nbackr2sem01 <- apply(tsfMRI_nbackr2sem01, 2, function(x) {sum(is.na(x)|is.nan(x))/length(x)})\n",
    "INFs_tsfMRI_nbackr2sem01 <- apply(tsfMRI_nbackr2sem01, 2, function(x) {is.infinite(x)/length(x)})"
   ]
  },
  {
   "cell_type": "code",
   "execution_count": null,
   "id": "1758dbaf-08db-4d42-9d60-704f5cefc715",
   "metadata": {},
   "outputs": [],
   "source": [
    "# Max missingness\n",
    "cat(\"NAs_tsfMRI_mriqcrp: \", round(max(NAs_tsfMRI_mriqcrp), 3),\n",
    "   \"\\nINFs_tsfMRI_mriqcrp: \", round(max(INFs_tsfMRI_mriqcrp), 3),\n",
    "    \n",
    "   \"\\n\\nNAs_tsfMRI_postqc: \", round(max(NAs_tsfMRI_postqc), 3),\n",
    "   \"\\nINFs_tsfMRI_postqc: \", round(max(INFs_tsfMRI_postqc), 3),\n",
    "    \n",
    "   \"\\n\\nNAs_tsfMRI_midabwdp: \", round(max(NAs_tsfMRI_midabwdp), 3),\n",
    "   \"\\nINFs_tsfMRI_midabwdp: \", round(max(INFs_tsfMRI_midabwdp), 3),\n",
    "    \n",
    "   \"\\n\\nNAs_fmriqc: \", round(max(NAs_fmriqc), 3),\n",
    "   \"\\nINFs_fmriqc: \", round(max(INFs_fmriqc), 3),\n",
    "    \n",
    "   \"\\n\\nNAs_tsfMRI_midaparcp: \", round(max(NAs_tsfMRI_midaparcp), 3),\n",
    "   \"\\nINFs_tsfMRI_midaparcp: \", round(max(INFs_tsfMRI_midaparcp), 3),\n",
    "    \n",
    "   \"\\n\\nNAs_tsfMRI_midasemdp: \", round(max(NAs_tsfMRI_midasemdp), 3),\n",
    "   \"\\nINFs_tsfMRI_midasemdp: \", round(max(INFs_tsfMRI_midasemdp), 3),\n",
    "    \n",
    "   \"\\n\\nNAs_tsfMRI_midasemp: \", round(max(NAs_tsfMRI_midasemp), 3),\n",
    "   \"\\nINFs_tsfMRI_midasemp: \", round(max(INFs_tsfMRI_midasemp), 3),\n",
    "    \n",
    "   \"\\n\\nNAs_tsfMRI_midr1bwdp: \", round(max(NAs_tsfMRI_midr1bwdp), 3),\n",
    "   \"\\nINFs_tsfMRI_midr1bwdp: \", round(max(INFs_tsfMRI_midr1bwdp), 3),\n",
    "    \n",
    "   \"\\n\\nNAs_tsfMRI_midr1bwp: \", round(max(NAs_tsfMRI_midr1bwp), 3),\n",
    "   \"\\nINFs_tsfMRI_midr1bwp: \", round(max(INFs_tsfMRI_midr1bwp), 3),\n",
    "    \n",
    "   \"\\n\\nNAs_tsfMRI_tmidr1semdp: \", round(max(NAs_tsfMRI_tmidr1semdp), 3),\n",
    "   \"\\nINFs_tsfMRI_tmidr1semdp: \", round(max(INFs_tsfMRI_tmidr1semdp), 3),\n",
    "    \n",
    "   \"\\n\\nNAs_tsfMRI_midsemp: \", round(max(NAs_tsfMRI_midsemp), 3),\n",
    "   \"\\nINFs_tsfMRI_midsemp: \", round(max(INFs_tsfMRI_midsemp), 3),\n",
    "    \n",
    "   \"\\n\\nNAs_tsfMRI_tr2bwdp: \", round(max(NAs_tsfMRI_tr2bwdp), 3),\n",
    "   \"\\nINFs_tsfMRI_tr2bwdp: \", round(max(INFs_tsfMRI_tr2bwdp), 3),\n",
    "    \n",
    "   \"\\n\\nNAs_tsfMRI_midr2bwp: \", round(max(NAs_tsfMRI_midr2bwp), 3),\n",
    "   \"\\nINFs_tsfMRI_midr2bwp: \", round(max(INFs_tsfMRI_midr2bwp), 3),\n",
    "    \n",
    "   \"\\n\\nNAs_tsfMRI_tr2semdp: \", round(max(NAs_tsfMRI_tr2semdp), 3),\n",
    "   \"\\nINFs_tsfMRI_tr2semdp: \", round(max(INFs_tsfMRI_tr2semdp), 3),\n",
    "    \n",
    "   \"\\n\\nNAs_tsfMRI_midr2semp: \", round(max(NAs_tsfMRI_midr2semp), 3),\n",
    "   \"\\nINFs_tsfMRI_midr2semp: \", round(max(INFs_tsfMRI_midr2semp), 3),\n",
    "    \n",
    "   \"\\n\\nNAs_tsfMRI_mrisst02: \", round(max(NAs_tsfMRI_mrisst02), 3),\n",
    "   \"\\nINFs_tsfMRI_mrisst02: \", round(max(INFs_tsfMRI_mrisst02), 3),\n",
    "    \n",
    "   \"\\n\\nNAs_tsfMRI_tfsstabwdp: \", round(max(NAs_tsfMRI_tfsstabwdp), 3),\n",
    "   \"\\nINFs_tsfMRI_tfsstabwdp: \", round(max(INFs_tsfMRI_tfsstabwdp), 3),\n",
    "    \n",
    "   \"\\n\\nNAs_tsfMRI_tfsstasemdp: \", round(max(NAs_tsfMRI_tfsstasemdp), 3),\n",
    "   \"\\nINFs_tsfMRI_tfsstasemdp: \", round(max(INFs_tsfMRI_tfsstasemdp), 3),\n",
    "    \n",
    "   \"\\n\\nNAs_tsfMRI_mrisstsem01: \", round(max(NAs_tsfMRI_mrisstsem01), 3),\n",
    "   \"\\nINFs_tsfMRI_mrisstsem01: \", round(max(INFs_tsfMRI_mrisstsem01), 3),\n",
    "    \n",
    "   \"\\n\\nNAs_tsfMRI_tfsstr1bwdp: \", round(max(NAs_tsfMRI_tfsstr1bwdp), 3),\n",
    "   \"\\nINFs_tsfMRI_tfsstr1bwdp: \", round(max(INFs_tsfMRI_tfsstr1bwdp), 3),\n",
    "    \n",
    "   \"\\n\\nNAs_tsfMRI_tfsstr1semdp: \", round(max(NAs_tsfMRI_tfsstr1semdp), 3),\n",
    "   \"\\nINFs_tsfMRI_tfsstr1semdp: \", round(max(INFs_tsfMRI_tfsstr1semdp), 3),\n",
    "    \n",
    "   \"\\n\\nNAs_tsfMRI_mrisstr1sem01: \", round(max(NAs_tsfMRI_mrisstr1sem01), 3),\n",
    "   \"\\nINFs_tsfMRI_mrisstr1sem01: \", round(max(INFs_tsfMRI_mrisstr1sem01), 3),\n",
    "    \n",
    "   \"\\n\\nNAs_tsfMRI_mrisstr2bw01: \", round(max(NAs_tsfMRI_mrisstr2bw01), 3),\n",
    "   \"\\nINFs_tsfMRI_mrisstr2bw01: \", round(max(INFs_tsfMRI_mrisstr2bw01), 3),\n",
    "    \n",
    "   \"\\n\\nNAs_tsfMRI_tfsstr2bwdp: \", round(max(NAs_tsfMRI_tfsstr2bwdp), 3),\n",
    "   \"\\nINFs_tsfMRI_tfsstr2bwdp: \", round(max(INFs_tsfMRI_tfsstr2bwdp), 3),\n",
    "    \n",
    "   \"\\n\\nNAs_tsfMRI_tfsstr2semdp: \", round(max(NAs_tsfMRI_tfsstr2semdp), 3),\n",
    "   \"\\nINFs_tsfMRI_tfsstr2semdp: \", round(max(INFs_tsfMRI_tfsstr2semdp), 3),\n",
    "    \n",
    "   \"\\n\\nNAs_tsfMRI_mrisstr2bwsem01: \", round(max(NAs_tsfMRI_mrisstr2bwsem01), 3),\n",
    "   \"\\nINFs_tsfMRI_mrisstr2bwsem01: \", round(max(INFs_tsfMRI_mrisstr2bwsem01), 3),\n",
    "    \n",
    "   \"\\n\\nNAs_tsfMRI_nback_bwroi02: \", round(max(NAs_tsfMRI_nback_bwroi02), 3),\n",
    "   \"\\nINFs_tsfMRI_nback_bwroi02: \", round(max(INFs_tsfMRI_nback_bwroi02), 3),\n",
    "    \n",
    "   \"\\n\\nNAs_tsfMRI_tfabwdp: \", round(max(NAs_tsfMRI_tfabwdp), 3),\n",
    "   \"\\nINFs_tsfMRI_tfabwdp: \", round(max(INFs_tsfMRI_tfabwdp), 3),\n",
    "    \n",
    "   \"\\n\\nNAs_tsfMRI_tnbasemdp: \", round(max(NAs_tsfMRI_tnbasemdp), 3),\n",
    "   \"\\nINFs_tsfMRI_tnbasemdp: \", round(max(INFs_tsfMRI_tnbasemdp), 3),\n",
    "    \n",
    "   \"\\n\\nNAs_tsfMRI_nbackallsem01: \", round(max(NAs_tsfMRI_nbackallsem01), 3),\n",
    "   \"\\nINFs_tsfMRI_nbackallsem01: \", round(max(INFs_tsfMRI_nbackallsem01), 3),\n",
    "    \n",
    "   \"\\n\\nNAs_tsfMRI_nbackr101: \", round(max(NAs_tsfMRI_nbackr101), 3),\n",
    "   \"\\nINFs_tsfMRI_nbackr101: \", round(max(INFs_tsfMRI_nbackr101), 3),\n",
    "    \n",
    "   \"\\n\\nNAs_tsfMRI_tfncr1bwdp: \", round(max(NAs_tsfMRI_tfncr1bwdp), 3),\n",
    "   \"\\nINFs_tsfMRI_tfncr1bwdp: \", round(max(INFs_tsfMRI_tfncr1bwdp), 3),\n",
    "    \n",
    "   \"\\n\\nNAs_tsfMRI_tfnbr1semdp: \", round(max(NAs_tsfMRI_tfnbr1semdp), 3),\n",
    "   \"\\nINFs_tsfMRI_tfnbr1semdp: \", round(max(INFs_tsfMRI_tfnbr1semdp), 3),\n",
    "    \n",
    "   \"\\n\\n:NAs_tsfMRI_tfnbr2bwdp \", round(max(NAs_tsfMRI_tfnbr2bwdp), 3),\n",
    "   \"\\nINFs_tsfMRI_tfnbr2bwdp: \", round(max(INFs_tsfMRI_tfnbr2bwdp), 3),\n",
    "    \n",
    "   \"\\n\\nNAs_tsfMRI_tfnbr2dp: \", round(max(NAs_tsfMRI_tfnbr2dp), 3),\n",
    "   \"\\nINFs_tsfMRI_tfnbr2dp: \", round(max(INFs_tsfMRI_tfnbr2dp), 3),\n",
    "    \n",
    "   \"\\n\\nNAs_tsfMRI_nbackr1sem01: \", round(max(NAs_tsfMRI_nbackr1sem01), 3),\n",
    "   \"\\nINFs_tsfMRI_nbackr1sem01: \", round(max(INFs_tsfMRI_nbackr1sem01), 3),\n",
    "    \n",
    "   \"\\n\\nNAs_tsfMRI_nbackr201: \", round(max(NAs_tsfMRI_nbackr201), 3),\n",
    "   \"\\nINFs_tsfMRI_nbackr201: \", round(max(INFs_tsfMRI_nbackr201), 3),\n",
    "    \n",
    "   \"\\n\\nNAs_tsfMRI_nbackr2sem01: \", round(max(NAs_tsfMRI_nbackr2sem01), 3),\n",
    "   \"\\nINFs_tsfMRI_nbackr2sem01: \", round(max(INFs_tsfMRI_nbackr2sem01), 3))"
   ]
  },
  {
   "cell_type": "code",
   "execution_count": null,
   "id": "ffdfd063-aa21-45d1-9e59-b6bc24da9bc0",
   "metadata": {},
   "outputs": [],
   "source": [
    "# Remove columns with high rates of NAs\n",
    "\n",
    "tsfMRI_mriqcrp <- tsfMRI_mriqcrp[!colSums(is.na(tsfMRI_mriqcrp)) > 0.1]\n",
    "tsfMRI_postqc <- tsfMRI_postqc[!colSums(is.na(tsfMRI_postqc)) > 0.1]\n",
    "fmriqc <- fmriqc[!colSums(is.na(fmriqc)) > 0.1]\n",
    "\n",
    "NAs_tsfMRI_mriqcrp <- apply(tsfMRI_mriqcrp, 2, function(x) {sum(is.na(x)|is.nan(x))/length(x)})\n",
    "NAs_tsfMRI_postqc <- apply(tsfMRI_postqc, 2, function(x) {sum(is.na(x)|is.nan(x))/length(x)})\n",
    "NAs_fmriqc <- apply(fmriqc, 2, function(x) {sum(is.na(x)|is.nan(x))/length(x)})\n",
    "\n",
    "cat(\"NAs_rsfMRI_mriqcrp: \", round(max(NAs_tsfMRI_mriqcrp), 3),    \n",
    "   \"\\nNAs_rsfMRI_postqc: \", round(max(NAs_tsfMRI_postqc), 3),    \n",
    "   \"\\nNAs_fmriqc: \", round(max(NAs_fmriqc), 3))"
   ]
  },
  {
   "cell_type": "markdown",
   "id": "8b5e23d6-916b-48fd-93c9-87348ef36520",
   "metadata": {},
   "source": [
    "### Combine and Process Datasets"
   ]
  },
  {
   "cell_type": "code",
   "execution_count": null,
   "id": "c1788cf0-66ba-4ec1-b054-d55bac8e31bb",
   "metadata": {},
   "outputs": [],
   "source": [
    "# Calculate number of predictors for all datasets\n",
    "\n",
    "cat(\" 1. tsfMRI_mriqcrp:\", dim(tsfMRI_mriqcrp)[2]-1,\n",
    "    \"\\n 2. tsfMRI_postqc:\", dim(tsfMRI_postqc)[2]-1,\n",
    "    \"\\n 3. tsfMRI_midabwdp:\", dim(tsfMRI_midabwdp)[2]-1,\n",
    "    \"\\n 4. fmriqc:\", dim(fmriqc)[2]-1,\n",
    "    \"\\n 5. tsfMRI_midaparcp:\", dim(tsfMRI_midaparcp)[2]-1,\n",
    "    \"\\n 6. tsfMRI_midasemdp:\", dim(tsfMRI_midasemdp)[2]-1,\n",
    "    \"\\n 7. tsfMRI_midasemp:\", dim(tsfMRI_midasemp)[2]-1,\n",
    "    \"\\n 8. tsfMRI_midr1bwdp:\", dim(tsfMRI_midr1bwdp)[2]-1,\n",
    "    \"\\n 9. tsfMRI_midr1bwp:\", dim(tsfMRI_midr1bwp)[2]-1,\n",
    "    \"\\n10. tsfMRI_tmidr1semdp:\", dim(tsfMRI_tmidr1semdp)[2]-1,\n",
    "    \"\\n11. tsfMRI_midsemp\", dim(tsfMRI_midsemp)[2]-1,\n",
    "    \"\\n12. tsfMRI_tr2bwdp\", dim(tsfMRI_tr2bwdp)[2]-1,\n",
    "    \"\\n13. tsfMRI_midr2bwp\", dim(tsfMRI_midr2bwp)[2]-1,\n",
    "    \"\\n14. tsfMRI_tr2semdp\", dim(tsfMRI_tr2semdp)[2]-1,\n",
    "    \"\\n15. tsfMRI_midr2semp\", dim(tsfMRI_midr2semp)[2]-1,\n",
    "    \"\\n16. tsfMRI_mrisst02\", dim(tsfMRI_mrisst02)[2]-1,\n",
    "    \"\\n17. tsfMRI_tfsstabwdp\", dim(tsfMRI_tfsstabwdp)[2]-1,\n",
    "    \"\\n18. tsfMRI_tfsstasemdp\", dim(tsfMRI_tfsstasemdp)[2]-1,\n",
    "    \"\\n19. tsfMRI_mrisstsem01\", dim(tsfMRI_mrisstsem01)[2]-1,\n",
    "    \"\\n20. tsfMRI_mrisstr1bw01\", dim(tsfMRI_mrisstr1bw01)[2]-1,\n",
    "    \"\\n21. tsfMRI_tfsstr1bwdp\", dim(tsfMRI_tfsstr1bwdp)[2]-1,\n",
    "    \"\\n22. tsfMRI_tfsstr1semdp\", dim(tsfMRI_tfsstr1semdp)[2]-1,\n",
    "    \"\\n23. tsfMRI_mrisstr1sem01\", dim(tsfMRI_mrisstr1sem01)[2]-1,\n",
    "    \"\\n24. tsfMRI_mrisstr2bw01\", dim(tsfMRI_mrisstr2bw01)[2]-1,\n",
    "    \"\\n25. tsfMRI_tfsstr2bwdp\", dim(tsfMRI_tfsstr2bwdp)[2]-1,\n",
    "    \"\\n26. tsfMRI_tfsstr2semdp\", dim(tsfMRI_tfsstr2semdp)[2]-1,\n",
    "    \"\\n27. tsfMRI_mrisstr2bwsem01\", dim(tsfMRI_mrisstr2bwsem01)[2]-1,\n",
    "    \"\\n28. tsfMRI_nback_bwroi02\", dim(tsfMRI_nback_bwroi02)[2]-1,\n",
    "    \"\\n29. tsfMRI_tfabwdp\", dim(tsfMRI_tfabwdp)[2]-1,\n",
    "    \"\\n30. tsfMRI_tnbasemdp\", dim(tsfMRI_tnbasemdp)[2]-1,\n",
    "    \"\\n31. tsfMRI_nbackallsem01\", dim(tsfMRI_nbackallsem01)[2]-1,\n",
    "    \"\\n32. tsfMRI_nbackr101\", dim(tsfMRI_nbackr101)[2]-1,\n",
    "    \"\\n33. tsfMRI_tfncr1bwdp\", dim(tsfMRI_tfncr1bwdp)[2]-1,\n",
    "    \"\\n34. tsfMRI_tfnbr1semdp\", dim(tsfMRI_tfnbr1semdp)[2]-1,\n",
    "    \"\\n35. tsfMRI_tfnbr2bwdp\", dim(tsfMRI_tfnbr2bwdp)[2]-1,\n",
    "    \"\\n36. tsfMRI_tfnbr2dp\", dim(tsfMRI_tfnbr2dp)[2]-1,\n",
    "    \"\\n37. tsfMRI_nbackr1sem01\", dim(tsfMRI_nbackr1sem01)[2]-1,\n",
    "    \"\\n38. tsfMRI_nbackr201\", dim(tsfMRI_nbackr201)[2]-1,\n",
    "    \"\\n49. tsfMRI_nbackr2sem01\", dim(tsfMRI_nbackr2sem01)[2]-1)"
   ]
  },
  {
   "cell_type": "code",
   "execution_count": null,
   "id": "f7f468fe-a502-4853-bcc5-b529b4139def",
   "metadata": {
    "tags": []
   },
   "outputs": [],
   "source": [
    "# Combine non-qc and qc frames\n",
    "sk <- purrr::reduce(list(tsfMRI_mriqcrp$subjectkey, tsfMRI_postqc$subjectkey, tsfMRI_midabwdp$subjectkey, fmriqc$subjectkey,\n",
    "            tsfMRI_midaparcp$subjectkey, tsfMRI_midasemdp$subjectkey, tsfMRI_midasemp$subjectkey, tsfMRI_midr1bwdp$subjectkey,\n",
    "            tsfMRI_midr1bwp$subjectkey, tsfMRI_tmidr1semdp$subjectkey, tsfMRI_midsemp$subjectkey, tsfMRI_tr2bwdp$subjectkey,\n",
    "            tsfMRI_midr2bwp$subjectkey, tsfMRI_tr2semdp$subjectkey, tsfMRI_midr2semp$subjectkey, tsfMRI_mrisst02$subjectkey,\n",
    "            tsfMRI_tfsstabwdp$subjectkey, tsfMRI_tfsstasemdp$subjectkey, tsfMRI_mrisstsem01$subjectkey, tsfMRI_mrisstr1bw01$subjectkey,\n",
    "            tsfMRI_tfsstr1bwdp$subjectkey, tsfMRI_tfsstr1semdp$subjectkey, tsfMRI_mrisstr1sem01$subjectkey, tsfMRI_mrisstr2bw01$subjectkey,\n",
    "            tsfMRI_tfsstr2bwdp$subjectkey, tsfMRI_tfsstr2semdp$subjectkey, tsfMRI_mrisstr2bwsem01$subjectkey, tsfMRI_nback_bwroi02$subjectkey,\n",
    "            tsfMRI_tfabwdp$subjectkey, tsfMRI_tnbasemdp$subjectkey, tsfMRI_nbackallsem01$subjectkey, tsfMRI_nbackr101$subjectkey,\n",
    "            tsfMRI_tfncr1bwdp$subjectkey, tsfMRI_tfnbr1semdp$subjectkey, tsfMRI_tfnbr2bwdp$subjectkey, tsfMRI_tfnbr2dp$subjectkey,\n",
    "            tsfMRI_nbackr1sem01$subjectkey, tsfMRI_nbackr201$subjectkey, tsfMRI_nbackr2sem01$subjectkey), union)\n",
    "\n",
    "tsfMRI <- data.frame(subjectkey = sk) %>%\n",
    "    full_join(tsfMRI_mriqcrp, by=c(\"subjectkey\"=\"subjectkey\")) %>%\n",
    "    full_join(tsfMRI_postqc, by=c(\"subjectkey\"=\"subjectkey\")) %>%\n",
    "    full_join(tsfMRI_midabwdp, by=c(\"subjectkey\"=\"subjectkey\")) %>%\n",
    "    full_join(fmriqc, by=c(\"subjectkey\"=\"subjectkey\")) %>%\n",
    "    full_join(tsfMRI_midaparcp, by=c(\"subjectkey\"=\"subjectkey\")) %>%\n",
    "    full_join(tsfMRI_midasemdp, by=c(\"subjectkey\"=\"subjectkey\")) %>%\n",
    "    full_join(tsfMRI_midasemp, by=c(\"subjectkey\"=\"subjectkey\")) %>%\n",
    "    full_join(tsfMRI_midr1bwdp, by=c(\"subjectkey\"=\"subjectkey\")) %>%\n",
    "    full_join(tsfMRI_midr1bwp, by=c(\"subjectkey\"=\"subjectkey\")) %>%\n",
    "    full_join(tsfMRI_tmidr1semdp, by=c(\"subjectkey\"=\"subjectkey\")) %>%\n",
    "    full_join(tsfMRI_midsemp, by=c(\"subjectkey\"=\"subjectkey\")) %>%\n",
    "    full_join(tsfMRI_tr2bwdp, by=c(\"subjectkey\"=\"subjectkey\")) %>%\n",
    "    full_join(tsfMRI_midr2bwp, by=c(\"subjectkey\"=\"subjectkey\")) %>%\n",
    "    full_join(tsfMRI_tr2semdp, by=c(\"subjectkey\"=\"subjectkey\")) %>%\n",
    "    full_join(tsfMRI_midr2semp, by=c(\"subjectkey\"=\"subjectkey\")) %>%\n",
    "    full_join(tsfMRI_mrisst02, by=c(\"subjectkey\"=\"subjectkey\")) %>%\n",
    "    full_join(tsfMRI_tfsstabwdp, by=c(\"subjectkey\"=\"subjectkey\")) %>%\n",
    "    full_join(tsfMRI_tfsstasemdp, by=c(\"subjectkey\"=\"subjectkey\")) %>%\n",
    "    full_join(tsfMRI_mrisstsem01, by=c(\"subjectkey\"=\"subjectkey\")) %>%\n",
    "    full_join(tsfMRI_mrisstr1bw01, by=c(\"subjectkey\"=\"subjectkey\")) %>%\n",
    "    full_join(tsfMRI_tfsstr1bwdp, by=c(\"subjectkey\"=\"subjectkey\")) %>%\n",
    "    full_join(tsfMRI_tfsstr1semdp, by=c(\"subjectkey\"=\"subjectkey\")) %>%\n",
    "    full_join(tsfMRI_mrisstr1sem01, by=c(\"subjectkey\"=\"subjectkey\")) %>%\n",
    "    full_join(tsfMRI_mrisstr2bw01, by=c(\"subjectkey\"=\"subjectkey\")) %>%\n",
    "    full_join(tsfMRI_tfsstr2bwdp, by=c(\"subjectkey\"=\"subjectkey\")) %>%\n",
    "    full_join(tsfMRI_tfsstr2semdp, by=c(\"subjectkey\"=\"subjectkey\")) %>%\n",
    "    full_join(tsfMRI_mrisstr2bwsem01, by=c(\"subjectkey\"=\"subjectkey\")) %>%\n",
    "    full_join(tsfMRI_nback_bwroi02, by=c(\"subjectkey\"=\"subjectkey\")) %>%\n",
    "    full_join(tsfMRI_tfabwdp, by=c(\"subjectkey\"=\"subjectkey\")) %>%\n",
    "    full_join(tsfMRI_tnbasemdp, by=c(\"subjectkey\"=\"subjectkey\")) %>%\n",
    "    full_join(tsfMRI_nbackallsem01, by=c(\"subjectkey\"=\"subjectkey\")) %>%\n",
    "    full_join(tsfMRI_nbackr101, by=c(\"subjectkey\"=\"subjectkey\")) %>%\n",
    "    full_join(tsfMRI_tfncr1bwdp, by=c(\"subjectkey\"=\"subjectkey\")) %>%\n",
    "    full_join(tsfMRI_tfnbr1semdp, by=c(\"subjectkey\"=\"subjectkey\")) %>%\n",
    "    full_join(tsfMRI_tfnbr2bwdp, by=c(\"subjectkey\"=\"subjectkey\")) %>%\n",
    "    full_join(tsfMRI_tfnbr2dp, by=c(\"subjectkey\"=\"subjectkey\")) %>%\n",
    "    full_join(tsfMRI_nbackr1sem01, by=c(\"subjectkey\"=\"subjectkey\")) %>%\n",
    "    full_join(tsfMRI_nbackr201, by=c(\"subjectkey\"=\"subjectkey\")) %>%\n",
    "    full_join(tsfMRI_nbackr2sem01, by=c(\"subjectkey\"=\"subjectkey\"))\n",
    "\n",
    "dim(tsfMRI)\n",
    "sum(is.na(tsfMRI))"
   ]
  },
  {
   "cell_type": "code",
   "execution_count": null,
   "id": "1c9dccde-7d82-4e21-ba9c-4dde895e1a76",
   "metadata": {},
   "outputs": [],
   "source": [
    "# Mean impute tsfMRI\n",
    "for(i in 2:ncol(tsfMRI)){\n",
    "  tsfMRI[is.na(tsfMRI[,i]), i] <- mean(tsfMRI[,i], na.rm = TRUE)\n",
    "}\n",
    "\n",
    "dim(tsfMRI)\n",
    "sum(is.na(tsfMRI))"
   ]
  },
  {
   "cell_type": "code",
   "execution_count": null,
   "id": "b4dd19b4-f444-435e-95dd-4e14c78ae058",
   "metadata": {},
   "outputs": [],
   "source": [
    "# Remove variables with range of 0\n",
    "Range <- apply(tsfMRI[,-1], 2, function(x) {range(x)[2]-range(x)[1]})\n",
    "tsfMRI <- tsfMRI %>% select(-names(Range[Range==0]))\n",
    "\n",
    "dim(tsfMRI)\n",
    "head(tsfMRI)"
   ]
  },
  {
   "cell_type": "code",
   "execution_count": null,
   "id": "4b1ae1ad-d1e8-4dba-80b9-1267809471c1",
   "metadata": {},
   "outputs": [],
   "source": [
    "# Save fMRI data, remove all other variables\n",
    "saveRDS(tsfMRI, file=\"./CSI/Preprocessed/kernel_tsfMRI.rds\")\n",
    "rm(list=setdiff(ls(), \"tsfMRI\"))\n",
    "ls()"
   ]
  },
  {
   "cell_type": "code",
   "execution_count": null,
   "id": "ea437fbd-cd4d-49fc-aa0c-58ae77f2a88b",
   "metadata": {},
   "outputs": [],
   "source": [
    "# Split dataframe into 3 smaller dataframes\n",
    "tsfMRI1 <- tsfMRI[ ,c(1, 2:9615)]\n",
    "\n",
    "tsfMRI2 <- tsfMRI[ ,c(1, 9616:19231)]\n",
    "\n",
    "tsfMRI3 <- tsfMRI[ ,c(1, 19232:28847)]\n",
    "\n",
    "tsfMRI4 <- tsfMRI[ ,c(1, 28848:38462)]"
   ]
  },
  {
   "cell_type": "code",
   "execution_count": null,
   "id": "54866c7e-0e5d-4989-8f1f-7a1dba0404dc",
   "metadata": {},
   "outputs": [],
   "source": [
    "# Range-normalize data\n",
    "tsfMRI1[,-1] <- apply(tsfMRI1[,-1], 2, function(x) {(x - min(x))/(max(x) - min(x))})\n",
    "sum(is.na(tsfMRI1))\n",
    "\n",
    "dim(tsfMRI1)\n",
    "head(tsfMRI1)"
   ]
  },
  {
   "cell_type": "code",
   "execution_count": null,
   "id": "8513ce70-9ccb-4ecf-bb8a-2c3f289d48c7",
   "metadata": {},
   "outputs": [],
   "source": [
    "# Range-normalize data\n",
    "tsfMRI2[,-1] <- apply(tsfMRI2[,-1], 2, function(x) {(x - min(x))/(max(x) - min(x))})\n",
    "sum(is.na(tsfMRI2))\n",
    "\n",
    "dim(tsfMRI2)\n",
    "head(tsfMRI2)"
   ]
  },
  {
   "cell_type": "code",
   "execution_count": null,
   "id": "ba574e52-718d-443d-b4a5-616b52e22b77",
   "metadata": {},
   "outputs": [],
   "source": [
    "# Range-normalize data\n",
    "tsfMRI3[,-1] <- apply(tsfMRI3[,-1], 2, function(x) {(x - min(x))/(max(x) - min(x))})\n",
    "sum(is.na(tsfMRI3))\n",
    "\n",
    "dim(tsfMRI3)\n",
    "head(tsfMRI3)"
   ]
  },
  {
   "cell_type": "code",
   "execution_count": null,
   "id": "fa76bb1e-5099-46c5-8739-3a0bae023fe0",
   "metadata": {},
   "outputs": [],
   "source": [
    "# Range-normalize data\n",
    "tsfMRI4[,-1] <- apply(tsfMRI4[,-1], 2, function(x) {(x - min(x))/(max(x) - min(x))})\n",
    "sum(is.na(tsfMRI4))\n",
    "\n",
    "dim(tsfMRI4)\n",
    "head(tsfMRI4)"
   ]
  },
  {
   "cell_type": "code",
   "execution_count": null,
   "id": "d249e8b0-14f4-43b4-a441-7a091ad8af9e",
   "metadata": {},
   "outputs": [],
   "source": [
    "# Remove variables with low variances\n",
    "dim(tsfMRI1)\n",
    "\n",
    "Vars <- apply(tsfMRI1[,-1], 2, function(x) {var(x)})\n",
    "tsfMRI1 <- tsfMRI1 %>% select(-names(Vars[Vars<0.001]))\n",
    "\n",
    "dim(tsfMRI1)\n",
    "head(tsfMRI1)"
   ]
  },
  {
   "cell_type": "code",
   "execution_count": null,
   "id": "4149d87e-a63f-4ee4-810f-3fed9d676975",
   "metadata": {},
   "outputs": [],
   "source": [
    "# Remove variables with low variances\n",
    "dim(tsfMRI2)\n",
    "\n",
    "Vars <- apply(tsfMRI2[,-1], 2, function(x) {var(x)})\n",
    "tsfMRI2 <- tsfMRI2 %>% select(-names(Vars[Vars<0.001]))\n",
    "\n",
    "dim(tsfMRI2)\n",
    "head(tsfMRI2)"
   ]
  },
  {
   "cell_type": "code",
   "execution_count": null,
   "id": "b162e346-a3dd-47e9-a72f-9456501be430",
   "metadata": {},
   "outputs": [],
   "source": [
    "# Remove variables with low variances\n",
    "dim(tsfMRI3)\n",
    "\n",
    "Vars <- apply(tsfMRI3[,-1], 2, function(x) {var(x)})\n",
    "tsfMRI3 <- tsfMRI3 %>% select(-names(Vars[Vars<0.001]))\n",
    "\n",
    "dim(tsfMRI3)\n",
    "head(tsfMRI3)"
   ]
  },
  {
   "cell_type": "code",
   "execution_count": null,
   "id": "e378438d-d374-4a94-aadd-d03fbb9d0da6",
   "metadata": {},
   "outputs": [],
   "source": [
    "# Remove variables with low variances\n",
    "dim(tsfMRI4)\n",
    "\n",
    "Vars <- apply(tsfMRI4[,-1], 2, function(x) {var(x)})\n",
    "tsfMRI4 <- tsfMRI4 %>% select(-names(Vars[Vars<0.001]))\n",
    "\n",
    "dim(tsfMRI4)\n",
    "head(tsfMRI4)"
   ]
  },
  {
   "cell_type": "code",
   "execution_count": null,
   "id": "eeec7c44-74e9-4ece-8bbd-27cb37beac9a",
   "metadata": {},
   "outputs": [],
   "source": [
    "# Join modified frames\n",
    "tsfMRI <- full_join(tsfMRI1, tsfMRI2, by = c(\"subjectkey\" = \"subjectkey\")) %>%\n",
    "    full_join(tsfMRI3, by = c(\"subjectkey\" = \"subjectkey\")) %>%\n",
    "    full_join(tsfMRI4, by = c(\"subjectkey\" = \"subjectkey\"))\n",
    "\n",
    "dim(tsfMRI)"
   ]
  },
  {
   "cell_type": "code",
   "execution_count": null,
   "id": "99897241-b09d-4b58-91af-545b41e63e30",
   "metadata": {},
   "outputs": [],
   "source": [
    "# Save fMRI data\n",
    "saveRDS(tsfMRI, file=\"./CSI/Preprocessed/kernel_tsfMRI.rds\")"
   ]
  }
 ],
 "metadata": {
  "kernelspec": {
   "display_name": "UFRC R-4.0",
   "language": "R",
   "name": "ir-ufrc-4.0"
  },
  "language_info": {
   "codemirror_mode": "r",
   "file_extension": ".r",
   "mimetype": "text/x-r-source",
   "name": "R",
   "pygments_lexer": "r",
   "version": "4.0.5"
  }
 },
 "nbformat": 4,
 "nbformat_minor": 5
}
