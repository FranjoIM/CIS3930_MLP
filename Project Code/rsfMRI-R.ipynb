{
 "cells": [
  {
   "cell_type": "markdown",
   "id": "5a77f955-d4fb-420c-983a-b92863e086fd",
   "metadata": {},
   "source": [
    "# rsfMRI Kernel Preprocessing"
   ]
  },
  {
   "cell_type": "code",
   "execution_count": null,
   "id": "a16c9f83-c77f-498a-91b0-3d921e03026c",
   "metadata": {},
   "outputs": [],
   "source": [
    "# Set working directory\n",
    "setwd(\"./WorkDir\")\n",
    "\n",
    "# Create holding directory for preprocessed datasets\n",
    "if (!dir.exists(\"./CSI/Preprocessed\")) {dir.create(\"./CSI/Preprocessed\")}\n",
    "\n",
    "# Load necessary libraries\n",
    "suppressPackageStartupMessages(library(tidyverse))"
   ]
  },
  {
   "cell_type": "markdown",
   "id": "2f7b20b1-a6bd-41eb-a098-2b69a77e8f49",
   "metadata": {},
   "source": [
    "### MRI QC Raw: _mriqcrp_"
   ]
  },
  {
   "cell_type": "code",
   "execution_count": null,
   "id": "a4ed8164-9870-4a49-b07d-3926a1c2765d",
   "metadata": {},
   "outputs": [],
   "source": [
    "# Import partial mriqcrp data\n",
    "mriqcrp10301 <- read_delim(\"./ABCD_Data/mriqcrp10301.txt\", \n",
    "                           delim = \"\\t\", \n",
    "                           escape_double = FALSE, \n",
    "                           col_types = \"c\", \n",
    "                           trim_ws = TRUE, \n",
    "                           na = c(\"\", \"NA\"))[-1,]\n",
    "\n",
    "mriqcrp20301 <- read_delim(\"./ABCD_Data/mriqcrp20301.txt\", \n",
    "                           delim = \"\\t\", \n",
    "                           escape_double = FALSE, \n",
    "                           col_types = \"c\", \n",
    "                           trim_ws = TRUE, \n",
    "                           na = c(\"\", \"NA\"))[-1,]\n",
    "\n",
    "mriqcrp302 <- read_delim(\"./ABCD_Data/mriqcrp302.txt\", \n",
    "                         delim = \"\\t\", \n",
    "                         escape_double = FALSE, \n",
    "                         col_types = \"c\", \n",
    "                         trim_ws = TRUE, \n",
    "                         na = c(\"\", \"NA\"))[-1,]"
   ]
  },
  {
   "cell_type": "code",
   "execution_count": null,
   "id": "c2db7cef-d717-40fe-a54d-2f79d1489814",
   "metadata": {},
   "outputs": [],
   "source": [
    "# Load partial mriqcrp data and join\n",
    "\n",
    "mriqcrp10301 <- mriqcrp10301 %>%\n",
    "    filter(eventname %in% c(\"baseline_year_1_arm_1\", \"1_year_follow_up_y_arm_1\", \"2_year_follow_up_y_arm_1\")) %>%\n",
    "    select(c(subjectkey, starts_with(\"iqc\")))\n",
    "\n",
    "mriqcrp20301 <- mriqcrp20301 %>%\n",
    "    filter(eventname %in% c(\"baseline_year_1_arm_1\", \"1_year_follow_up_y_arm_1\", \"2_year_follow_up_y_arm_1\")) %>%\n",
    "    select(c(subjectkey, starts_with(\"iqc\")))\n",
    "\n",
    "mriqcrp302 <- mriqcrp302 %>%\n",
    "    filter(eventname %in% c(\"baseline_year_1_arm_1\", \"1_year_follow_up_y_arm_1\", \"2_year_follow_up_y_arm_1\")) %>%\n",
    "    select(c(subjectkey, starts_with(\"iqc\")))\n",
    "\n",
    "mriqcrp <- mriqcrp10301 %>%\n",
    "    full_join(mriqcrp20301, by=c(\"subjectkey\"=\"subjectkey\")) %>%\n",
    "    full_join(mriqcrp302, by=c(\"subjectkey\"=\"subjectkey\"))"
   ]
  },
  {
   "cell_type": "code",
   "execution_count": null,
   "id": "f8b7c096-70cf-4cc2-9f76-c41aa1d4edda",
   "metadata": {},
   "outputs": [],
   "source": [
    "# Create a rsfMRI_mriqcrp subset\n",
    "rsfMRI_mriqcrp <- mriqcrp %>%\n",
    "    select(c(subjectkey, starts_with(\"iqc_rsfMRI_\"))) %>%\n",
    "    select(-c(ends_with(\"sub_02\"), ends_with(\"seriestime\"), ends_with(\"studydate\"), ends_with(\"seuid\"), ends_with(\"suid\"))) %>%\n",
    "    select(-matches(\"iqc_rsfMRI_\\\\d_.{0,}\"))%>%\n",
    "    mutate_at(., vars(contains(\"iqc_rsfMRI\")), as.numeric) %>%\n",
    "    group_by(subjectkey) %>%\n",
    "    summarise_at(., vars(contains(\"iqc_rsfMRI\")), mean, na.rm=T)\n",
    "\n",
    "dim(rsfMRI_mriqcrp)\n",
    "head(rsfMRI_mriqcrp)"
   ]
  },
  {
   "cell_type": "code",
   "execution_count": null,
   "id": "ca4eb34b-e0d1-4739-9a97-4271d6cd0647",
   "metadata": {},
   "outputs": [],
   "source": [
    "# Save rsfMRI_mriqcrp, remove intermediate files\n",
    "saveRDS(rsfMRI_mriqcrp, file=\"./CSI/Preprocessed/rsfMRI_mriqcrp.rds\")\n",
    "rm(mriqcrp, mriqcrp10301, mriqcrp20301, mriqcrp302)"
   ]
  },
  {
   "cell_type": "markdown",
   "id": "c85c6778-7004-432f-9a43-4a9f4d9f1602",
   "metadata": {},
   "source": [
    "### Automated Post-Processing QC Metrics: _postqc_"
   ]
  },
  {
   "cell_type": "code",
   "execution_count": null,
   "id": "cfa1fd31-a203-4d4e-8792-3fee65daf27d",
   "metadata": {},
   "outputs": [],
   "source": [
    "# Import partial postqc data\n",
    "postqc01 <- read_delim(\"./ABCD_Data/abcd_auto_postqc01.txt\", \n",
    "                           delim = \"\\t\", \n",
    "                           escape_double = FALSE, \n",
    "                           col_types = \"c\", \n",
    "                           trim_ws = TRUE, \n",
    "                           na = c(\"\", \"NA\"))[-1,]"
   ]
  },
  {
   "cell_type": "code",
   "execution_count": null,
   "id": "f2d45de0-a31d-4b99-b2be-fd7e49816dac",
   "metadata": {},
   "outputs": [],
   "source": [
    "# Create a rsfMRI_postqc subset\n",
    "rsfMRI_postqc <- postqc01 %>%\n",
    "    filter(eventname %in% c(\"baseline_year_1_arm_1\", \"1_year_follow_up_y_arm_1\", \"2_year_follow_up_y_arm_1\")) %>%\n",
    "    select(c(subjectkey, starts_with(\"apqc_fmri_\"))) %>%\n",
    "    mutate_at(., vars(starts_with(\"apqc_fmri_\")), as.numeric) %>%\n",
    "    group_by(subjectkey) %>%\n",
    "    summarise_at(., vars(starts_with(\"apqc_fmri_\")), mean, na.rm=T)\n",
    "\n",
    "dim(rsfMRI_postqc)\n",
    "head(rsfMRI_postqc)"
   ]
  },
  {
   "cell_type": "code",
   "execution_count": null,
   "id": "1de2423b-d90d-4067-b1c1-199935a06a80",
   "metadata": {},
   "outputs": [],
   "source": [
    "# Save rsfMRI_postqc, remove intermediate files\n",
    "saveRDS(rsfMRI_postqc, file=\"./CSI/Preprocessed/rsfMRI_postqc.rds\")\n",
    "rm(postqc01)"
   ]
  },
  {
   "cell_type": "markdown",
   "id": "ab314ca9-6a69-484e-8461-1cf5b8117bf7",
   "metadata": {},
   "source": [
    "### ABCD rsfMRI Destrieux: _mrirsfd_"
   ]
  },
  {
   "cell_type": "code",
   "execution_count": null,
   "id": "fa481a26-f7ae-4a62-8e49-2dd05fb74c9a",
   "metadata": {},
   "outputs": [],
   "source": [
    "# Import partial mrirsfd data\n",
    "abcd_mrirsfd01 <- read_delim(\"./ABCD_Data/abcd_mrirsfd01.txt\", \n",
    "                           delim = \"\\t\", \n",
    "                           escape_double = FALSE, \n",
    "                           col_types = \"c\", \n",
    "                           trim_ws = TRUE, \n",
    "                           na = c(\"\", \"NA\"))[-1,]"
   ]
  },
  {
   "cell_type": "code",
   "execution_count": null,
   "id": "31dbf07b-1a43-49bb-bd8d-90b7756a5bac",
   "metadata": {},
   "outputs": [],
   "source": [
    "# Create a mrirsfd subset\n",
    "mrirsfd <- abcd_mrirsfd01 %>%\n",
    "    filter(eventname %in% c(\"baseline_year_1_arm_1\", \"1_year_follow_up_y_arm_1\", \"2_year_follow_up_y_arm_1\")) %>%\n",
    "    select(c(subjectkey, starts_with(\"mrirsfd\"))) %>%\n",
    "    mutate_at(., vars(starts_with(\"mrirsfd\")), as.numeric) %>%\n",
    "    group_by(subjectkey) %>%\n",
    "    summarise_at(., vars(starts_with(\"mrirsfd\")), mean, na.rm=T)\n",
    "\n",
    "dim(mrirsfd)\n",
    "head(mrirsfd)"
   ]
  },
  {
   "cell_type": "code",
   "execution_count": null,
   "id": "8c69d86b-be8b-40e6-9e32-05e79c44bb4a",
   "metadata": {},
   "outputs": [],
   "source": [
    "# Save mrirsfd, remove intermediate files\n",
    "saveRDS(mrirsfd, file=\"./CSI/Preprocessed/mrirsfd.rds\")\n",
    "rm(abcd_mrirsfd01)"
   ]
  },
  {
   "cell_type": "markdown",
   "id": "f97a8083-c5ff-4155-a44b-e7c977a41480",
   "metadata": {},
   "source": [
    "### ABCD rsfMRI Destrieux: _betnet_"
   ]
  },
  {
   "cell_type": "code",
   "execution_count": null,
   "id": "5b749c26-bbe4-49c2-9b72-144239292631",
   "metadata": {},
   "outputs": [],
   "source": [
    "# Import partial betnet data\n",
    "abcd_betnet02 <- read_delim(\"./ABCD_Data/abcd_betnet02.txt\", \n",
    "                           delim = \"\\t\", \n",
    "                           escape_double = FALSE, \n",
    "                           col_types = \"c\", \n",
    "                           trim_ws = TRUE, \n",
    "                           na = c(\"\", \"NA\"))[-1,]"
   ]
  },
  {
   "cell_type": "code",
   "execution_count": null,
   "id": "85db84c5-435f-4332-95fc-c770ac052449",
   "metadata": {},
   "outputs": [],
   "source": [
    "# Create a betnet subset\n",
    "betnet <- abcd_betnet02 %>%\n",
    "    filter(eventname %in% c(\"baseline_year_1_arm_1\", \"1_year_follow_up_y_arm_1\", \"2_year_follow_up_y_arm_1\")) %>%\n",
    "    select(c(subjectkey, starts_with(\"rsfmri_c_\"))) %>%\n",
    "    select(-rsfmri_c_ngd_visitid) %>%\n",
    "    mutate_at(., vars(starts_with(\"rsfmri_c_\")), as.numeric) %>%\n",
    "    group_by(subjectkey) %>%\n",
    "    summarise_at(., vars(starts_with(\"rsfmri_c_\")), mean, na.rm=T)\n",
    "\n",
    "dim(betnet)\n",
    "head(betnet)"
   ]
  },
  {
   "cell_type": "code",
   "execution_count": null,
   "id": "15ead19b-3b60-476a-977c-0e712cfd4843",
   "metadata": {},
   "outputs": [],
   "source": [
    "# Save betnet, remove intermediate files\n",
    "saveRDS(betnet, file=\"./CSI/Preprocessed/betnet.rds\")\n",
    "rm(abcd_betnet02)"
   ]
  },
  {
   "cell_type": "markdown",
   "id": "db37e1c4-be62-4d75-a960-e5b091f7f1ec",
   "metadata": {},
   "source": [
    "### ABCD rsfMRI Network to Subcortical ROI Correlations: _mrirscor_"
   ]
  },
  {
   "cell_type": "code",
   "execution_count": null,
   "id": "79981482-d91a-485c-a8d7-749ca18ebd4b",
   "metadata": {},
   "outputs": [],
   "source": [
    "# Import partial mrirscor data\n",
    "mrirscor02 <- read_delim(\"./ABCD_Data/mrirscor02.txt\", \n",
    "                           delim = \"\\t\", \n",
    "                           escape_double = FALSE, \n",
    "                           col_types = \"c\", \n",
    "                           trim_ws = TRUE, \n",
    "                           na = c(\"\", \"NA\"))[-1,]"
   ]
  },
  {
   "cell_type": "code",
   "execution_count": null,
   "id": "2b9b5439-904f-4b06-92b3-186d9f2de7c4",
   "metadata": {},
   "outputs": [],
   "source": [
    "# Create a mrirscor subset\n",
    "mrirscor <- mrirscor02 %>%\n",
    "    filter(eventname %in% c(\"baseline_year_1_arm_1\", \"1_year_follow_up_y_arm_1\", \"2_year_follow_up_y_arm_1\")) %>%\n",
    "    select(c(subjectkey, starts_with(\"rsfmri_cor_\"))) %>%\n",
    "    select(-rsfmri_cor_ngd_scs_visitid) %>%\n",
    "    mutate_at(., vars(starts_with(\"rsfmri_cor_\")), as.numeric) %>%\n",
    "    group_by(subjectkey) %>%\n",
    "    summarise_at(., vars(starts_with(\"rsfmri_cor_\")), mean, na.rm=T)\n",
    "\n",
    "dim(mrirscor)\n",
    "head(mrirscor)"
   ]
  },
  {
   "cell_type": "code",
   "execution_count": null,
   "id": "2159c122-84e3-40f3-8b7b-e47255d36ce3",
   "metadata": {},
   "outputs": [],
   "source": [
    "# Save mrirscor, remove intermediate files\n",
    "saveRDS(mrirscor, file=\"./CSI/Preprocessed/mrirscor.rds\")\n",
    "rm(mrirscor02)"
   ]
  },
  {
   "cell_type": "markdown",
   "id": "c29d6717-b940-4d31-82a6-c97b889636e5",
   "metadata": {},
   "source": [
    "### ABCD rsfMRI Temporal Variance: _mrirstv_"
   ]
  },
  {
   "cell_type": "code",
   "execution_count": null,
   "id": "9c88b75d-1599-484c-838e-4af5963349c2",
   "metadata": {},
   "outputs": [],
   "source": [
    "# Import partial mrirstv data\n",
    "abcd_mrirstv02 <- read_delim(\"./ABCD_Data/abcd_mrirstv02.txt\", \n",
    "                           delim = \"\\t\", \n",
    "                           escape_double = FALSE, \n",
    "                           col_types = \"c\", \n",
    "                           trim_ws = TRUE, \n",
    "                           na = c(\"\", \"NA\"))[-1,]"
   ]
  },
  {
   "cell_type": "code",
   "execution_count": null,
   "id": "c1ae386d-43b9-4351-ab43-231747b54cad",
   "metadata": {},
   "outputs": [],
   "source": [
    "# Create a mrirstv subset\n",
    "mrirstv <- abcd_mrirstv02 %>%\n",
    "    filter(eventname %in% c(\"baseline_year_1_arm_1\", \"1_year_follow_up_y_arm_1\", \"2_year_follow_up_y_arm_1\")) %>%\n",
    "    select(c(subjectkey, starts_with(\"rsfmri_var_\"))) %>%\n",
    "    select(-rsfmri_var_visitid) %>%\n",
    "    mutate_at(., vars(starts_with(\"rsfmri_var_\")), as.numeric) %>%\n",
    "    group_by(subjectkey) %>%\n",
    "    summarise_at(., vars(starts_with(\"rsfmri_var_\")), mean, na.rm=T)\n",
    "\n",
    "dim(mrirstv)\n",
    "head(mrirstv)"
   ]
  },
  {
   "cell_type": "code",
   "execution_count": null,
   "id": "f0ab60cd-11af-41be-9dfe-9ed390c11daf",
   "metadata": {},
   "outputs": [],
   "source": [
    "# Save mrirstv, remove intermediate files\n",
    "saveRDS(mrirstv, file=\"./CSI/Preprocessed/mrirstv.rds\")\n",
    "rm(abcd_mrirstv02)"
   ]
  },
  {
   "cell_type": "markdown",
   "id": "8af14ae4-47e2-4d40-b34d-eea18b149fe9",
   "metadata": {},
   "source": [
    "### Manual fMRI Post-Processing QC: _fmriqc_"
   ]
  },
  {
   "cell_type": "code",
   "execution_count": null,
   "id": "f3c38558-a147-41d4-96f6-aaf81b92ddce",
   "metadata": {},
   "outputs": [],
   "source": [
    "# Import partial fmriqc data\n",
    "abcd_fmriqc01 <- read_delim(\"./ABCD_Data/abcd_fmriqc01.txt\", \n",
    "                           delim = \"\\t\", \n",
    "                           escape_double = FALSE, \n",
    "                           col_types = \"c\", \n",
    "                           trim_ws = TRUE, \n",
    "                           na = c(\"\", \"NA\"))[-1,]"
   ]
  },
  {
   "cell_type": "code",
   "execution_count": null,
   "id": "139ff810-c868-4126-8a3b-bdf6c1507441",
   "metadata": {},
   "outputs": [],
   "source": [
    "# Create a fmriqc subset\n",
    "fmriqc <- abcd_fmriqc01 %>%\n",
    "    filter(eventname %in% c(\"baseline_year_1_arm_1\", \"1_year_follow_up_y_arm_1\", \"2_year_follow_up_y_arm_1\")) %>%\n",
    "    select(c(subjectkey, starts_with(\"fmri_postqc_\"))) %>%\n",
    "    mutate_at(., vars(starts_with(\"fmri_postqc_\")), as.numeric) %>%\n",
    "    group_by(subjectkey) %>%\n",
    "    summarise_at(., vars(starts_with(\"fmri_postqc_\")), mean, na.rm=T)\n",
    "\n",
    "dim(fmriqc)\n",
    "head(fmriqc)"
   ]
  },
  {
   "cell_type": "code",
   "execution_count": null,
   "id": "e5de48ae-3120-4869-9e62-78305ae7f7dd",
   "metadata": {},
   "outputs": [],
   "source": [
    "# Save fmriqc, remove intermediate files\n",
    "saveRDS(fmriqc, file=\"./CSI/Preprocessed/rsfMRI_fmriqc.rds\")\n",
    "rm(abcd_fmriqc01)"
   ]
  },
  {
   "cell_type": "markdown",
   "id": "1e735bfe-111a-4a18-9f87-583710831600",
   "metadata": {},
   "source": [
    "### Remove High Missingness"
   ]
  },
  {
   "cell_type": "code",
   "execution_count": null,
   "id": "7df9ed54-606e-4858-b848-ec448fd6badb",
   "metadata": {},
   "outputs": [],
   "source": [
    "# Count Infinities, NAs, and NaNs per variable\n",
    "NAs_rsfMRI_mriqcrp <- apply(rsfMRI_mriqcrp, 2, function(x) {sum(is.na(x)|is.nan(x))/length(x)})\n",
    "INFs_rsfMRI_mriqcrp <- apply(rsfMRI_mriqcrp, 2, function(x) {is.infinite(x)/length(x)})\n",
    "\n",
    "NAs_rsfMRI_postqc <- apply(rsfMRI_postqc, 2, function(x) {sum(is.na(x)|is.nan(x))/length(x)})\n",
    "INFs_rsfMRI_postqc <- apply(rsfMRI_postqc, 2, function(x) {is.infinite(x)/length(x)})\n",
    "\n",
    "NAs_mrirsfd <- apply(mrirsfd, 2, function(x) {sum(is.na(x)|is.nan(x))/length(x)})\n",
    "INFs_mrirsfd <- apply(mrirsfd, 2, function(x) {is.infinite(x)/length(x)})\n",
    "\n",
    "NAs_betnet <- apply(betnet, 2, function(x) {sum(is.na(x)|is.nan(x))/length(x)})\n",
    "INFs_betnet <- apply(betnet, 2, function(x) {is.infinite(x)/length(x)})\n",
    "\n",
    "NAs_mrirscor <- apply(mrirscor, 2, function(x) {sum(is.na(x)|is.nan(x))/length(x)})\n",
    "INFs_mrirscor <- apply(mrirscor, 2, function(x) {is.infinite(x)/length(x)})\n",
    "\n",
    "NAs_mrirstv<- apply(mrirstv, 2, function(x) {sum(is.na(x)|is.nan(x))/length(x)})\n",
    "INFs_mrirstv <- apply(mrirstv, 2, function(x) {is.infinite(x)/length(x)})\n",
    "\n",
    "NAs_fmriqc <- apply(fmriqc, 2, function(x) {sum(is.na(x)|is.nan(x))/length(x)})\n",
    "INFs_fmriqc <- apply(fmriqc, 2, function(x) {is.infinite(x)/length(x)})"
   ]
  },
  {
   "cell_type": "code",
   "execution_count": null,
   "id": "ed5a2545-450c-4dd8-8b4b-4f9baa86ab3e",
   "metadata": {},
   "outputs": [],
   "source": [
    "# Max missingness\n",
    "cat(\"NAs_rsfMRI_mriqcrp: \", round(max(NAs_rsfMRI_mriqcrp), 3),\n",
    "   \"\\nINFs_rsfMRI_mriqcrp: \", round(max(INFs_rsfMRI_mriqcrp), 3),\n",
    "    \n",
    "   \"\\n\\nNAs_rsfMRI_postqc: \", round(max(NAs_rsfMRI_postqc), 3),\n",
    "   \"\\nINFs_rsfMRI_postqc: \", round(max(INFs_rsfMRI_postqc), 3),\n",
    "    \n",
    "   \"\\n\\nNAs_mrirsfd: \", round(max(NAs_mrirsfd), 3),\n",
    "   \"\\nINFs_mrirsfd: \", round(max(INFs_mrirsfd), 3),\n",
    "    \n",
    "   \"\\n\\nNAs_betnet: \", round(max(NAs_betnet), 3),\n",
    "   \"\\nINFs_betnet: \", round(max(INFs_betnet), 3),\n",
    "   \n",
    "   \"\\n\\nNAs_mrirscor: \", round(max(NAs_mrirscor), 3),\n",
    "   \"\\nINFs_mrirscor: \", round(max(INFs_mrirscor), 3),\n",
    "    \n",
    "   \"\\n\\nNAs_mrirstv: \", round(max(NAs_mrirstv), 3),\n",
    "   \"\\nINFs_mrirstv: \", round(max(INFs_mrirstv), 3),\n",
    "   \n",
    "   \"\\n\\nNAs_fmriqc: \", round(max(NAs_fmriqc), 3),\n",
    "   \"\\nINFs_fmriqc: \", round(max(INFs_fmriqc), 3))"
   ]
  },
  {
   "cell_type": "code",
   "execution_count": null,
   "id": "0f2d4073-b457-4d93-9649-6bddfc89c0fa",
   "metadata": {},
   "outputs": [],
   "source": [
    "# Remove columns with high rates of NAs\n",
    "\n",
    "rsfMRI_mriqcrp <- rsfMRI_mriqcrp[!colSums(is.na(rsfMRI_mriqcrp)) > 0.1]\n",
    "rsfMRI_postqc <- rsfMRI_postqc[!colSums(is.na(rsfMRI_postqc)) > 0.1]\n",
    "fmriqc <- fmriqc[!colSums(is.na(fmriqc)) > 0.1]\n",
    "\n",
    "NAs_rsfMRI_mriqcrp <- apply(rsfMRI_mriqcrp, 2, function(x) {sum(is.na(x)|is.nan(x))/length(x)})\n",
    "NAs_rsfMRI_postqc <- apply(rsfMRI_postqc, 2, function(x) {sum(is.na(x)|is.nan(x))/length(x)})\n",
    "NAs_fmriqc <- apply(fmriqc, 2, function(x) {sum(is.na(x)|is.nan(x))/length(x)})\n",
    "\n",
    "cat(\"NAs_rsfMRI_mriqcrp: \", round(max(NAs_rsfMRI_mriqcrp), 3),    \n",
    "   \"\\nNAs_rsfMRI_postqc: \", round(max(NAs_rsfMRI_postqc), 3),    \n",
    "   \"\\n: \", round(max(NAs_fmriqc), 3))"
   ]
  },
  {
   "cell_type": "markdown",
   "id": "ff2e74c1-db8b-4fe3-9980-12c7da6145ef",
   "metadata": {},
   "source": [
    "### Combine and Process Datasets"
   ]
  },
  {
   "cell_type": "code",
   "execution_count": null,
   "id": "4674dacb-1247-4ee5-b99b-8198819e6f6a",
   "metadata": {},
   "outputs": [],
   "source": [
    "# Calculate number of predictors for all datasets\n",
    "\n",
    "cat(\"rsfMRI_mriqcrp:\", dim(rsfMRI_mriqcrp)[2]-1,\n",
    "    \"\\nrsfMRI_postqc:\", dim(rsfMRI_postqc)[2]-1,\n",
    "    \"\\nmrirsfd:\", dim(mrirsfd)[2]-1,\n",
    "    \"\\nbetnet:\", dim(betnet)[2]-1,\n",
    "    \"\\nmrirscor:\", dim(mrirscor)[2]-1,\n",
    "    \"\\nmrirstv:\", dim(mrirstv)[2]-1,\n",
    "    \"\\nfmriqc:\", dim(fmriqc)[2]-1)"
   ]
  },
  {
   "cell_type": "code",
   "execution_count": null,
   "id": "65d0141e-a889-4056-b10f-a529bf99f17f",
   "metadata": {
    "tags": []
   },
   "outputs": [],
   "source": [
    "# Combine non-qc and qc frames\n",
    "sk <- purrr::reduce(list(rsfMRI_mriqcrp$subjectkey, rsfMRI_postqc$subjectkey, mrirsfd$subjectkey, betnet$subjectkey, mrirscor$subjectkey, mrirstv$subjectkey, fmriqc$subjectkey), union)\n",
    "\n",
    "rsfMRI <- data.frame(subjectkey = sk) %>%\n",
    "    full_join(rsfMRI_mriqcrp, by=c(\"subjectkey\"=\"subjectkey\")) %>%\n",
    "    full_join(rsfMRI_postqc, by=c(\"subjectkey\"=\"subjectkey\")) %>%\n",
    "    full_join(mrirsfd, by=c(\"subjectkey\"=\"subjectkey\")) %>%\n",
    "    full_join(betnet, by=c(\"subjectkey\"=\"subjectkey\")) %>%\n",
    "    full_join(mrirscor, by=c(\"subjectkey\"=\"subjectkey\")) %>%\n",
    "    full_join(mrirstv, by=c(\"subjectkey\"=\"subjectkey\")) %>%\n",
    "    full_join(fmriqc, by=c(\"subjectkey\"=\"subjectkey\"))\n",
    "\n",
    "dim(rsfMRI)\n",
    "sum(is.na(rsfMRI))"
   ]
  },
  {
   "cell_type": "code",
   "execution_count": null,
   "id": "9dd5b4c2-e83d-4a77-b93d-349b5fb64839",
   "metadata": {},
   "outputs": [],
   "source": [
    "# Mean impute rsfMRI\n",
    "for(i in 2:ncol(rsfMRI)){\n",
    "  rsfMRI[is.na(rsfMRI[,i]), i] <- mean(rsfMRI[,i], na.rm = TRUE)\n",
    "}\n",
    "\n",
    "sum(is.na(rsfMRI))"
   ]
  },
  {
   "cell_type": "code",
   "execution_count": null,
   "id": "f690da78-d13d-45f2-ac1e-95080284a33c",
   "metadata": {},
   "outputs": [],
   "source": [
    "# Remove variables with range of 0\n",
    "Range <- apply(rsfMRI[,-1], 2, function(x) {range(x)[2]-range(x)[1]})\n",
    "rsfMRI <- rsfMRI %>% select(-names(Range[Range==0]))\n",
    "\n",
    "dim(rsfMRI)\n",
    "head(rsfMRI)"
   ]
  },
  {
   "cell_type": "code",
   "execution_count": null,
   "id": "daaacf00-304c-45b9-8e75-6833d11721fa",
   "metadata": {},
   "outputs": [],
   "source": [
    "# Range-normalize data\n",
    "rsfMRI[,-1] <- apply(rsfMRI[,-1], 2, function(x) {(x - min(x))/(max(x) - min(x))})\n",
    "sum(is.na(rsfMRI))\n",
    "\n",
    "dim(rsfMRI)\n",
    "head(rsfMRI)"
   ]
  },
  {
   "cell_type": "code",
   "execution_count": null,
   "id": "1b065fab-8a95-463a-8c88-d4e3b0bb314d",
   "metadata": {},
   "outputs": [],
   "source": [
    "# Remove variables with low variances\n",
    "Vars <- apply(rsfMRI[,-1], 2, function(x) {var(x)})\n",
    "rsfMRI <- rsfMRI %>% select(-names(Vars[Vars<0.001]))\n",
    "\n",
    "dim(rsfMRI)\n",
    "head(rsfMRI)"
   ]
  },
  {
   "cell_type": "code",
   "execution_count": null,
   "id": "122a97d4-6c85-411d-88f2-fbc34fc1ad8b",
   "metadata": {},
   "outputs": [],
   "source": [
    "# Save data\n",
    "saveRDS(rsfMRI, file=\"./CSI/Preprocessed/kernel_rsfMRI.rds\")"
   ]
  },
  {
   "cell_type": "code",
   "execution_count": null,
   "id": "c866afcc-6861-469c-85e2-9dca9230a090",
   "metadata": {},
   "outputs": [],
   "source": []
  }
 ],
 "metadata": {
  "kernelspec": {
   "display_name": "UFRC R-4.0",
   "language": "R",
   "name": "ir-ufrc-4.0"
  },
  "language_info": {
   "codemirror_mode": "r",
   "file_extension": ".r",
   "mimetype": "text/x-r-source",
   "name": "R",
   "pygments_lexer": "r",
   "version": "4.0.5"
  }
 },
 "nbformat": 4,
 "nbformat_minor": 5
}
