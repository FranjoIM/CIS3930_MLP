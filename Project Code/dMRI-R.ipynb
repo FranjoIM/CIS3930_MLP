{
 "cells": [
  {
   "cell_type": "markdown",
   "id": "921b3205-6bb1-45fa-b392-6699e1df7998",
   "metadata": {},
   "source": [
    "# dMRI Kernel Preprocessing"
   ]
  },
  {
   "cell_type": "code",
   "execution_count": null,
   "id": "735dc38b-71ae-4753-bf37-47033f938efd",
   "metadata": {},
   "outputs": [],
   "source": [
    "# Set working directory\n",
    "setwd(\"./WorkDir\")\n",
    "\n",
    "# Create holding directory for preprocessed datasets\n",
    "if (!dir.exists(\"./CSI/Preprocessed\")) {dir.create(\"./CSI/Preprocessed\")}\n",
    "\n",
    "# Load necessary libraries\n",
    "suppressPackageStartupMessages(library(tidyverse))"
   ]
  },
  {
   "cell_type": "markdown",
   "id": "946c2e83-b1d0-4524-ac14-9ca780f1f8a7",
   "metadata": {},
   "source": [
    "### ABCD dMRI RSI: _drsip_"
   ]
  },
  {
   "cell_type": "code",
   "execution_count": null,
   "id": "4a22e9be-5ec9-426d-a899-ebd7eb7488c5",
   "metadata": {},
   "outputs": [],
   "source": [
    "# Import drsip data\n",
    "\n",
    "abcd_drsip101 <- read_delim(\"./ABCD_Data/abcd_drsip101.txt\", \n",
    "                            delim = \"\\t\", \n",
    "                            escape_double = FALSE, \n",
    "                            col_types = \"c\", \n",
    "                            trim_ws = TRUE, \n",
    "                            na = c(\"\", \"NA\"))[-1,]\n",
    "\n",
    "abcd_drsip201 <- read_delim(\"./ABCD_Data/abcd_drsip201.txt\", \n",
    "                            delim = \"\\t\", \n",
    "                            escape_double = FALSE, \n",
    "                            col_types = \"c\", \n",
    "                            trim_ws = TRUE, \n",
    "                            na = c(\"\", \"NA\"))[-1,]\n",
    "\n",
    "abcd_drsip301 <- read_delim(\"./ABCD_Data/abcd_drsip301.txt\", \n",
    "                            delim = \"\\t\", \n",
    "                            escape_double = FALSE, \n",
    "                            col_types = \"c\", \n",
    "                            trim_ws = TRUE, \n",
    "                            na = c(\"\", \"NA\"))[-1,]\n",
    "\n",
    "abcd_drsip401 <- read_delim(\"./ABCD_Data/abcd_drsip401.txt\", \n",
    "                            delim = \"\\t\", \n",
    "                            escape_double = FALSE, \n",
    "                            col_types = \"c\", \n",
    "                            trim_ws = TRUE, \n",
    "                            na = c(\"\", \"NA\"))[-1,]\n",
    "\n",
    "abcd_drsip501 <- read_delim(\"./ABCD_Data/abcd_drsip501.txt\", \n",
    "                            delim = \"\\t\", \n",
    "                            escape_double = FALSE, \n",
    "                            col_types = \"c\", \n",
    "                            trim_ws = TRUE, \n",
    "                            na = c(\"\", \"NA\"))[-1,]\n",
    "\n",
    "abcd_drsip601 <- read_delim(\"./ABCD_Data/abcd_drsip601.txt\", \n",
    "                            delim = \"\\t\", \n",
    "                            escape_double = FALSE, \n",
    "                            col_types = \"c\", \n",
    "                            trim_ws = TRUE, \n",
    "                            na = c(\"\", \"NA\"))[-1,]\n",
    "\n",
    "abcd_drsip701 <- read_delim(\"./ABCD_Data/abcd_drsip701.txt\", \n",
    "                            delim = \"\\t\", \n",
    "                            escape_double = FALSE, \n",
    "                            col_types = \"c\", \n",
    "                            trim_ws = TRUE, \n",
    "                            na = c(\"\", \"NA\"))[-1,]"
   ]
  },
  {
   "cell_type": "code",
   "execution_count": null,
   "id": "c4876402-0a80-40d9-805c-d461cb567b0c",
   "metadata": {},
   "outputs": [],
   "source": [
    "# Preprocess abcd_drsip101\n",
    "drsip101 <- abcd_drsip101 %>% \n",
    "    filter(eventname %in% c(\"baseline_year_1_arm_1\", \"1_year_follow_up_y_arm_1\", \"2_year_follow_up_y_arm_1\")) %>%\n",
    "    select(c(subjectkey, starts_with(\"dmri_\"))) %>%\n",
    "    select(-dmri_rsi_visitid) %>%\n",
    "    mutate_at(., vars(contains(\"dmri_\")), as.numeric) %>%\n",
    "    group_by(subjectkey) %>%\n",
    "    summarise_at(., vars(contains(\"dmri_\")), mean, na.rm=T)\n",
    "\n",
    "dim(drsip101)\n",
    "head(drsip101)"
   ]
  },
  {
   "cell_type": "code",
   "execution_count": null,
   "id": "b8354df1-b069-4ce8-bb72-1fd928cec1d4",
   "metadata": {},
   "outputs": [],
   "source": [
    "# Preprocess abcd_drsip201\n",
    "drsip201 <- abcd_drsip201 %>% \n",
    "    filter(eventname %in% c(\"baseline_year_1_arm_1\", \"1_year_follow_up_y_arm_1\", \"2_year_follow_up_y_arm_1\")) %>%\n",
    "    select(c(subjectkey, starts_with(\"dmri_\"))) %>%\n",
    "    mutate_at(., vars(contains(\"dmri_\")), as.numeric) %>%\n",
    "    group_by(subjectkey) %>%\n",
    "    summarise_at(., vars(contains(\"dmri_\")), mean, na.rm=T)\n",
    "\n",
    "dim(drsip201)\n",
    "head(drsip201)"
   ]
  },
  {
   "cell_type": "code",
   "execution_count": null,
   "id": "0eac1be9-38c2-42c5-8a06-34e45b4a40e3",
   "metadata": {},
   "outputs": [],
   "source": [
    "# Preprocess abcd_drsip301\n",
    "drsip301 <- abcd_drsip301 %>% \n",
    "    filter(eventname %in% c(\"baseline_year_1_arm_1\", \"1_year_follow_up_y_arm_1\", \"2_year_follow_up_y_arm_1\")) %>%\n",
    "    select(c(subjectkey, starts_with(\"dmri_\"))) %>%\n",
    "    mutate_at(., vars(contains(\"dmri_\")), as.numeric) %>%\n",
    "    group_by(subjectkey) %>%\n",
    "    summarise_at(., vars(contains(\"dmri_\")), mean, na.rm=T)\n",
    "\n",
    "dim(drsip301)\n",
    "head(drsip301)"
   ]
  },
  {
   "cell_type": "code",
   "execution_count": null,
   "id": "484651de-099c-48c7-858e-f8a9f1c88121",
   "metadata": {},
   "outputs": [],
   "source": [
    "# Preprocess abcd_drsip401\n",
    "drsip401 <- abcd_drsip401 %>% \n",
    "    filter(eventname %in% c(\"baseline_year_1_arm_1\", \"1_year_follow_up_y_arm_1\", \"2_year_follow_up_y_arm_1\")) %>%\n",
    "    select(c(subjectkey, starts_with(\"dmri_\"))) %>%\n",
    "    mutate_at(., vars(contains(\"dmri_\")), as.numeric) %>%\n",
    "    group_by(subjectkey) %>%\n",
    "    summarise_at(., vars(contains(\"dmri_\")), mean, na.rm=T)\n",
    "\n",
    "dim(drsip401)\n",
    "head(drsip401)"
   ]
  },
  {
   "cell_type": "code",
   "execution_count": null,
   "id": "5bf9c890-5fb6-41d4-9bc2-54700032581c",
   "metadata": {},
   "outputs": [],
   "source": [
    "# Preprocess abcd_drsip501\n",
    "drsip501 <- abcd_drsip501 %>% \n",
    "    filter(eventname %in% c(\"baseline_year_1_arm_1\", \"1_year_follow_up_y_arm_1\", \"2_year_follow_up_y_arm_1\")) %>%\n",
    "    select(c(subjectkey, starts_with(\"dmri_\"))) %>%\n",
    "    mutate_at(., vars(contains(\"dmri_\")), as.numeric) %>%\n",
    "    group_by(subjectkey) %>%\n",
    "    summarise_at(., vars(contains(\"dmri_\")), mean, na.rm=T)\n",
    "\n",
    "dim(drsip501)\n",
    "head(drsip501)"
   ]
  },
  {
   "cell_type": "code",
   "execution_count": null,
   "id": "310a1a28-9262-4b4a-afeb-4c7a3331b02f",
   "metadata": {},
   "outputs": [],
   "source": [
    "# Preprocess abcd_drsip601\n",
    "drsip601 <- abcd_drsip601 %>% \n",
    "    filter(eventname %in% c(\"baseline_year_1_arm_1\", \"1_year_follow_up_y_arm_1\", \"2_year_follow_up_y_arm_1\")) %>%\n",
    "    select(c(subjectkey, starts_with(\"dmri_\"))) %>%\n",
    "    mutate_at(., vars(contains(\"dmri_\")), as.numeric) %>%\n",
    "    group_by(subjectkey) %>%\n",
    "    summarise_at(., vars(contains(\"dmri_\")), mean, na.rm=T)\n",
    "\n",
    "dim(drsip601)\n",
    "head(drsip601)"
   ]
  },
  {
   "cell_type": "code",
   "execution_count": null,
   "id": "5fc3d7f2-6e7a-4bdf-8be6-b7add306ac86",
   "metadata": {},
   "outputs": [],
   "source": [
    "# Preprocess abcd_drsip701\n",
    "drsip701 <- abcd_drsip701 %>% \n",
    "    filter(eventname %in% c(\"baseline_year_1_arm_1\", \"1_year_follow_up_y_arm_1\", \"2_year_follow_up_y_arm_1\")) %>%\n",
    "    select(c(subjectkey, starts_with(\"dmri_\"))) %>%\n",
    "    mutate_at(., vars(contains(\"dmri_\")), as.numeric) %>%\n",
    "    group_by(subjectkey) %>%\n",
    "    summarise_at(., vars(contains(\"dmri_\")), mean, na.rm=T)\n",
    "\n",
    "dim(drsip701)\n",
    "head(drsip701)"
   ]
  },
  {
   "cell_type": "code",
   "execution_count": null,
   "id": "6b1e2d0f-4cb1-4c26-a7e0-93386ae9e3d2",
   "metadata": {},
   "outputs": [],
   "source": [
    "# Remove all empty data sets\n",
    "rm(drsip401, abcd_drsip401, drsip501, abcd_drsip501, drsip601, abcd_drsip601)"
   ]
  },
  {
   "cell_type": "code",
   "execution_count": null,
   "id": "ee4194e2-d935-4fb2-b019-f16f0cee0715",
   "metadata": {},
   "outputs": [],
   "source": [
    "# Combine all drsip frames into a single frame\n",
    "drsip <- drsip101 %>%\n",
    "    full_join(drsip201, by=c(\"subjectkey\"=\"subjectkey\")) %>%\n",
    "    full_join(drsip301, by=c(\"subjectkey\"=\"subjectkey\")) %>%\n",
    "    full_join(drsip701, by=c(\"subjectkey\"=\"subjectkey\"))\n",
    "\n",
    "dim(drsip)\n",
    "head(drsip)"
   ]
  },
  {
   "cell_type": "code",
   "execution_count": null,
   "id": "d29ceddc-2c8a-450e-aeed-ea6fd5966a1d",
   "metadata": {},
   "outputs": [],
   "source": [
    "# Save drsip, remove intermediate files\n",
    "saveRDS(drsip, file=\"./CSI/Preprocessed/drsip.rds\")\n",
    "rm(abcd_drsip101, abcd_drsip201, abcd_drsip301, abcd_drsip701, drsip101, drsip201, drsip301, drsip701)"
   ]
  },
  {
   "cell_type": "markdown",
   "id": "af23b35b-1d05-4db6-9cde-4ef6fab49822",
   "metadata": {},
   "source": [
    "### ABCD dMRI DTI Destrieux Parcellations: _ddtidp_"
   ]
  },
  {
   "cell_type": "code",
   "execution_count": null,
   "id": "0ce110bd-20fc-4148-8b06-254bea8719a7",
   "metadata": {},
   "outputs": [],
   "source": [
    "# Import ddtidp data\n",
    "abcd_ddtidp101 <- read_delim(\"./ABCD_Data/abcd_ddtidp101.txt\", \n",
    "                             delim = \"\\t\", \n",
    "                             escape_double = FALSE, \n",
    "                             col_types = \"c\", \n",
    "                             trim_ws = TRUE, \n",
    "                             na = c(\"\", \"NA\"))[-1,]\n",
    "\n",
    "abcd_ddtidp201 <- read_delim(\"./ABCD_Data/abcd_ddtidp201.txt\", \n",
    "                             delim = \"\\t\", \n",
    "                             escape_double = FALSE, \n",
    "                             col_types = \"c\", \n",
    "                             trim_ws = TRUE, \n",
    "                             na = c(\"\", \"NA\"))[-1,]"
   ]
  },
  {
   "cell_type": "code",
   "execution_count": null,
   "id": "1c19720b-e702-49fe-bf05-34e56eea84c8",
   "metadata": {},
   "outputs": [],
   "source": [
    "# Preprocess abcd_ddtidp101\n",
    "ddtidp101 <- abcd_ddtidp101 %>%\n",
    "    filter(eventname %in% c(\"baseline_year_1_arm_1\", \"1_year_follow_up_y_arm_1\", \"2_year_follow_up_y_arm_1\")) %>%\n",
    "    select(c(subjectkey, starts_with(\"ddtidp_\"))) %>%\n",
    "    mutate_at(., vars(contains(\"ddtidp_\")), as.numeric) %>%\n",
    "    group_by(subjectkey) %>%\n",
    "    summarise_at(., vars(contains(\"ddtidp_\")), mean, na.rm=T)\n",
    "\n",
    "dim(ddtidp101)\n",
    "head(ddtidp101)"
   ]
  },
  {
   "cell_type": "code",
   "execution_count": null,
   "id": "aa04c037-f2d0-46a4-9585-055033700ef2",
   "metadata": {},
   "outputs": [],
   "source": [
    "# Preprocess abcd_ddtidp201\n",
    "ddtidp201 <- abcd_ddtidp201 %>%\n",
    "    filter(eventname %in% c(\"baseline_year_1_arm_1\", \"1_year_follow_up_y_arm_1\", \"2_year_follow_up_y_arm_1\")) %>%\n",
    "    select(c(subjectkey, starts_with(\"ddtidp_\"))) %>%\n",
    "    mutate_at(., vars(contains(\"ddtidp_\")), as.numeric) %>%\n",
    "    group_by(subjectkey) %>%\n",
    "    summarise_at(., vars(contains(\"ddtidp_\")), mean, na.rm=T)\n",
    "\n",
    "dim(ddtidp201)\n",
    "head(ddtidp201)"
   ]
  },
  {
   "cell_type": "code",
   "execution_count": null,
   "id": "3e3d2b0c-72db-41fa-a9b5-38646bd41b87",
   "metadata": {},
   "outputs": [],
   "source": [
    "# Combine all ddtidp frames into a single frame\n",
    "ddtidp <- ddtidp101 %>%\n",
    "    full_join(ddtidp201, by=c(\"subjectkey\"=\"subjectkey\"))\n",
    "\n",
    "dim(ddtidp)\n",
    "head(ddtidp)"
   ]
  },
  {
   "cell_type": "code",
   "execution_count": null,
   "id": "e31b0267-1f7e-4bd3-b713-d4f8f698d11a",
   "metadata": {},
   "outputs": [],
   "source": [
    "# Save ddtidp, remove intermediate files\n",
    "saveRDS(ddtidp, file=\"./CSI/Preprocessed/ddtidp.rds\")\n",
    "rm(ddtidp101, ddtidp201, abcd_ddtidp101, abcd_ddtidp201)"
   ]
  },
  {
   "cell_type": "markdown",
   "id": "bcc84867-dfe6-4002-991f-7288b0175efa",
   "metadata": {},
   "source": [
    "### ABCD dMRI DTI Full Destrieux Parcellation: _ddtifp_"
   ]
  },
  {
   "cell_type": "code",
   "execution_count": null,
   "id": "9da74d84-528a-462f-a379-4879c5f5f544",
   "metadata": {},
   "outputs": [],
   "source": [
    "# Import ddtifp data\n",
    "abcd_ddtifp101 <- read_delim(\"./ABCD_Data/abcd_ddtifp101.txt\", \n",
    "                             delim = \"\\t\", \n",
    "                             escape_double = FALSE, \n",
    "                             col_types = \"c\", \n",
    "                             trim_ws = TRUE, \n",
    "                             na = c(\"\", \"NA\"))[-1,]\n",
    "\n",
    "abcd_ddtifp201 <- read_delim(\"./ABCD_Data/abcd_ddtifp201.txt\", \n",
    "                             delim = \"\\t\", \n",
    "                             escape_double = FALSE, \n",
    "                             col_types = \"c\", \n",
    "                             trim_ws = TRUE, \n",
    "                             na = c(\"\", \"NA\"))[-1,]"
   ]
  },
  {
   "cell_type": "code",
   "execution_count": null,
   "id": "a4c77e7a-22ba-42f3-9499-e32b9c3202bd",
   "metadata": {},
   "outputs": [],
   "source": [
    "# Preprocess abcd_ddtifp101\n",
    "ddtifp101 <- abcd_ddtifp101 %>%\n",
    "    filter(eventname %in% c(\"baseline_year_1_arm_1\", \"1_year_follow_up_y_arm_1\", \"2_year_follow_up_y_arm_1\")) %>%\n",
    "    select(c(subjectkey, starts_with(\"ddtifp_\"))) %>%\n",
    "    mutate_at(., vars(contains(\"ddtifp_\")), as.numeric) %>%\n",
    "    group_by(subjectkey) %>%\n",
    "    summarise_at(., vars(contains(\"ddtifp_\")), mean, na.rm=T)\n",
    "\n",
    "dim(ddtifp101)\n",
    "head(ddtifp101)"
   ]
  },
  {
   "cell_type": "code",
   "execution_count": null,
   "id": "2598f0b4-90af-4b9c-a7da-d146b111dbbe",
   "metadata": {},
   "outputs": [],
   "source": [
    "# Preprocess abcd_ddtifp201\n",
    "ddtifp201 <- abcd_ddtifp201 %>%\n",
    "    filter(eventname %in% c(\"baseline_year_1_arm_1\", \"1_year_follow_up_y_arm_1\", \"2_year_follow_up_y_arm_1\")) %>%\n",
    "    select(c(subjectkey, starts_with(\"ddtifp_\"))) %>%\n",
    "    mutate_at(., vars(contains(\"ddtifp_\")), as.numeric) %>%\n",
    "    group_by(subjectkey) %>%\n",
    "    summarise_at(., vars(contains(\"ddtifp_\")), mean, na.rm=T)\n",
    "\n",
    "dim(ddtifp201)\n",
    "head(ddtifp201)"
   ]
  },
  {
   "cell_type": "code",
   "execution_count": null,
   "id": "f724dbed-a422-4aa5-a608-c59b052dca40",
   "metadata": {},
   "outputs": [],
   "source": [
    "# Combine all ddtifp frames into a single frame\n",
    "ddtifp <- ddtifp101 %>%\n",
    "    full_join(ddtifp201, by=c(\"subjectkey\"=\"subjectkey\"))\n",
    "\n",
    "dim(ddtifp)\n",
    "head(ddtifp)"
   ]
  },
  {
   "cell_type": "code",
   "execution_count": null,
   "id": "f2671238-a7ec-451c-ae2b-1c7018915e0b",
   "metadata": {},
   "outputs": [],
   "source": [
    "# Save ddtifp, remove intermediate files\n",
    "saveRDS(ddtifp, file=\"./CSI/Preprocessed/ddtifp.rds\")\n",
    "rm(abcd_ddtifp101, abcd_ddtifp201, ddtifp101, ddtifp201)"
   ]
  },
  {
   "cell_type": "markdown",
   "id": "f4eca3bd-8397-4d7d-8fa4-b5a559c73cc8",
   "metadata": {},
   "source": [
    "### ABCD dMRI DTI Full: _dmdtifp_"
   ]
  },
  {
   "cell_type": "code",
   "execution_count": null,
   "id": "e1167a85-b40e-4664-bd39-d726fc1280d9",
   "metadata": {},
   "outputs": [],
   "source": [
    "# Import dmdtifp data\n",
    "abcd_dmdtifp101 <- read_delim(\"./ABCD_Data/abcd_dmdtifp101.txt\", \n",
    "                              delim = \"\\t\", \n",
    "                              escape_double = FALSE, \n",
    "                              col_types = \"c\", \n",
    "                              trim_ws = TRUE, \n",
    "                              na = c(\"\", \"NA\"))[-1,]\n",
    "\n",
    "abcd_dmdtifp201 <- read_delim(\"./ABCD_Data/abcd_dmdtifp201.txt\", \n",
    "                              delim = \"\\t\", \n",
    "                              escape_double = FALSE, \n",
    "                              col_types = \"c\", \n",
    "                              trim_ws = TRUE, \n",
    "                              na = c(\"\", \"NA\"))[-1,]"
   ]
  },
  {
   "cell_type": "code",
   "execution_count": null,
   "id": "7b4c7d9b-80e5-4f4a-897a-31226384445a",
   "metadata": {},
   "outputs": [],
   "source": [
    "# Preprocess abcd_dmdtifp101\n",
    "dmdtifp101 <- abcd_dmdtifp101 %>%\n",
    "    filter(eventname %in% c(\"baseline_year_1_arm_1\", \"1_year_follow_up_y_arm_1\", \"2_year_follow_up_y_arm_1\")) %>%\n",
    "    select(c(subjectkey, starts_with(\"dmdtifp1_\"))) %>%\n",
    "    mutate_at(., vars(contains(\"dmdtifp1_\")), as.numeric) %>%\n",
    "    group_by(subjectkey) %>%\n",
    "    summarise_at(., vars(contains(\"dmdtifp1_\")), mean, na.rm=T)\n",
    "\n",
    "dim(dmdtifp101)\n",
    "head(dmdtifp101)"
   ]
  },
  {
   "cell_type": "code",
   "execution_count": null,
   "id": "9400297e-0c61-4b2c-a7c6-c09a72cd9993",
   "metadata": {},
   "outputs": [],
   "source": [
    "# Preprocess abcd_dmdtifp201\n",
    "dmdtifp201 <- abcd_dmdtifp201 %>%\n",
    "    filter(eventname %in% c(\"baseline_year_1_arm_1\", \"1_year_follow_up_y_arm_1\", \"2_year_follow_up_y_arm_1\")) %>%\n",
    "    select(c(subjectkey, starts_with(\"dmdtifp1_\"))) %>%\n",
    "    mutate_at(., vars(contains(\"dmdtifp1_\")), as.numeric) %>%\n",
    "    group_by(subjectkey) %>%\n",
    "    summarise_at(., vars(contains(\"dmdtifp1_\")), mean, na.rm=T)\n",
    "\n",
    "dim(dmdtifp201)\n",
    "head(dmdtifp201)"
   ]
  },
  {
   "cell_type": "code",
   "execution_count": null,
   "id": "ca2852e9-f5f7-431f-bddc-9292b4e80024",
   "metadata": {},
   "outputs": [],
   "source": [
    "# Combine all dmdtifp frames into a single frame\n",
    "dmdtifp <- dmdtifp101 %>%\n",
    "    full_join(dmdtifp201, by=c(\"subjectkey\"=\"subjectkey\"))\n",
    "\n",
    "dim(dmdtifp)\n",
    "head(dmdtifp)"
   ]
  },
  {
   "cell_type": "code",
   "execution_count": null,
   "id": "c85244aa-1eb4-47f3-bbff-d819eb792fd3",
   "metadata": {},
   "outputs": [],
   "source": [
    "# Save dmdtifp, remove intermediate files\n",
    "saveRDS(dmdtifp, file=\"./CSI/Preprocessed/dmdtifp.rds\")\n",
    "rm(abcd_dmdtifp101, abcd_dmdtifp201, dmdtifp101, dmdtifp201)"
   ]
  },
  {
   "cell_type": "markdown",
   "id": "579e9c86-3e0d-406d-9e9f-db0930126c3a",
   "metadata": {},
   "source": [
    "### ABCD dMRI DTI Full: _dti_"
   ]
  },
  {
   "cell_type": "code",
   "execution_count": null,
   "id": "4f228741-70e2-4bb9-9dd0-b674eb1c8092",
   "metadata": {},
   "outputs": [],
   "source": [
    "# Import dti data\n",
    "abcd_dti_p101 <- read_delim(\"./ABCD_Data/abcd_dti_p101.txt\", \n",
    "                            delim = \"\\t\", \n",
    "                            escape_double = FALSE, \n",
    "                            col_types = \"c\", \n",
    "                            trim_ws = TRUE, \n",
    "                            na = c(\"\", \"NA\"))[-1,]\n",
    "\n",
    "abcd_dti_p201 <- read_delim(\"./ABCD_Data/abcd_dti_p201.txt\", \n",
    "                            delim = \"\\t\", \n",
    "                            escape_double = FALSE, \n",
    "                            col_types = \"c\", \n",
    "                            trim_ws = TRUE, \n",
    "                            na = c(\"\", \"NA\"))[-1,]"
   ]
  },
  {
   "cell_type": "code",
   "execution_count": null,
   "id": "1871ce52-ffd5-4e54-aec1-9a84e3fc0b72",
   "metadata": {},
   "outputs": [],
   "source": [
    "# Preprocess abcd_dti_p101\n",
    "dti_p101 <- abcd_dti_p101 %>%\n",
    "    filter(eventname %in% c(\"baseline_year_1_arm_1\", \"1_year_follow_up_y_arm_1\", \"2_year_follow_up_y_arm_1\")) %>%\n",
    "    select(c(subjectkey, starts_with(\"dmri_\"))) %>%\n",
    "    select(-dmri_dti_visitid) %>%\n",
    "    mutate_at(., vars(contains(\"dmri_\")), as.numeric) %>%\n",
    "    group_by(subjectkey) %>%\n",
    "    summarise_at(., vars(contains(\"dmri_\")), mean, na.rm=T)\n",
    "\n",
    "dim(dti_p101)\n",
    "head(dti_p101)"
   ]
  },
  {
   "cell_type": "code",
   "execution_count": null,
   "id": "7ee8d61e-a49b-49c7-bc05-b8600d83ddb2",
   "metadata": {},
   "outputs": [],
   "source": [
    "# Preprocess abcd_dti_p201\n",
    "dti_p201 <- abcd_dti_p201 %>%\n",
    "    filter(eventname %in% c(\"baseline_year_1_arm_1\", \"1_year_follow_up_y_arm_1\",        \"2_year_follow_up_y_arm_1\")) %>%\n",
    "    select(c(subjectkey, starts_with(\"dmri_\"))) %>%\n",
    "    mutate_at(., vars(contains(\"dmri_\")), as.numeric) %>%\n",
    "    group_by(subjectkey) %>%\n",
    "    summarise_at(., vars(contains(\"dmri_\")), mean, na.rm=T)\n",
    "\n",
    "dim(dti_p201)\n",
    "head(dti_p201)"
   ]
  },
  {
   "cell_type": "code",
   "execution_count": null,
   "id": "4ac15aba-7b13-44c9-87eb-63cfd61676b9",
   "metadata": {},
   "outputs": [],
   "source": [
    "# Combine all dti frames into a single frame\n",
    "dti <- dti_p101 %>%\n",
    "    full_join(dti_p201, by=c(\"subjectkey\"=\"subjectkey\"))\n",
    "\n",
    "dim(dti)\n",
    "head(dti)"
   ]
  },
  {
   "cell_type": "code",
   "execution_count": null,
   "id": "7a9d8d8a-e35d-4786-9c6c-382746a73ff1",
   "metadata": {},
   "outputs": [],
   "source": [
    "# Save dti, remove intermediate files\n",
    "saveRDS(dti, file=\"./CSI/Preprocessed/dti.rds\")\n",
    "rm(dti_p101, dti_p201, abcd_dti_p101, abcd_dti_p201)"
   ]
  },
  {
   "cell_type": "markdown",
   "id": "493b8c37-6442-4e6c-a69a-b817308c81fc",
   "metadata": {},
   "source": [
    "### ABCD dMRI DTI Full: _dmriqc_"
   ]
  },
  {
   "cell_type": "code",
   "execution_count": null,
   "id": "9de327ba-ee8e-4c19-b1ec-6f634adf80e2",
   "metadata": {},
   "outputs": [],
   "source": [
    "# Import dmriqc data \n",
    "abcd_dmriqc01 <- read_delim(\"./ABCD_Data/abcd_dmriqc01.txt\", \n",
    "                            delim = \"\\t\", \n",
    "                            escape_double = FALSE, \n",
    "                            col_types = \"c\", \n",
    "                            trim_ws = TRUE, \n",
    "                            na = c(\"\", \"NA\"))[-1,]"
   ]
  },
  {
   "cell_type": "code",
   "execution_count": null,
   "id": "5a7e0832-ea8b-48f3-8194-2581c84640b8",
   "metadata": {},
   "outputs": [],
   "source": [
    "# Preprocess abcd_dmriqc01\n",
    "dmriqc <- abcd_dmriqc01 %>%\n",
    "    filter(eventname %in% c(\"baseline_year_1_arm_1\", \"1_year_follow_up_y_arm_1\", \"2_year_follow_up_y_arm_1\")) %>%\n",
    "    select(c(subjectkey, starts_with(\"dmri_dti_postqc_\"))) %>%\n",
    "    select(-c(dmri_dti_postqc_visitid)) %>%\n",
    "    mutate_at(., vars(contains(\"dmri_dti_postqc_\")), as.numeric) %>%\n",
    "    group_by(subjectkey) %>%\n",
    "    summarise_at(., vars(contains(\"dmri_dti_postqc_\")), mean, na.rm=T)\n",
    "\n",
    "dim(dmriqc)\n",
    "head(dmriqc)"
   ]
  },
  {
   "cell_type": "code",
   "execution_count": null,
   "id": "5eab02f3-88a7-4e2c-89bd-f27617638634",
   "metadata": {},
   "outputs": [],
   "source": [
    "# Save dmriqc, remove intermediate files\n",
    "saveRDS(dmriqc, file=\"./CSI/Preprocessed/dmriqc.rds\")\n",
    "rm(abcd_dmriqc01)"
   ]
  },
  {
   "cell_type": "markdown",
   "id": "aa0748f9-3f3f-4f07-bd7d-84060551d85d",
   "metadata": {},
   "source": [
    "### MRI QC Raw: _mriqcrp_"
   ]
  },
  {
   "cell_type": "code",
   "execution_count": null,
   "id": "1bf15afa-73d6-4d4f-840f-dc7dcd60500e",
   "metadata": {},
   "outputs": [],
   "source": [
    "# Import partial mriqcrp data\n",
    "mriqcrp10301 <- read_delim(\"./ABCD_Data/mriqcrp10301.txt\", \n",
    "                           delim = \"\\t\", \n",
    "                           escape_double = FALSE, \n",
    "                           col_types = \"c\", \n",
    "                           trim_ws = TRUE, \n",
    "                           na = c(\"\", \"NA\"))[-1,]\n",
    "\n",
    "mriqcrp20301 <- read_delim(\"./ABCD_Data/mriqcrp20301.txt\", \n",
    "                           delim = \"\\t\", \n",
    "                           escape_double = FALSE, \n",
    "                           col_types = \"c\", \n",
    "                           trim_ws = TRUE, \n",
    "                           na = c(\"\", \"NA\"))[-1,]\n",
    "\n",
    "mriqcrp302 <- read_delim(\"./ABCD_Data/mriqcrp302.txt\", \n",
    "                         delim = \"\\t\", \n",
    "                         escape_double = FALSE, \n",
    "                         col_types = \"c\", \n",
    "                         trim_ws = TRUE, \n",
    "                         na = c(\"\", \"NA\"))[-1,]"
   ]
  },
  {
   "cell_type": "code",
   "execution_count": null,
   "id": "3607235c-eafe-429e-aa7e-2137944f91b3",
   "metadata": {},
   "outputs": [],
   "source": [
    "# Load partial mriqcrp data and join\n",
    "\n",
    "mriqcrp10301 <- mriqcrp10301 %>%\n",
    "    filter(eventname %in% c(\"baseline_year_1_arm_1\", \"1_year_follow_up_y_arm_1\", \"2_year_follow_up_y_arm_1\")) %>%\n",
    "    select(c(subjectkey, starts_with(\"iqc\")))\n",
    "\n",
    "mriqcrp20301 <- mriqcrp20301 %>%\n",
    "    filter(eventname %in% c(\"baseline_year_1_arm_1\", \"1_year_follow_up_y_arm_1\", \"2_year_follow_up_y_arm_1\")) %>%\n",
    "    select(c(subjectkey, starts_with(\"iqc\")))\n",
    "\n",
    "mriqcrp302 <- mriqcrp302 %>%\n",
    "    filter(eventname %in% c(\"baseline_year_1_arm_1\", \"1_year_follow_up_y_arm_1\", \"2_year_follow_up_y_arm_1\")) %>%\n",
    "    select(c(subjectkey, starts_with(\"iqc\")))\n",
    "\n",
    "mriqcrp <- mriqcrp10301 %>%\n",
    "    full_join(mriqcrp20301, by=c(\"subjectkey\"=\"subjectkey\")) %>%\n",
    "    full_join(mriqcrp302, by=c(\"subjectkey\"=\"subjectkey\"))"
   ]
  },
  {
   "cell_type": "code",
   "execution_count": null,
   "id": "b32d9bec-3f2b-4812-82ff-68f1fe9ed001",
   "metadata": {},
   "outputs": [],
   "source": [
    "# Create a dMRI_mriqcrp subset\n",
    "dMRI_mriqcrp <- mriqcrp %>%\n",
    "    select(c(subjectkey, starts_with(\"iqc_dmri\"))) %>%\n",
    "    select(-c(ends_with(\"sub_02\"), ends_with(\"seriestime\"), ends_with(\"studydate\"), ends_with(\"seuid\"), ends_with(\"suid\"))) %>%\n",
    "    select(-matches(\"iqc_dmri_\\\\d_.{0,}\"))%>%\n",
    "    mutate_at(., vars(contains(\"iqc_dmri\")), as.numeric) %>%\n",
    "    group_by(subjectkey) %>%\n",
    "    summarise_at(., vars(contains(\"iqc_dmri\")), mean, na.rm=T)\n",
    "\n",
    "dim(dMRI_mriqcrp)\n",
    "head(dMRI_mriqcrp)"
   ]
  },
  {
   "cell_type": "code",
   "execution_count": null,
   "id": "b7913ee7-3366-4bf2-a6e5-13d30de633c4",
   "metadata": {},
   "outputs": [],
   "source": [
    "# Save dMRI_mriqcrp, remove intermediate files\n",
    "saveRDS(dMRI_mriqcrp, file=\"./CSI/Preprocessed/dMRI_mriqcrp.rds\")\n",
    "rm(mriqcrp, mriqcrp10301, mriqcrp20301, mriqcrp302)"
   ]
  },
  {
   "cell_type": "markdown",
   "id": "ada23bc4-3bef-4b67-a1c4-821fa2519afa",
   "metadata": {},
   "source": [
    "### Automated Post-Processing QC Metrics: _postqc_"
   ]
  },
  {
   "cell_type": "code",
   "execution_count": null,
   "id": "dc2da3d8-b2d1-4639-a170-17c3d5c7d44e",
   "metadata": {},
   "outputs": [],
   "source": [
    "# Import partial postqc data\n",
    "postqc01 <- read_delim(\"./ABCD_Data/abcd_auto_postqc01.txt\", \n",
    "                           delim = \"\\t\", \n",
    "                           escape_double = FALSE, \n",
    "                           col_types = \"c\", \n",
    "                           trim_ws = TRUE, \n",
    "                           na = c(\"\", \"NA\"))[-1,]"
   ]
  },
  {
   "cell_type": "code",
   "execution_count": null,
   "id": "da848e26-4fb6-40a5-880d-519a33bd418e",
   "metadata": {},
   "outputs": [],
   "source": [
    "# Create a dMRI_postqc subset\n",
    "dMRI_postqc <- postqc01 %>%\n",
    "    filter(eventname %in% c(\"baseline_year_1_arm_1\", \"1_year_follow_up_y_arm_1\", \"2_year_follow_up_y_arm_1\")) %>%\n",
    "    select(c(subjectkey, starts_with(\"apqc_dmri_\"))) %>%\n",
    "    mutate_at(., vars(starts_with(\"apqc_dmri_\")), as.numeric) %>%\n",
    "    group_by(subjectkey) %>%\n",
    "    summarise_at(., vars(starts_with(\"apqc_dmri_\")), mean, na.rm=T)\n",
    "\n",
    "dim(dMRI_postqc)\n",
    "head(dMRI_postqc)"
   ]
  },
  {
   "cell_type": "code",
   "execution_count": null,
   "id": "25131e1c-0f69-4d0b-8251-5c4814c62430",
   "metadata": {},
   "outputs": [],
   "source": [
    "# Save dMRI_postqc, remove intermediate files\n",
    "saveRDS(dMRI_postqc, file=\"./CSI/Preprocessed/dMRI_postqc.rds\")\n",
    "rm(postqc01)"
   ]
  },
  {
   "cell_type": "markdown",
   "id": "ee6ea684-014d-4d36-931e-390f5eb5d06d",
   "metadata": {},
   "source": [
    "### Remove high missingness"
   ]
  },
  {
   "cell_type": "code",
   "execution_count": null,
   "id": "dc4000bd-c200-4157-bc73-075ff276917d",
   "metadata": {},
   "outputs": [],
   "source": [
    "# Count Infinities, NAs, and NaNs per variable\n",
    "NAs_drsip <- apply(drsip, 2, function(x) {sum(is.na(x)|is.nan(x))/length(x)})\n",
    "INFs_drsip <- apply(drsip, 2, function(x) {is.infinite(x)/length(x)})\n",
    "\n",
    "NAs_ddtidp <- apply(ddtidp, 2, function(x) {sum(is.na(x)|is.nan(x))/length(x)})\n",
    "INFs_ddtidp <- apply(ddtidp, 2, function(x) {is.infinite(x)/length(x)})\n",
    "\n",
    "NAs_ddtifp <- apply(ddtifp, 2, function(x) {sum(is.na(x)|is.nan(x))/length(x)})\n",
    "INFs_ddtifp <- apply(ddtifp, 2, function(x) {is.infinite(x)/length(x)})\n",
    "\n",
    "NAs_dmdtifp <- apply(dmdtifp, 2, function(x) {sum(is.na(x)|is.nan(x))/length(x)})\n",
    "INFs_dmdtifp <- apply(dmdtifp, 2, function(x) {is.infinite(x)/length(x)})\n",
    "\n",
    "NAs_dti <- apply(dti, 2, function(x) {sum(is.na(x)|is.nan(x))/length(x)})\n",
    "INFs_dti <- apply(dti, 2, function(x) {is.infinite(x)/length(x)})\n",
    "\n",
    "NAs_dmriqc <- apply(dmriqc, 2, function(x) {sum(is.na(x)|is.nan(x))/length(x)})\n",
    "INFs_dmriqc <- apply(dmriqc, 2, function(x) {is.infinite(x)/length(x)})\n",
    "\n",
    "NAs_dMRI_mriqcrp <- apply(dMRI_mriqcrp, 2, function(x) {sum(is.na(x)|is.nan(x))/length(x)})\n",
    "INFs_dMRI_mriqcrp <- apply(dMRI_mriqcrp, 2, function(x) {is.infinite(x)/length(x)})\n",
    "\n",
    "NAs_dMRI_postqc <- apply(dMRI_postqc, 2, function(x) {sum(is.na(x)|is.nan(x))/length(x)})\n",
    "INFs_dMRI_postqc <- apply(dMRI_postqc, 2, function(x) {is.infinite(x)/length(x)})"
   ]
  },
  {
   "cell_type": "code",
   "execution_count": null,
   "id": "e9307f8e-f74e-4338-ade3-1beb58cb2274",
   "metadata": {},
   "outputs": [],
   "source": [
    "# Max missingness\n",
    "cat(\"NAs_drsip: \", round(max(NAs_drsip), 3),\n",
    "   \"\\nINFs_drsip: \", round(max(INFs_drsip), 3),\n",
    "    \n",
    "   \"\\n\\nNAs_ddtidp: \", round(max(NAs_ddtidp), 3),\n",
    "   \"\\nINFs_ddtidp: \", round(max(INFs_ddtidp), 3),\n",
    "    \n",
    "   \"\\n\\nNAs_ddtifp: \", round(max(NAs_ddtifp), 3),\n",
    "   \"\\nINFs_ddtifp: \", round(max(INFs_ddtifp), 3),\n",
    "    \n",
    "   \"\\n\\nNAs_dmdtifp: \", round(max(NAs_dmdtifp), 3),\n",
    "   \"\\nINFs_dmdtifp: \", round(max(INFs_dmdtifp), 3),\n",
    "   \n",
    "   \"\\n\\nNAs_dti: \", round(max(NAs_dti), 3),\n",
    "   \"\\nINFs_dti: \", round(max(INFs_dti), 3),\n",
    "    \n",
    "   \"\\n\\nNAs_dmriqc: \", round(max(NAs_dmriqc), 3),\n",
    "   \"\\nINFs_dmriqc: \", round(max(INFs_dmriqc), 3),\n",
    "    \n",
    "   \"\\n\\nNAs_dMRI_mriqcrp: \", round(max(NAs_dMRI_mriqcrp), 3),\n",
    "   \"\\nINFs_dMRI_mriqcrp: \", round(max(INFs_dMRI_mriqcrp), 3),\n",
    "    \n",
    "   \"\\n\\nNAs_dMRI_postqc: \", round(max(NAs_dMRI_postqc), 3),\n",
    "   \"\\nINFs_dMRI_postqc: \", round(max(INFs_dMRI_postqc), 3))"
   ]
  },
  {
   "cell_type": "code",
   "execution_count": null,
   "id": "ba718189-8594-4d0e-b388-91ba85dc493a",
   "metadata": {},
   "outputs": [],
   "source": [
    "# Remove columns with high rates of NAs\n",
    "\n",
    "dmriqc <- dmriqc[!colSums(is.na(dmriqc)) > 0.1]\n",
    "dMRI_mriqcrp <- dMRI_mriqcrp[!colSums(is.na(dMRI_mriqcrp)) > 0.1]\n",
    "\n",
    "NAs_dmriqc <- apply(dmriqc, 2, function(x) {sum(is.na(x)|is.nan(x))/length(x)})\n",
    "NAs_dMRI_mriqcrp <- apply(dMRI_mriqcrp, 2, function(x) {sum(is.na(x)|is.nan(x))/length(x)})\n",
    "\n",
    "cat(\"NAs_dmriqc: \", round(max(NAs_dmriqc), 3),    \n",
    "   \"\\nNAs_dMRI_mriqcrp: \", round(max(NAs_dMRI_mriqcrp), 3))"
   ]
  },
  {
   "cell_type": "markdown",
   "id": "35035f3d-1c7b-4fa2-8b24-02452701f12e",
   "metadata": {},
   "source": [
    "### Combine and process datasets"
   ]
  },
  {
   "cell_type": "code",
   "execution_count": null,
   "id": "e40e54ea-154b-46a0-8d29-f2b236f68654",
   "metadata": {},
   "outputs": [],
   "source": [
    "# Calculate number of predictors for all datasets\n",
    "\n",
    "cat(\"drsip:\", dim(drsip)[2]-1,\n",
    "    \"\\nddtidp:\", dim(ddtidp)[2]-1,\n",
    "    \"\\nddtifp:\", dim(ddtifp)[2]-1,\n",
    "    \"\\ndmdtifp:\", dim(dmdtifp)[2]-1,\n",
    "    \"\\ndti:\", dim(dti)[2]-1,\n",
    "    \"\\ndmriqc:\", dim(dmriqc)[2]-1,\n",
    "    \"\\ndMRI_mriqcrp:\", dim(dMRI_mriqcrp)[2]-1,\n",
    "    \"\\ndMRI_postqc:\", dim(dMRI_postqc)[2]-1)"
   ]
  },
  {
   "cell_type": "code",
   "execution_count": null,
   "id": "0d04d492-9209-45cc-88c3-9bd7f7431f6e",
   "metadata": {},
   "outputs": [],
   "source": [
    "# Combine non-qc and qc frames\n",
    "sk <- purrr::reduce(list(drsip$subjectkey, ddtidp$subjectkey, ddtifp$subjectkey, dmdtifp$subjectkey, dti$subjectkey, dmriqc$subjectkey, dMRI_mriqcrp$subjectkey), union)\n",
    "\n",
    "dMRI <- data.frame(subjectkey = sk) %>%\n",
    "    full_join(drsip, by=c(\"subjectkey\"=\"subjectkey\")) %>%\n",
    "    full_join(ddtidp, by=c(\"subjectkey\"=\"subjectkey\")) %>%\n",
    "    full_join(ddtifp, by=c(\"subjectkey\"=\"subjectkey\")) %>%\n",
    "    full_join(dmdtifp, by=c(\"subjectkey\"=\"subjectkey\")) %>%\n",
    "    full_join(dti, by=c(\"subjectkey\"=\"subjectkey\")) %>%\n",
    "    full_join(dmriqc, by=c(\"subjectkey\"=\"subjectkey\")) %>%\n",
    "    full_join(dMRI_mriqcrp, by=c(\"subjectkey\"=\"subjectkey\")) %>%\n",
    "    full_join(dMRI_postqc, by=c(\"subjectkey\"=\"subjectkey\")) \n",
    "\n",
    "sum(is.na(dMRI))"
   ]
  },
  {
   "cell_type": "code",
   "execution_count": null,
   "id": "a7a94a5e-0cdd-46a0-b4b3-c5bc31384513",
   "metadata": {},
   "outputs": [],
   "source": [
    "# Mean impute dMRI\n",
    "for(i in 2:ncol(dMRI)){\n",
    "  dMRI[is.na(dMRI[,i]), i] <- mean(dMRI[,i], na.rm = TRUE)\n",
    "}\n",
    "\n",
    "sum(is.na(dMRI))"
   ]
  },
  {
   "cell_type": "code",
   "execution_count": null,
   "id": "79eb60ea-0246-4aad-9d39-0c3709e9f40a",
   "metadata": {},
   "outputs": [],
   "source": [
    "# Remove variables with range of 0\n",
    "Range <- apply(dMRI[,-1], 2, function(x) {range(x)[2]-range(x)[1]})\n",
    "dMRI <- dMRI %>% select(-names(Range[Range==0]))\n",
    "\n",
    "dim(dMRI)\n",
    "head(dMRI)"
   ]
  },
  {
   "cell_type": "code",
   "execution_count": null,
   "id": "537c38d1-ab34-4e5b-97d0-c376f5ad2a85",
   "metadata": {},
   "outputs": [],
   "source": [
    "# Range-normalize data\n",
    "dMRI[,-1] <- apply(dMRI[,-1], 2, function(x) {(x - min(x))/(max(x) - min(x))})\n",
    "sum(is.na(dMRI))\n",
    "\n",
    "dim(dMRI)\n",
    "head(dMRI)"
   ]
  },
  {
   "cell_type": "code",
   "execution_count": null,
   "id": "453954dd-85a0-4e1f-be30-467d57723ade",
   "metadata": {},
   "outputs": [],
   "source": [
    "# Remove variables with low variances\n",
    "Vars <- apply(dMRI[,-1], 2, function(x) {var(x)})\n",
    "dMRI <- dMRI %>% select(-names(Vars[Vars<0.001]))\n",
    "\n",
    "dim(dMRI)\n",
    "head(dMRI)"
   ]
  },
  {
   "cell_type": "code",
   "execution_count": null,
   "id": "63b3b7be-4b34-4cee-9800-274587e08072",
   "metadata": {},
   "outputs": [],
   "source": [
    "# Save data\n",
    "saveRDS(dMRI, file=\"./CSI/Preprocessed/kernel_dMRI.rds\")"
   ]
  }
 ],
 "metadata": {
  "kernelspec": {
   "display_name": "UFRC R-4.0",
   "language": "R",
   "name": "ir-ufrc-4.0"
  },
  "language_info": {
   "codemirror_mode": "r",
   "file_extension": ".r",
   "mimetype": "text/x-r-source",
   "name": "R",
   "pygments_lexer": "r",
   "version": "4.0.5"
  }
 },
 "nbformat": 4,
 "nbformat_minor": 5
}
