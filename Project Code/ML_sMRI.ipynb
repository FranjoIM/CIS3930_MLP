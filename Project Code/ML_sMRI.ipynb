{
 "cells": [
  {
   "cell_type": "markdown",
   "id": "a1f348f5-4016-4a06-9bf1-70ebfee99db0",
   "metadata": {},
   "source": [
    "## Machine Learning - sMRI Kernel"
   ]
  },
  {
   "cell_type": "code",
   "execution_count": null,
   "id": "9d11f918-d09b-4195-873f-4b63d80b8bc8",
   "metadata": {},
   "outputs": [],
   "source": [
    "# Import modules\n",
    "import pandas as pd\n",
    "import numpy as np\n",
    "import pyreadr\n",
    "import tqdm\n",
    "\n",
    "import os\n",
    "\n",
    "from sklearn.linear_model import LogisticRegression\n",
    "from sklearn.linear_model import ElasticNet\n",
    "from sklearn.metrics import accuracy_score\n",
    "from sklearn.metrics import confusion_matrix\n",
    "\n",
    "from sklearn import metrics\n",
    "\n",
    "import matplotlib.pyplot as plt\n",
    "\n",
    "from math import sqrt"
   ]
  },
  {
   "cell_type": "code",
   "execution_count": null,
   "id": "cb76bfea-5b6c-448e-a87e-869dd1b2d6d9",
   "metadata": {},
   "outputs": [],
   "source": [
    "# Data Fetching function\n",
    "def getData(data):\n",
    "  return pyreadr.read_r(data)[None]"
   ]
  },
  {
   "cell_type": "code",
   "execution_count": null,
   "id": "b7aad902-ad47-456e-a994-d9b20075b7bd",
   "metadata": {},
   "outputs": [],
   "source": [
    "# Get data\n",
    "batch_df = getData(\"Preprocessed/Batch_sMRI.rds\")\n",
    "sMRI_df = getData(\"Preprocessed/Kernel_sMRI.rds\")\n",
    "ocd_df = getData(\"OCD.rds\")"
   ]
  },
  {
   "cell_type": "code",
   "execution_count": null,
   "id": "c3cf34b0-a3ea-4663-b2c6-22c0f840663e",
   "metadata": {},
   "outputs": [],
   "source": [
    "# Preview data\n",
    "batch_df.head()"
   ]
  },
  {
   "cell_type": "code",
   "execution_count": null,
   "id": "127b80c6-a259-47ce-a147-e153ae4c27fa",
   "metadata": {},
   "outputs": [],
   "source": [
    "sMRI_df.head()"
   ]
  },
  {
   "cell_type": "code",
   "execution_count": null,
   "id": "1ef346c8-8d03-4220-8fe7-436fbdf15a69",
   "metadata": {},
   "outputs": [],
   "source": [
    "ocd_df.head()"
   ]
  },
  {
   "cell_type": "code",
   "execution_count": null,
   "id": "31eebd4c-ef86-41ec-8bc9-0102f8dd5737",
   "metadata": {},
   "outputs": [],
   "source": [
    "# Run training model\n",
    "\n",
    "train_coef = []\n",
    "train_intercept = []\n",
    "\n",
    "cum_model_coef = []\n",
    "cum_model_intercept = []\n",
    "cum_res = []\n",
    "\n",
    "# Test data Creation\n",
    "sample_ids_valid = list(batch_df.loc[batch_df['Valid']==1]['SampleID'])\n",
    "sMRI_np_valid = sMRI_df.loc[sMRI_df['SampleID'].isin(sample_ids_valid)].to_numpy()[:,1:]\n",
    "ocd_np_valid = np.concatenate(ocd_df.loc[ocd_df['SampleID'].isin(sample_ids_valid)].to_numpy()[:,1:])\n",
    "\n",
    "for i in range(1,94):\n",
    "  sample_ids = list(batch_df.loc[batch_df['Train_'+str(i)]==1]['SampleID'])\n",
    "  sMRI_np = sMRI_df.loc[sMRI_df['SampleID'].isin(sample_ids)].to_numpy()[:,1:]\n",
    "  ocd_np = np.concatenate(ocd_df.loc[ocd_df['SampleID'].isin(sample_ids)].to_numpy()[:,1:])\n",
    "  ocd_np[ocd_np==2]=1\n",
    "  ocd_np = ocd_np.astype('int')\n",
    "  model = LogisticRegression(penalty='elasticnet', solver='saga', l1_ratio=0.9, max_iter=5000).fit(sMRI_np,ocd_np)\n",
    "  train_coef.append(model.coef_)\n",
    "  train_intercept.append(model.intercept_)\n",
    "\n",
    "  train_coef_1 = np.concatenate(train_coef)\n",
    "  train_intercept_1 = np.concatenate(train_intercept)\n",
    "\n",
    "  #Finding accuracy on each step\n",
    "  cum_model_coef = np.mean(train_coef_1, axis=0)\n",
    "  cum_model_intercept = np.mean(train_intercept_1)\n",
    "\n",
    "  train_y_prob=[]\n",
    "  for j in range(len(sMRI_np_valid)):\n",
    "    train_y_prob.append(1/(1+np.exp(-(np.dot(sMRI_np_valid[j],cum_model_coef)+cum_model_intercept))))\n",
    "  train_y_pred=np.array(train_y_prob)\n",
    "  train_y_pred[train_y_pred>0.5]=1\n",
    "  train_y_pred[train_y_pred<=0.5]=0\n",
    "  train_y_pred = train_y_pred.astype('int64')\n",
    "  ocd_np_valid = ocd_np_valid.astype('int64')\n",
    "  acc_score = accuracy_score(ocd_np_valid,train_y_pred)\n",
    "  tn, fp, fn, tp = confusion_matrix(ocd_np_valid,train_y_pred).ravel()\n",
    "  cum_res.append([acc_score,tn,fp,fn,tp])\n",
    "  print(\"model\", i,\" processed\")\n",
    "\n",
    "#print(train_coef)\n",
    "#print(train_intercept)\n",
    "print(cum_res)\n"
   ]
  },
  {
   "cell_type": "code",
   "execution_count": null,
   "id": "99b470bb-8921-4844-b1ba-c05b92cd876a",
   "metadata": {},
   "outputs": [],
   "source": [
    "# Plot\n",
    "plt.figure(figsize=(9,5), tight_layout=True)\n",
    "plt.ylim(0.4,0.9)\n",
    "\n",
    "plt.plot([x[0] for x in cum_res])\n",
    "plt.axhline(0.5, linestyle='--', color='r')\n",
    "\n",
    "plt.savefig('Preprocessed/KAC_sMRI.svg', bbox_inches='tight')"
   ]
  },
  {
   "cell_type": "code",
   "execution_count": null,
   "id": "44d42cf6-7033-43c5-a26c-aa55309c7095",
   "metadata": {},
   "outputs": [],
   "source": [
    "# Baseline\n",
    "baseline = np.array([0 for _ in range(len(train_y_prob))])\n",
    "# ROC Curve\n",
    "baseline_fpr,baseline_tpr,_ = metrics.roc_curve(ocd_np_valid,baseline)\n",
    "predicted_fpr,predicted_tpr,_ = metrics.roc_curve(ocd_np_valid,train_y_prob)\n",
    "\n",
    "plt.figure(figsize=(9,5), tight_layout=True)\n",
    "\n",
    "plt.plot(baseline_fpr, baseline_tpr, linestyle='--', label='Baseline')\n",
    "plt.plot(predicted_fpr, predicted_tpr, marker='.', label='Elastic Net')\n",
    "plt.text(0.7, 0.2, 'AUC = 0.5904', fontsize=18)\n",
    "\n",
    "plt.savefig('Preprocessed/ROC_sMRI.svg', bbox_inches='tight')\n",
    "\n",
    "#AUC Curve\n",
    "print(\"AUC: \", metrics.auc(predicted_fpr,predicted_tpr))"
   ]
  },
  {
   "cell_type": "code",
   "execution_count": null,
   "id": "64297e3e-98d1-44a5-a169-964340c1dd37",
   "metadata": {},
   "outputs": [],
   "source": [
    "#Precision Recall Curve\n",
    "predicted_precision, predicted_recall, _ = metrics.precision_recall_curve(ocd_np_valid, train_y_prob)\n",
    "baseline_pr=len(ocd_np_valid[ocd_np_valid==1])/len(ocd_np_valid)\n",
    "\n",
    "plt.figure(figsize=(9,5), tight_layout=True)\n",
    "\n",
    "plt.plot([0, 1], [baseline_pr, baseline_pr], linestyle='--', label='Baseline')\n",
    "plt.plot(predicted_precision, predicted_recall, marker='.', label='Elastic Net')\n",
    "plt.text(0.0, 0.55, 'F1 = 0.4051', fontsize=18)\n",
    "\n",
    "plt.savefig('Preprocessed/PRC_sMRI.svg', bbox_inches='tight')\n",
    "\n",
    "# F1-Score\n",
    "print(\"F1 Score: \", metrics.f1_score(ocd_np_valid, train_y_pred))"
   ]
  },
  {
   "cell_type": "code",
   "execution_count": null,
   "id": "4dad13ba-3e5f-413b-bdbe-5f6596cb2d20",
   "metadata": {},
   "outputs": [],
   "source": [
    "# Confusion matrix calculations\n",
    "TN, FP, FN, TP = confusion_matrix(ocd_np_valid,train_y_pred).ravel()\n",
    "print(confusion_matrix(ocd_np_valid,train_y_pred))\n",
    "\n",
    "P = TP + FN\n",
    "N = FP + TN\n",
    "PP = TP + FP\n",
    "PN = FN + TN\n",
    "\n",
    "print(\"Population =\", P+N)\n",
    "print(\"Prevalence =\", P/(P+N))\n",
    "\n",
    "CK = (2*((TP * TN) - (TN * FP)))/(((TP + FP) * (FP + TN)) + ((TP + FN) * (FN+TN)))\n",
    "ACC = (TP + TN) / (P + N)\n",
    "PPV = TP / PP    \n",
    "FOR = FN / PN\n",
    "FDR = FP / PP\n",
    "NPV = TN / PN\n",
    "TPR = TP / P\n",
    "FPR = FP / N\n",
    "FNR = FN / P\n",
    "TNR = TN / N\n",
    "LRp = TPR / FPR\n",
    "LRn = FNR / TNR\n",
    "MK = PPV + NPV - 1\n",
    "BM = TPR + TNR - 1\n",
    "PT = (sqrt(TPR+FPR) - FPR) / (TPR - FPR)\n",
    "DOR = LRp/LRn\n",
    "BA = (TPR + TNR) / 2\n",
    "FS = (2*PPV * TPR) / (PPV + TPR)\n",
    "FM = sqrt(PPV * TPR)\n",
    "MCC = sqrt(TPR*TNR*PPV*NPV) - sqrt(FPR*FNR*FDR*FOR)\n",
    "TS = TP / (TP + FN + FP)\n",
    "       \n",
    "print(CK)\n",
    "print(ACC)\n",
    "print(PPV)\n",
    "print(FOR)\n",
    "print(FDR)\n",
    "print(NPV)\n",
    "print(TPR)\n",
    "print(FPR)\n",
    "print(TNR)\n",
    "print(FNR)\n",
    "print(LRp)\n",
    "print(LRn)\n",
    "print(MK)\n",
    "print(BM)\n",
    "print(PT)\n",
    "print(DOR)\n",
    "print(BA)\n",
    "print(FS)\n",
    "print(FM)\n",
    "print(MCC)\n",
    "print(TS)"
   ]
  },
  {
   "cell_type": "code",
   "execution_count": null,
   "id": "f722f689-ba7f-4e1e-9a11-505cd971a35d",
   "metadata": {
    "tags": []
   },
   "outputs": [],
   "source": [
    "# Save data\n",
    "with open('Preprocessed/Coef_sMRI.npy', 'wb') as f:\n",
    "    np.save(f, train_coef)\n",
    "with open('Preprocessed/Inter_sMRI.npy', 'wb') as f:\n",
    "    np.save(f, train_intercept)"
   ]
  },
  {
   "cell_type": "code",
   "execution_count": null,
   "id": "c4649a8c-46fc-4ba0-8394-c11c415c4cd4",
   "metadata": {},
   "outputs": [],
   "source": []
  }
 ],
 "metadata": {
  "kernelspec": {
   "display_name": "FRANJO-Py",
   "language": "python",
   "name": "franjo-py"
  },
  "language_info": {
   "codemirror_mode": {
    "name": "ipython",
    "version": 3
   },
   "file_extension": ".py",
   "mimetype": "text/x-python",
   "name": "python",
   "nbconvert_exporter": "python",
   "pygments_lexer": "ipython3",
   "version": "3.6.15"
  }
 },
 "nbformat": 4,
 "nbformat_minor": 5
}
