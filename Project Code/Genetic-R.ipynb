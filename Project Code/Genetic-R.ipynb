{
 "cells": [
  {
   "cell_type": "markdown",
   "id": "b7a6c514-6e33-4d2b-8564-9aad903b7bef",
   "metadata": {},
   "source": [
    "# Genetic Kernel Preprocessing"
   ]
  },
  {
   "cell_type": "code",
   "execution_count": null,
   "id": "d2fb9839-185a-44f1-b16a-37eab644f30a",
   "metadata": {},
   "outputs": [],
   "source": [
    "# Set working directory\n",
    "setwd(\"./WorkDir\")\n",
    "\n",
    "# Create holding directory for preprocessed datasets\n",
    "if (!dir.exists(\"./CSI/Preprocessed\")) {dir.create(\"./CSI/Preprocessed\")}\n",
    "\n",
    "# Load necessary libraries\n",
    "suppressPackageStartupMessages(library(tidyverse))"
   ]
  },
  {
   "cell_type": "markdown",
   "id": "fae9d47e-2b2e-40c5-9c6a-ded808eba767",
   "metadata": {},
   "source": [
    "### Preprocess Genetic Data"
   ]
  },
  {
   "cell_type": "code",
   "execution_count": null,
   "id": "aeb6be72-31d6-47c5-8ab4-04f7c24e4032",
   "metadata": {},
   "outputs": [],
   "source": [
    "# Import genetic data\n",
    "GEN <- read.table(\"./CSI/DosageMatrix\", sep=\"\\t\", header=F)\n",
    "SAM <- read.table(\"./CSI/SampleIDs\", sep=\"\\t\", header=F)"
   ]
  },
  {
   "cell_type": "code",
   "execution_count": null,
   "id": "3929ec26-d551-4847-a984-9ac9ae92da6c",
   "metadata": {},
   "outputs": [],
   "source": [
    "# Preview data\n",
    "dim(GEN); head(GEN)\n",
    "dim(SAM); head(SAM)"
   ]
  },
  {
   "cell_type": "code",
   "execution_count": null,
   "id": "b853ba71-67d1-4243-b627-b56b30653a3d",
   "metadata": {},
   "outputs": [],
   "source": [
    "# Wrangle and save genetic kernel\n",
    "GEN <- GEN %>%\n",
    "    select(-V2)\n",
    "\n",
    "colnames(GEN) <- c(\"SampleID\", SAM$V1)\n",
    "\n",
    "GENt <- as_tibble(cbind(SampleID = names(GEN), t(GEN)))\n",
    "colnames(GENt) <- GENt[1,]\n",
    "GENt <- GENt[-1, ] "
   ]
  },
  {
   "cell_type": "code",
   "execution_count": null,
   "id": "8364e110-b048-4ec1-ad72-ea6fe2ead49a",
   "metadata": {},
   "outputs": [],
   "source": [
    "# Change class to numeric where applicable\n",
    "GENt <- GENt %>%\n",
    "    mutate_at(vars(rs41285613:rs77087223), as.numeric) #### FIGURE OUT WHICH IS FIRST SNP AND WHICH IS LAST!!!!!!!!!\n",
    "GENt[,-1] <- apply(GENt[,-1], 2, function(x) {(x - min(x, na.rm = T))/(max(x, na.rm = T) - min(x, na.rm = T))})"
   ]
  },
  {
   "cell_type": "code",
   "execution_count": null,
   "id": "fd7d7c94-6ea6-42a7-a4bc-1b791c7354d9",
   "metadata": {},
   "outputs": [],
   "source": [
    "# Save pre-processed genetic kernel dataset\n",
    "saveRDS(GENt, file=\"./CSI/Preprocessed/kernel_Genetic.rds\")"
   ]
  }
 ],
 "metadata": {
  "kernelspec": {
   "display_name": "UFRC R-4.0",
   "language": "R",
   "name": "ir-ufrc-4.0"
  },
  "language_info": {
   "codemirror_mode": "r",
   "file_extension": ".r",
   "mimetype": "text/x-r-source",
   "name": "R",
   "pygments_lexer": "r",
   "version": "4.0.5"
  }
 },
 "nbformat": 4,
 "nbformat_minor": 5
}
