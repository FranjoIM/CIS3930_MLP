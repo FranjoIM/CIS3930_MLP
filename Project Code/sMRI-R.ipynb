{
 "cells": [
  {
   "cell_type": "markdown",
   "id": "3e9d48e8-052e-4265-b278-38ce982daf9b",
   "metadata": {},
   "source": [
    "# sMRI Kernel Preprocessing"
   ]
  },
  {
   "cell_type": "code",
   "execution_count": null,
   "id": "e031dd8d-d8ce-49d5-ad11-9dd830e91fd7",
   "metadata": {},
   "outputs": [],
   "source": [
    "# Set working directory\n",
    "setwd(\"./WorkDir\")\n",
    "\n",
    "# Create holding directory for preprocessed datasets\n",
    "if (!dir.exists(\"./CSI/Preprocessed\")) {dir.create(\"./CSI/Preprocessed\")}\n",
    "\n",
    "# Load necessary libraries\n",
    "suppressPackageStartupMessages(library(tidyverse))"
   ]
  },
  {
   "cell_type": "markdown",
   "id": "54bbccfd-6a23-4290-8651-829887b71e7e",
   "metadata": {},
   "source": [
    "### ABCD sMRI Destrieux Parcellation: _mrisdp_"
   ]
  },
  {
   "cell_type": "code",
   "execution_count": null,
   "id": "8affd500-a321-41a2-8bbe-fac69f592b6b",
   "metadata": {},
   "outputs": [],
   "source": [
    "# Import mrisdp data\n",
    "\n",
    "abcd_mrisdp10201 <- read_delim(\"./ABCD_Data/abcd_mrisdp10201.txt\", \n",
    "                               delim = \"\\t\", \n",
    "                               escape_double = FALSE, \n",
    "                               col_types = \"c\", \n",
    "                               trim_ws = TRUE, \n",
    "                               na = c(\"\", \"NA\"))[-1,]\n",
    "\n",
    "abcd_mrisdp20201 <- read_delim(\"./ABCD_Data/abcd_mrisdp20201.txt\", \n",
    "                               delim = \"\\t\", \n",
    "                               escape_double = FALSE, \n",
    "                               col_types = \"c\", \n",
    "                               trim_ws = TRUE, \n",
    "                               na = c(\"\", \"NA\"))[-1,]\n",
    "\n",
    "abcd_mrisdp30201 <- read_delim(\"./ABCD_Data/abcd_mrisdp30201.txt\", \n",
    "                               delim = \"\\t\", \n",
    "                               escape_double = FALSE, \n",
    "                               col_types = \"c\", \n",
    "                               trim_ws = TRUE, \n",
    "                               na = c(\"\", \"NA\"))[-1,]"
   ]
  },
  {
   "cell_type": "code",
   "execution_count": null,
   "id": "7c5ea528-3cfe-4f10-a9ee-969184866c69",
   "metadata": {},
   "outputs": [],
   "source": [
    "# Preprocess abcd_mrisdp10201\n",
    "mrisdp10201 <- abcd_mrisdp10201 %>%\n",
    "    filter(eventname %in% c(\"baseline_year_1_arm_1\", \"1_year_follow_up_y_arm_1\", \"2_year_follow_up_y_arm_1\")) %>%\n",
    "    select(c(subjectkey, starts_with(\"mrisdp_\"))) %>%\n",
    "    mutate_at(., vars(contains(\"mrisdp_\")), as.numeric) %>%\n",
    "    group_by(subjectkey) %>%\n",
    "    summarise_at(., vars(contains(\"mrisdp_\")), mean, na.rm=T)\n",
    "\n",
    "dim(mrisdp10201)\n",
    "head(mrisdp10201)"
   ]
  },
  {
   "cell_type": "code",
   "execution_count": null,
   "id": "86e93506-46da-4b17-a731-8d46aa3248d7",
   "metadata": {},
   "outputs": [],
   "source": [
    "# Preprocess abcd_mrisdp20201\n",
    "mrisdp20201 <- abcd_mrisdp20201 %>%\n",
    "    filter(eventname %in% c(\"baseline_year_1_arm_1\", \"1_year_follow_up_y_arm_1\", \"2_year_follow_up_y_arm_1\")) %>%\n",
    "    select(c(subjectkey, starts_with(\"mrisdp_\"))) %>%\n",
    "    mutate_at(., vars(contains(\"mrisdp_\")), as.numeric) %>%\n",
    "    group_by(subjectkey) %>%\n",
    "    summarise_at(., vars(contains(\"mrisdp_\")), mean, na.rm=T)\n",
    "\n",
    "dim(mrisdp20201)\n",
    "head(mrisdp20201)"
   ]
  },
  {
   "cell_type": "code",
   "execution_count": null,
   "id": "20ada098-0451-47fa-917d-59375fcdb3ec",
   "metadata": {},
   "outputs": [],
   "source": [
    "# Preprocess abcd_mrisdp30201\n",
    "mrisdp30201 <- abcd_mrisdp30201 %>%\n",
    "    filter(eventname %in% c(\"baseline_year_1_arm_1\", \"1_year_follow_up_y_arm_1\", \"2_year_follow_up_y_arm_1\")) %>%\n",
    "    select(c(subjectkey, starts_with(\"mrisdp_\"))) %>%\n",
    "    mutate_at(., vars(contains(\"mrisdp_\")), as.numeric) %>%\n",
    "    group_by(subjectkey) %>%\n",
    "    summarise_at(., vars(contains(\"mrisdp_\")), mean, na.rm=T)\n",
    "\n",
    "dim(mrisdp30201)\n",
    "head(mrisdp30201)"
   ]
  },
  {
   "cell_type": "code",
   "execution_count": null,
   "id": "c6d8f4c6-27d0-4a50-9d34-d05c1a8ee001",
   "metadata": {},
   "outputs": [],
   "source": [
    "# Combine all mrisdp frames into a single frame\n",
    "mrisdp <- mrisdp10201 %>%\n",
    "    full_join(mrisdp20201, by=c(\"subjectkey\"=\"subjectkey\")) %>%\n",
    "    full_join(mrisdp30201, by=c(\"subjectkey\"=\"subjectkey\"))\n",
    "\n",
    "dim(mrisdp)\n",
    "head(mrisdp)"
   ]
  },
  {
   "cell_type": "code",
   "execution_count": null,
   "id": "a338af16-fd17-40fb-bb29-27911dd8a2d8",
   "metadata": {},
   "outputs": [],
   "source": [
    "# Save drsip, remove intermediate files\n",
    "saveRDS(mrisdp, file=\"./CSI/Preprocessed/mrisdp.rds\")\n",
    "rm(mrisdp10201, mrisdp20201, mrisdp30201, abcd_mrisdp10201, abcd_mrisdp20201, abcd_mrisdp30201)"
   ]
  },
  {
   "cell_type": "markdown",
   "id": "a297d664-3181-4496-b152-5122f3fe1b41",
   "metadata": {},
   "source": [
    "### ABCD sMRI: _smrip_"
   ]
  },
  {
   "cell_type": "code",
   "execution_count": null,
   "id": "569284f5-668a-417c-95e8-006f53ae414a",
   "metadata": {},
   "outputs": [],
   "source": [
    "# Import smrip data\n",
    "abcd_smrip10201 <- read_delim(\"./ABCD_Data/abcd_smrip10201.txt\", \n",
    "                              delim = \"\\t\", \n",
    "                              escape_double = FALSE, \n",
    "                              col_types = \"c\", \n",
    "                              trim_ws = TRUE, \n",
    "                              na = c(\"\", \"NA\"))[-1,]\n",
    "\n",
    "abcd_smrip20201 <- read_delim(\"./ABCD_Data/abcd_smrip20201.txt\", \n",
    "                              delim = \"\\t\", \n",
    "                              escape_double = FALSE, \n",
    "                              col_types = \"c\", \n",
    "                              trim_ws = TRUE, \n",
    "                              na = c(\"\", \"NA\"))[-1,]\n",
    "\n",
    "abcd_smrip30201 <- read_delim(\"./ABCD_Data/abcd_smrip30201.txt\", \n",
    "                              delim = \"\\t\", \n",
    "                              escape_double = FALSE, \n",
    "                              col_types = \"c\", \n",
    "                              trim_ws = TRUE, \n",
    "                              na = c(\"\", \"NA\"))[-1,]"
   ]
  },
  {
   "cell_type": "code",
   "execution_count": null,
   "id": "64a4b639-6938-40ef-9d31-363348e9afda",
   "metadata": {},
   "outputs": [],
   "source": [
    "# Preprocess abcd_smrip10201\n",
    "smrip10201 <- abcd_smrip10201 %>%\n",
    "    filter(eventname %in% c(\"baseline_year_1_arm_1\", \"1_year_follow_up_y_arm_1\", \"2_year_follow_up_y_arm_1\")) %>%\n",
    "    select(c(subjectkey, starts_with(\"smri_\"))) %>%\n",
    "    select(-smri_visitid) %>%\n",
    "    mutate_at(., vars(contains(\"smri_\")), as.numeric) %>%\n",
    "    group_by(subjectkey) %>%\n",
    "    summarise_at(., vars(contains(\"smri_\")), mean, na.rm=T)\n",
    "\n",
    "dim(smrip10201)\n",
    "head(smrip10201)"
   ]
  },
  {
   "cell_type": "code",
   "execution_count": null,
   "id": "861a5d00-86c4-4e9c-9836-20f081c95d69",
   "metadata": {},
   "outputs": [],
   "source": [
    "# Preprocess abcd_smrip20201\n",
    "smrip20201 <- abcd_smrip20201 %>%\n",
    "    filter(eventname %in% c(\"baseline_year_1_arm_1\", \"1_year_follow_up_y_arm_1\", \"2_year_follow_up_y_arm_1\")) %>%\n",
    "    select(c(subjectkey, starts_with(\"smri_\"))) %>%\n",
    "    mutate_at(., vars(contains(\"smri_\")), as.numeric) %>%\n",
    "    group_by(subjectkey) %>%\n",
    "    summarise_at(., vars(contains(\"smri_\")), mean, na.rm=T)\n",
    "\n",
    "dim(smrip20201)\n",
    "head(smrip20201)"
   ]
  },
  {
   "cell_type": "code",
   "execution_count": null,
   "id": "3198149e-db58-4c45-898e-4b8fcc350296",
   "metadata": {},
   "outputs": [],
   "source": [
    "# Preprocess abcd_smrip30201\n",
    "smrip30201 <- abcd_smrip30201 %>%\n",
    "    filter(eventname %in% c(\"baseline_year_1_arm_1\", \"1_year_follow_up_y_arm_1\", \"2_year_follow_up_y_arm_1\")) %>%\n",
    "    select(c(subjectkey, starts_with(\"smri_\"))) %>%\n",
    "    mutate_at(., vars(contains(\"smri_\")), as.numeric) %>%\n",
    "    group_by(subjectkey) %>%\n",
    "    summarise_at(., vars(contains(\"smri_\")), mean, na.rm=T)\n",
    "\n",
    "dim(smrip30201)\n",
    "head(smrip30201)"
   ]
  },
  {
   "cell_type": "code",
   "execution_count": null,
   "id": "8a71c792-a802-4601-a74e-7661d7b57687",
   "metadata": {},
   "outputs": [],
   "source": [
    "# Combine all smrip frames into a single frame\n",
    "smrip <- smrip10201 %>%\n",
    "    full_join(smrip20201, by=c(\"subjectkey\"=\"subjectkey\")) %>%\n",
    "    full_join(smrip30201, by=c(\"subjectkey\"=\"subjectkey\"))\n",
    "\n",
    "dim(smrip)\n",
    "head(smrip)"
   ]
  },
  {
   "cell_type": "code",
   "execution_count": null,
   "id": "f183b1ba-49cd-4f76-b9a1-5354793ab381",
   "metadata": {},
   "outputs": [],
   "source": [
    "# Save smrip, remove intermediate files\n",
    "saveRDS(smrip, file=\"./CSI/Preprocessed/smrip.rds\")\n",
    "rm(smrip10201, smrip20201, smrip30201, abcd_smrip10201, abcd_smrip20201, abcd_smrip30201)"
   ]
  },
  {
   "cell_type": "markdown",
   "id": "97fe1cc2-5253-4c94-954d-5149a1aeb0a2",
   "metadata": {},
   "source": [
    "### MRI QC Raw: _mriqcrp_"
   ]
  },
  {
   "cell_type": "code",
   "execution_count": null,
   "id": "dac59139-2df6-4f68-9db9-a6b0c3ec4b2e",
   "metadata": {},
   "outputs": [],
   "source": [
    "# Import partial mriqcrp data\n",
    "mriqcrp10301 <- read_delim(\"./ABCD_Data/mriqcrp10301.txt\", \n",
    "                           delim = \"\\t\", \n",
    "                           escape_double = FALSE, \n",
    "                           col_types = \"c\", \n",
    "                           trim_ws = TRUE, \n",
    "                           na = c(\"\", \"NA\"))[-1,]\n",
    "\n",
    "mriqcrp20301 <- read_delim(\"./ABCD_Data/mriqcrp20301.txt\", \n",
    "                           delim = \"\\t\", \n",
    "                           escape_double = FALSE, \n",
    "                           col_types = \"c\", \n",
    "                           trim_ws = TRUE, \n",
    "                           na = c(\"\", \"NA\"))[-1,]\n",
    "\n",
    "mriqcrp302 <- read_delim(\"./ABCD_Data/mriqcrp302.txt\", \n",
    "                         delim = \"\\t\", \n",
    "                         escape_double = FALSE, \n",
    "                         col_types = \"c\", \n",
    "                         trim_ws = TRUE, \n",
    "                         na = c(\"\", \"NA\"))[-1,]"
   ]
  },
  {
   "cell_type": "code",
   "execution_count": null,
   "id": "8e714155-c53f-4fb1-bad1-4c5da91c2e60",
   "metadata": {},
   "outputs": [],
   "source": [
    "# Load partial mriqcrp data and join\n",
    "\n",
    "mriqcrp10301 <- mriqcrp10301 %>%\n",
    "    filter(eventname %in% c(\"baseline_year_1_arm_1\", \"1_year_follow_up_y_arm_1\", \"2_year_follow_up_y_arm_1\")) %>%\n",
    "    select(c(subjectkey, starts_with(\"iqc\")))\n",
    "\n",
    "mriqcrp20301 <- mriqcrp20301 %>%\n",
    "    filter(eventname %in% c(\"baseline_year_1_arm_1\", \"1_year_follow_up_y_arm_1\", \"2_year_follow_up_y_arm_1\")) %>%\n",
    "    select(c(subjectkey, starts_with(\"iqc\")))\n",
    "\n",
    "mriqcrp302 <- mriqcrp302 %>%\n",
    "    filter(eventname %in% c(\"baseline_year_1_arm_1\", \"1_year_follow_up_y_arm_1\", \"2_year_follow_up_y_arm_1\")) %>%\n",
    "    select(c(subjectkey, starts_with(\"iqc\")))\n",
    "\n",
    "mriqcrp <- mriqcrp10301 %>%\n",
    "    full_join(mriqcrp20301, by=c(\"subjectkey\"=\"subjectkey\")) %>%\n",
    "    full_join(mriqcrp302, by=c(\"subjectkey\"=\"subjectkey\"))"
   ]
  },
  {
   "cell_type": "code",
   "execution_count": null,
   "id": "250443b7-e9e5-4263-8cd3-d8b053ec3bf6",
   "metadata": {},
   "outputs": [],
   "source": [
    "# Create a sMRI_mriqcrp subset\n",
    "sMRI_mriqcrp <- mriqcrp %>%\n",
    "    select(c(subjectkey, starts_with(\"iqc_t1_\"), starts_with(\"iqc_t2_\"))) %>%\n",
    "    select(-c(ends_with(\"sub_02\"), ends_with(\"seriestime\"), ends_with(\"studydate\"), ends_with(\"seuid\"), ends_with(\"suid\"))) %>%\n",
    "    select(-matches(\"iqc_t1_\\\\d_.{0,}|iqc_t2_\\\\d_.{0,}\"))%>%\n",
    "    mutate_at(., vars(contains(\"iqc_t\")), as.numeric) %>%\n",
    "    group_by(subjectkey) %>%\n",
    "    summarise_at(., vars(contains(\"iqc_t\")), mean, na.rm=T)\n",
    "\n",
    "dim(sMRI_mriqcrp)\n",
    "head(sMRI_mriqcrp)"
   ]
  },
  {
   "cell_type": "code",
   "execution_count": null,
   "id": "7e5bbd68-de6b-4f9a-820a-8685b658957e",
   "metadata": {},
   "outputs": [],
   "source": [
    "# Save sMRI_mriqcrp, remove intermediate files\n",
    "saveRDS(sMRI_mriqcrp, file=\"./CSI/Preprocessed/sMRI_mriqcrp.rds\")\n",
    "rm(mriqcrp, mriqcrp10301, mriqcrp20301, mriqcrp302)"
   ]
  },
  {
   "cell_type": "markdown",
   "id": "ac20c055-6c12-4094-8c56-9dfcf9982350",
   "metadata": {},
   "source": [
    "### Automated Post-Processing QC Metrics: _postqc_"
   ]
  },
  {
   "cell_type": "code",
   "execution_count": null,
   "id": "ae0d2526-feeb-45c0-b3a4-1da91b8f67d9",
   "metadata": {},
   "outputs": [],
   "source": [
    "# Import partial postqc data\n",
    "postqc01 <- read_delim(\"./ABCD_Data/abcd_auto_postqc01.txt\", \n",
    "                           delim = \"\\t\", \n",
    "                           escape_double = FALSE, \n",
    "                           col_types = \"c\", \n",
    "                           trim_ws = TRUE, \n",
    "                           na = c(\"\", \"NA\"))[-1,]"
   ]
  },
  {
   "cell_type": "code",
   "execution_count": null,
   "id": "16a33cae-7223-4d66-9115-739c44b64ba0",
   "metadata": {},
   "outputs": [],
   "source": [
    "# Create a sMRI_postqc subset\n",
    "sMRI_postqc <- postqc01 %>%\n",
    "    filter(eventname %in% c(\"baseline_year_1_arm_1\", \"1_year_follow_up_y_arm_1\", \"2_year_follow_up_y_arm_1\")) %>%\n",
    "    select(c(subjectkey, starts_with(\"apqc_smri_\"))) %>%\n",
    "    mutate_at(., vars(starts_with(\"apqc_smri_\")), as.numeric) %>%\n",
    "    group_by(subjectkey) %>%\n",
    "    summarise_at(., vars(starts_with(\"apqc_smri_\")), mean, na.rm=T)\n",
    "\n",
    "dim(sMRI_postqc)\n",
    "head(sMRI_postqc)"
   ]
  },
  {
   "cell_type": "code",
   "execution_count": null,
   "id": "29d4e6f0-6bf3-4ec4-bfb2-db40b8aa9743",
   "metadata": {},
   "outputs": [],
   "source": [
    "# Save sMRI_postqc, remove intermediate files\n",
    "saveRDS(sMRI_postqc, file=\"./CSI/Preprocessed/sMRI_postqc.rds\")\n",
    "rm(postqc01)"
   ]
  },
  {
   "cell_type": "markdown",
   "id": "0aefa7f3-371e-4698-8058-9c4d1e0b9e34",
   "metadata": {},
   "source": [
    "### ABCD sMRI T2w Post Processing QC: _t2wqc_"
   ]
  },
  {
   "cell_type": "code",
   "execution_count": null,
   "id": "4871829c-35b1-4c0b-852a-2d98c055d5f1",
   "metadata": {},
   "outputs": [],
   "source": [
    "# Import partial t2wqc data\n",
    "abcd_t2wqc01 <- read_delim(\"./ABCD_Data/abcd_t2wqc01.txt\", \n",
    "                           delim = \"\\t\", \n",
    "                           escape_double = FALSE, \n",
    "                           col_types = \"c\", \n",
    "                           trim_ws = TRUE, \n",
    "                           na = c(\"\", \"NA\"))[-1,]"
   ]
  },
  {
   "cell_type": "code",
   "execution_count": null,
   "id": "0f4a2bec-08bd-4a6f-8858-75c75cdc7bd1",
   "metadata": {},
   "outputs": [],
   "source": [
    "# Create a t2wqc subset\n",
    "\n",
    "t2wqc <- abcd_t2wqc01 %>%\n",
    "    filter(eventname %in% c(\"baseline_year_1_arm_1\", \"1_year_follow_up_y_arm_1\", \"2_year_follow_up_y_arm_1\")) %>%\n",
    "    select(c(subjectkey, starts_with(\"t2w_postqc_\"))) %>%\n",
    "    mutate_at(., vars(starts_with(\"t2w_postqc_\")), as.numeric) %>%\n",
    "    group_by(subjectkey) %>%\n",
    "    summarise_at(., vars(starts_with(\"t2w_postqc_\")), mean, na.rm=T)\n",
    "\n",
    "dim(t2wqc)\n",
    "head(t2wqc)"
   ]
  },
  {
   "cell_type": "code",
   "execution_count": null,
   "id": "b4e5b8b3-fe4c-43ef-b883-e293ee666937",
   "metadata": {},
   "outputs": [],
   "source": [
    "# Save t2wqc, remove intermediate files\n",
    "saveRDS(t2wqc, file=\"./CSI/Preprocessed/t2wqc.rds\")\n",
    "rm(abcd_t2wqc01)"
   ]
  },
  {
   "cell_type": "markdown",
   "id": "9631bcea-6dd5-4f12-a6ee-bc29b1f721ba",
   "metadata": {},
   "source": [
    "### Remove high missingness"
   ]
  },
  {
   "cell_type": "code",
   "execution_count": null,
   "id": "74b27cb3-ae58-4690-91a8-02715f8806b3",
   "metadata": {},
   "outputs": [],
   "source": [
    "# Count Infinities, NAs, and NaNs per variable\n",
    "NAs_mrisdp <- apply(mrisdp, 2, function(x) {sum(is.na(x)|is.nan(x))/length(x)})\n",
    "INFs_mrisdp <- apply(mrisdp, 2, function(x) {is.infinite(x)/length(x)})\n",
    "\n",
    "NAs_smrip <- apply(smrip, 2, function(x) {sum(is.na(x)|is.nan(x))/length(x)})\n",
    "INFs_smrip <- apply(smrip, 2, function(x) {is.infinite(x)/length(x)})\n",
    "\n",
    "NAs_sMRI_mriqcrp <- apply(sMRI_mriqcrp, 2, function(x) {sum(is.na(x)|is.nan(x))/length(x)})\n",
    "INFs_sMRI_mriqcrp <- apply(sMRI_mriqcrp, 2, function(x) {is.infinite(x)/length(x)})\n",
    "\n",
    "NAs_sMRI_postqc <- apply(sMRI_postqc, 2, function(x) {sum(is.na(x)|is.nan(x))/length(x)})\n",
    "INFs_sMRI_postqc <- apply(sMRI_postqc, 2, function(x) {is.infinite(x)/length(x)})\n",
    "\n",
    "NAs_t2wqc <- apply(t2wqc, 2, function(x) {sum(is.na(x)|is.nan(x))/length(x)})\n",
    "INFs_t2wqc <- apply(t2wqc, 2, function(x) {is.infinite(x)/length(x)})"
   ]
  },
  {
   "cell_type": "code",
   "execution_count": null,
   "id": "66aea400-d59b-4248-a1ec-f882281a3f44",
   "metadata": {},
   "outputs": [],
   "source": [
    "# Max missingness\n",
    "cat(\"NAs_mrisdp: \", round(max(NAs_mrisdp), 3),\n",
    "   \"\\nINFs_mrisdp: \", round(max(INFs_mrisdp), 3),\n",
    "    \n",
    "   \"\\n\\nNAs_smrip: \", round(max(NAs_smrip), 3),\n",
    "   \"\\nINFs_smrip: \", round(max(INFs_smrip), 3),\n",
    "    \n",
    "   \"\\n\\nNAs_sMRI_mriqcrp: \", round(max(NAs_sMRI_mriqcrp), 3),\n",
    "   \"\\nINFs_sMRI_mriqcrp: \", round(max(INFs_sMRI_mriqcrp), 3),\n",
    "    \n",
    "   \"\\n\\nNAs_sMRI_postqc: \", round(max(NAs_sMRI_postqc), 3),\n",
    "   \"\\nINFs_sMRI_postqc: \", round(max(INFs_sMRI_postqc), 3),\n",
    "   \n",
    "   \"\\n\\nNAs_t2wqc: \", round(max(NAs_t2wqc), 3),\n",
    "   \"\\nINFs_t2wqc: \", round(max(INFs_t2wqc), 3))"
   ]
  },
  {
   "cell_type": "code",
   "execution_count": null,
   "id": "78770821-54f8-4ae9-aef0-917f9de2637d",
   "metadata": {},
   "outputs": [],
   "source": [
    "# Remove columns with high rates of NAs\n",
    "\n",
    "sMRI_mriqcrp <- sMRI_mriqcrp[!colSums(is.na(sMRI_mriqcrp)) > 0.1]\n",
    "t2wqc <- t2wqc[!colSums(is.na(t2wqc)) > 0.1]\n",
    "\n",
    "NAs_sMRI_mriqcrp <- apply(sMRI_mriqcrp, 2, function(x) {sum(is.na(x)|is.nan(x))/length(x)})\n",
    "NAs_t2wqc <- apply(t2wqc, 2, function(x) {sum(is.na(x)|is.nan(x))/length(x)})\n",
    "\n",
    "cat(\"NAs_sMRI_mriqcrp: \", round(max(NAs_sMRI_mriqcrp), 3),    \n",
    "   \"\\nNAs_t2wqc: \", round(max(NAs_t2wqc), 3))"
   ]
  },
  {
   "cell_type": "markdown",
   "id": "2e0cfd67-a45c-4f22-9dca-2fd246767378",
   "metadata": {},
   "source": [
    "### Combine and process datasets"
   ]
  },
  {
   "cell_type": "code",
   "execution_count": null,
   "id": "68ed6df8-a71e-459a-a63f-595bd6320224",
   "metadata": {},
   "outputs": [],
   "source": [
    "# Calculate number of predictors for all datasets\n",
    "\n",
    "cat(\"mrisdp:\", dim(mrisdp)[2]-1,\n",
    "    \"\\nsmrip:\", dim(smrip)[2]-1,\n",
    "    \"\\nsMRI_mriqcrp:\", dim(sMRI_mriqcrp)[2]-1,\n",
    "    \"\\nsMRI_postqc:\", dim(sMRI_postqc)[2]-1,\n",
    "    \"\\nt2wqc:\", dim(t2wqc)[2]-1)"
   ]
  },
  {
   "cell_type": "code",
   "execution_count": null,
   "id": "2fd42bdf-6b23-484f-afc3-f8557f494583",
   "metadata": {},
   "outputs": [],
   "source": [
    "# Combine non-qc and qc frames\n",
    "sk <- purrr::reduce(list(mrisdp$subjectkey, smrip$subjectkey, sMRI_mriqcrp$subjectkey, sMRI_postqc$subjectkey, t2wqc$subjectkey), union)\n",
    "\n",
    "sMRI <- data.frame(subjectkey = sk) %>%\n",
    "    full_join(mrisdp, by=c(\"subjectkey\"=\"subjectkey\")) %>%\n",
    "    full_join(smrip, by=c(\"subjectkey\"=\"subjectkey\")) %>%\n",
    "    full_join(sMRI_mriqcrp, by=c(\"subjectkey\"=\"subjectkey\")) %>%\n",
    "    full_join(sMRI_postqc, by=c(\"subjectkey\"=\"subjectkey\")) %>%\n",
    "    full_join(t2wqc, by=c(\"subjectkey\"=\"subjectkey\"))\n",
    "\n",
    "sum(is.na(sMRI))"
   ]
  },
  {
   "cell_type": "code",
   "execution_count": null,
   "id": "06a4b196-289d-4f03-9a55-e42e44d6163c",
   "metadata": {},
   "outputs": [],
   "source": [
    "# Mean impute sMRI\n",
    "for(i in 2:ncol(sMRI)){\n",
    "  sMRI[is.na(sMRI[,i]), i] <- mean(sMRI[,i], na.rm = TRUE)\n",
    "}\n",
    "\n",
    "sum(is.na(sMRI))"
   ]
  },
  {
   "cell_type": "code",
   "execution_count": null,
   "id": "d83f62c4-ad47-4e88-ac07-fa3f97e0d27d",
   "metadata": {},
   "outputs": [],
   "source": [
    "# Remove variables with range of 0\n",
    "Range <- apply(sMRI[,-1], 2, function(x) {range(x)[2]-range(x)[1]})\n",
    "sMRI <- sMRI %>% select(-names(Range[Range==0]))\n",
    "\n",
    "dim(sMRI)\n",
    "head(sMRI)"
   ]
  },
  {
   "cell_type": "code",
   "execution_count": null,
   "id": "980c4288-5c84-4012-b085-4893c8008ddd",
   "metadata": {},
   "outputs": [],
   "source": [
    "# Range-normalize data\n",
    "sMRI[,-1] <- apply(sMRI[,-1], 2, function(x) {(x - min(x))/(max(x) - min(x))})\n",
    "sum(is.na(sMRI))\n",
    "\n",
    "dim(sMRI)\n",
    "head(sMRI)"
   ]
  },
  {
   "cell_type": "code",
   "execution_count": null,
   "id": "455f8282-bebd-4952-bb9e-c1325e248459",
   "metadata": {},
   "outputs": [],
   "source": [
    "# Remove variables with low variances\n",
    "Vars <- apply(sMRI[,-1], 2, function(x) {var(x)})\n",
    "sMRI <- sMRI %>% select(-names(Vars[Vars<0.001]))\n",
    "\n",
    "dim(sMRI)\n",
    "head(sMRI)"
   ]
  },
  {
   "cell_type": "code",
   "execution_count": null,
   "id": "b41e9f7d-bf15-44e7-8e95-ecc79323a78a",
   "metadata": {},
   "outputs": [],
   "source": [
    "# Save data\n",
    "saveRDS(sMRI, file=\"./CSI/Preprocessed/kernel_sMRI.rds\")"
   ]
  }
 ],
 "metadata": {
  "kernelspec": {
   "display_name": "UFRC R-4.0",
   "language": "R",
   "name": "ir-ufrc-4.0"
  },
  "language_info": {
   "codemirror_mode": "r",
   "file_extension": ".r",
   "mimetype": "text/x-r-source",
   "name": "R",
   "pygments_lexer": "r",
   "version": "4.0.5"
  }
 },
 "nbformat": 4,
 "nbformat_minor": 5
}
